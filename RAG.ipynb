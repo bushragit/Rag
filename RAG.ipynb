{
  "nbformat": 4,
  "nbformat_minor": 0,
  "metadata": {
    "colab": {
      "provenance": [],
      "authorship_tag": "ABX9TyPKLyyPt9TGCfNno7mo6szF",
      "include_colab_link": true
    },
    "kernelspec": {
      "name": "python3",
      "display_name": "Python 3"
    },
    "language_info": {
      "name": "python"
    },
    "widgets": {
      "application/vnd.jupyter.widget-state+json": {
        "400b541a012042daa14684d0309e9659": {
          "model_module": "@jupyter-widgets/controls",
          "model_name": "HBoxModel",
          "model_module_version": "1.5.0",
          "state": {
            "_dom_classes": [],
            "_model_module": "@jupyter-widgets/controls",
            "_model_module_version": "1.5.0",
            "_model_name": "HBoxModel",
            "_view_count": null,
            "_view_module": "@jupyter-widgets/controls",
            "_view_module_version": "1.5.0",
            "_view_name": "HBoxView",
            "box_style": "",
            "children": [
              "IPY_MODEL_e64ae2c5abf648dfb2fd4a0aafbf3383",
              "IPY_MODEL_ae57e69a276d48e2a0bb649ef2a93c25",
              "IPY_MODEL_b9e44c8b89b34f4984f9ec3d951b548d"
            ],
            "layout": "IPY_MODEL_58e0fb4aa7794fe69b87f82cd017d44c"
          }
        },
        "e64ae2c5abf648dfb2fd4a0aafbf3383": {
          "model_module": "@jupyter-widgets/controls",
          "model_name": "HTMLModel",
          "model_module_version": "1.5.0",
          "state": {
            "_dom_classes": [],
            "_model_module": "@jupyter-widgets/controls",
            "_model_module_version": "1.5.0",
            "_model_name": "HTMLModel",
            "_view_count": null,
            "_view_module": "@jupyter-widgets/controls",
            "_view_module_version": "1.5.0",
            "_view_name": "HTMLView",
            "description": "",
            "description_tooltip": null,
            "layout": "IPY_MODEL_2d86b253109d4018826a7c6c3c393f2d",
            "placeholder": "​",
            "style": "IPY_MODEL_8c597d39a5c94db294d511be59a13416",
            "value": "modules.json: 100%"
          }
        },
        "ae57e69a276d48e2a0bb649ef2a93c25": {
          "model_module": "@jupyter-widgets/controls",
          "model_name": "FloatProgressModel",
          "model_module_version": "1.5.0",
          "state": {
            "_dom_classes": [],
            "_model_module": "@jupyter-widgets/controls",
            "_model_module_version": "1.5.0",
            "_model_name": "FloatProgressModel",
            "_view_count": null,
            "_view_module": "@jupyter-widgets/controls",
            "_view_module_version": "1.5.0",
            "_view_name": "ProgressView",
            "bar_style": "success",
            "description": "",
            "description_tooltip": null,
            "layout": "IPY_MODEL_6b71bb42e72c4431bdd31aa230ee63fb",
            "max": 349,
            "min": 0,
            "orientation": "horizontal",
            "style": "IPY_MODEL_daf6ccd48eb94c4c8c8d0ea414e2eabe",
            "value": 349
          }
        },
        "b9e44c8b89b34f4984f9ec3d951b548d": {
          "model_module": "@jupyter-widgets/controls",
          "model_name": "HTMLModel",
          "model_module_version": "1.5.0",
          "state": {
            "_dom_classes": [],
            "_model_module": "@jupyter-widgets/controls",
            "_model_module_version": "1.5.0",
            "_model_name": "HTMLModel",
            "_view_count": null,
            "_view_module": "@jupyter-widgets/controls",
            "_view_module_version": "1.5.0",
            "_view_name": "HTMLView",
            "description": "",
            "description_tooltip": null,
            "layout": "IPY_MODEL_2bf918bdfebf4091b4177392fa33ef5b",
            "placeholder": "​",
            "style": "IPY_MODEL_17d6c63e4b9644d18338b7f683180145",
            "value": " 349/349 [00:00&lt;00:00, 14.5kB/s]"
          }
        },
        "58e0fb4aa7794fe69b87f82cd017d44c": {
          "model_module": "@jupyter-widgets/base",
          "model_name": "LayoutModel",
          "model_module_version": "1.2.0",
          "state": {
            "_model_module": "@jupyter-widgets/base",
            "_model_module_version": "1.2.0",
            "_model_name": "LayoutModel",
            "_view_count": null,
            "_view_module": "@jupyter-widgets/base",
            "_view_module_version": "1.2.0",
            "_view_name": "LayoutView",
            "align_content": null,
            "align_items": null,
            "align_self": null,
            "border": null,
            "bottom": null,
            "display": null,
            "flex": null,
            "flex_flow": null,
            "grid_area": null,
            "grid_auto_columns": null,
            "grid_auto_flow": null,
            "grid_auto_rows": null,
            "grid_column": null,
            "grid_gap": null,
            "grid_row": null,
            "grid_template_areas": null,
            "grid_template_columns": null,
            "grid_template_rows": null,
            "height": null,
            "justify_content": null,
            "justify_items": null,
            "left": null,
            "margin": null,
            "max_height": null,
            "max_width": null,
            "min_height": null,
            "min_width": null,
            "object_fit": null,
            "object_position": null,
            "order": null,
            "overflow": null,
            "overflow_x": null,
            "overflow_y": null,
            "padding": null,
            "right": null,
            "top": null,
            "visibility": null,
            "width": null
          }
        },
        "2d86b253109d4018826a7c6c3c393f2d": {
          "model_module": "@jupyter-widgets/base",
          "model_name": "LayoutModel",
          "model_module_version": "1.2.0",
          "state": {
            "_model_module": "@jupyter-widgets/base",
            "_model_module_version": "1.2.0",
            "_model_name": "LayoutModel",
            "_view_count": null,
            "_view_module": "@jupyter-widgets/base",
            "_view_module_version": "1.2.0",
            "_view_name": "LayoutView",
            "align_content": null,
            "align_items": null,
            "align_self": null,
            "border": null,
            "bottom": null,
            "display": null,
            "flex": null,
            "flex_flow": null,
            "grid_area": null,
            "grid_auto_columns": null,
            "grid_auto_flow": null,
            "grid_auto_rows": null,
            "grid_column": null,
            "grid_gap": null,
            "grid_row": null,
            "grid_template_areas": null,
            "grid_template_columns": null,
            "grid_template_rows": null,
            "height": null,
            "justify_content": null,
            "justify_items": null,
            "left": null,
            "margin": null,
            "max_height": null,
            "max_width": null,
            "min_height": null,
            "min_width": null,
            "object_fit": null,
            "object_position": null,
            "order": null,
            "overflow": null,
            "overflow_x": null,
            "overflow_y": null,
            "padding": null,
            "right": null,
            "top": null,
            "visibility": null,
            "width": null
          }
        },
        "8c597d39a5c94db294d511be59a13416": {
          "model_module": "@jupyter-widgets/controls",
          "model_name": "DescriptionStyleModel",
          "model_module_version": "1.5.0",
          "state": {
            "_model_module": "@jupyter-widgets/controls",
            "_model_module_version": "1.5.0",
            "_model_name": "DescriptionStyleModel",
            "_view_count": null,
            "_view_module": "@jupyter-widgets/base",
            "_view_module_version": "1.2.0",
            "_view_name": "StyleView",
            "description_width": ""
          }
        },
        "6b71bb42e72c4431bdd31aa230ee63fb": {
          "model_module": "@jupyter-widgets/base",
          "model_name": "LayoutModel",
          "model_module_version": "1.2.0",
          "state": {
            "_model_module": "@jupyter-widgets/base",
            "_model_module_version": "1.2.0",
            "_model_name": "LayoutModel",
            "_view_count": null,
            "_view_module": "@jupyter-widgets/base",
            "_view_module_version": "1.2.0",
            "_view_name": "LayoutView",
            "align_content": null,
            "align_items": null,
            "align_self": null,
            "border": null,
            "bottom": null,
            "display": null,
            "flex": null,
            "flex_flow": null,
            "grid_area": null,
            "grid_auto_columns": null,
            "grid_auto_flow": null,
            "grid_auto_rows": null,
            "grid_column": null,
            "grid_gap": null,
            "grid_row": null,
            "grid_template_areas": null,
            "grid_template_columns": null,
            "grid_template_rows": null,
            "height": null,
            "justify_content": null,
            "justify_items": null,
            "left": null,
            "margin": null,
            "max_height": null,
            "max_width": null,
            "min_height": null,
            "min_width": null,
            "object_fit": null,
            "object_position": null,
            "order": null,
            "overflow": null,
            "overflow_x": null,
            "overflow_y": null,
            "padding": null,
            "right": null,
            "top": null,
            "visibility": null,
            "width": null
          }
        },
        "daf6ccd48eb94c4c8c8d0ea414e2eabe": {
          "model_module": "@jupyter-widgets/controls",
          "model_name": "ProgressStyleModel",
          "model_module_version": "1.5.0",
          "state": {
            "_model_module": "@jupyter-widgets/controls",
            "_model_module_version": "1.5.0",
            "_model_name": "ProgressStyleModel",
            "_view_count": null,
            "_view_module": "@jupyter-widgets/base",
            "_view_module_version": "1.2.0",
            "_view_name": "StyleView",
            "bar_color": null,
            "description_width": ""
          }
        },
        "2bf918bdfebf4091b4177392fa33ef5b": {
          "model_module": "@jupyter-widgets/base",
          "model_name": "LayoutModel",
          "model_module_version": "1.2.0",
          "state": {
            "_model_module": "@jupyter-widgets/base",
            "_model_module_version": "1.2.0",
            "_model_name": "LayoutModel",
            "_view_count": null,
            "_view_module": "@jupyter-widgets/base",
            "_view_module_version": "1.2.0",
            "_view_name": "LayoutView",
            "align_content": null,
            "align_items": null,
            "align_self": null,
            "border": null,
            "bottom": null,
            "display": null,
            "flex": null,
            "flex_flow": null,
            "grid_area": null,
            "grid_auto_columns": null,
            "grid_auto_flow": null,
            "grid_auto_rows": null,
            "grid_column": null,
            "grid_gap": null,
            "grid_row": null,
            "grid_template_areas": null,
            "grid_template_columns": null,
            "grid_template_rows": null,
            "height": null,
            "justify_content": null,
            "justify_items": null,
            "left": null,
            "margin": null,
            "max_height": null,
            "max_width": null,
            "min_height": null,
            "min_width": null,
            "object_fit": null,
            "object_position": null,
            "order": null,
            "overflow": null,
            "overflow_x": null,
            "overflow_y": null,
            "padding": null,
            "right": null,
            "top": null,
            "visibility": null,
            "width": null
          }
        },
        "17d6c63e4b9644d18338b7f683180145": {
          "model_module": "@jupyter-widgets/controls",
          "model_name": "DescriptionStyleModel",
          "model_module_version": "1.5.0",
          "state": {
            "_model_module": "@jupyter-widgets/controls",
            "_model_module_version": "1.5.0",
            "_model_name": "DescriptionStyleModel",
            "_view_count": null,
            "_view_module": "@jupyter-widgets/base",
            "_view_module_version": "1.2.0",
            "_view_name": "StyleView",
            "description_width": ""
          }
        },
        "0155cc4b4fa54bcd930515ad30f8dc94": {
          "model_module": "@jupyter-widgets/controls",
          "model_name": "HBoxModel",
          "model_module_version": "1.5.0",
          "state": {
            "_dom_classes": [],
            "_model_module": "@jupyter-widgets/controls",
            "_model_module_version": "1.5.0",
            "_model_name": "HBoxModel",
            "_view_count": null,
            "_view_module": "@jupyter-widgets/controls",
            "_view_module_version": "1.5.0",
            "_view_name": "HBoxView",
            "box_style": "",
            "children": [
              "IPY_MODEL_c963331c3e4c40afb4f5b9b68f83c534",
              "IPY_MODEL_4f09781684474ea682c58b0e4dc59480",
              "IPY_MODEL_aa279c7a21a84a7284ed5f2b4775a61b"
            ],
            "layout": "IPY_MODEL_87df43c7f36543d5b6be90d6d2b7a573"
          }
        },
        "c963331c3e4c40afb4f5b9b68f83c534": {
          "model_module": "@jupyter-widgets/controls",
          "model_name": "HTMLModel",
          "model_module_version": "1.5.0",
          "state": {
            "_dom_classes": [],
            "_model_module": "@jupyter-widgets/controls",
            "_model_module_version": "1.5.0",
            "_model_name": "HTMLModel",
            "_view_count": null,
            "_view_module": "@jupyter-widgets/controls",
            "_view_module_version": "1.5.0",
            "_view_name": "HTMLView",
            "description": "",
            "description_tooltip": null,
            "layout": "IPY_MODEL_e02b54fe9b47479ca7841680acae1129",
            "placeholder": "​",
            "style": "IPY_MODEL_05e0ea1eec874d68b3a4691959d9c5f8",
            "value": "config_sentence_transformers.json: 100%"
          }
        },
        "4f09781684474ea682c58b0e4dc59480": {
          "model_module": "@jupyter-widgets/controls",
          "model_name": "FloatProgressModel",
          "model_module_version": "1.5.0",
          "state": {
            "_dom_classes": [],
            "_model_module": "@jupyter-widgets/controls",
            "_model_module_version": "1.5.0",
            "_model_name": "FloatProgressModel",
            "_view_count": null,
            "_view_module": "@jupyter-widgets/controls",
            "_view_module_version": "1.5.0",
            "_view_name": "ProgressView",
            "bar_style": "success",
            "description": "",
            "description_tooltip": null,
            "layout": "IPY_MODEL_c1e7ae213c934a3eb15d3e2811601b4e",
            "max": 124,
            "min": 0,
            "orientation": "horizontal",
            "style": "IPY_MODEL_7e1fa959a196448e8157537132aaa2da",
            "value": 124
          }
        },
        "aa279c7a21a84a7284ed5f2b4775a61b": {
          "model_module": "@jupyter-widgets/controls",
          "model_name": "HTMLModel",
          "model_module_version": "1.5.0",
          "state": {
            "_dom_classes": [],
            "_model_module": "@jupyter-widgets/controls",
            "_model_module_version": "1.5.0",
            "_model_name": "HTMLModel",
            "_view_count": null,
            "_view_module": "@jupyter-widgets/controls",
            "_view_module_version": "1.5.0",
            "_view_name": "HTMLView",
            "description": "",
            "description_tooltip": null,
            "layout": "IPY_MODEL_b1ba88005c40449084560b44117eb7dd",
            "placeholder": "​",
            "style": "IPY_MODEL_075756e7936e47fab5509da75dc309f5",
            "value": " 124/124 [00:00&lt;00:00, 5.48kB/s]"
          }
        },
        "87df43c7f36543d5b6be90d6d2b7a573": {
          "model_module": "@jupyter-widgets/base",
          "model_name": "LayoutModel",
          "model_module_version": "1.2.0",
          "state": {
            "_model_module": "@jupyter-widgets/base",
            "_model_module_version": "1.2.0",
            "_model_name": "LayoutModel",
            "_view_count": null,
            "_view_module": "@jupyter-widgets/base",
            "_view_module_version": "1.2.0",
            "_view_name": "LayoutView",
            "align_content": null,
            "align_items": null,
            "align_self": null,
            "border": null,
            "bottom": null,
            "display": null,
            "flex": null,
            "flex_flow": null,
            "grid_area": null,
            "grid_auto_columns": null,
            "grid_auto_flow": null,
            "grid_auto_rows": null,
            "grid_column": null,
            "grid_gap": null,
            "grid_row": null,
            "grid_template_areas": null,
            "grid_template_columns": null,
            "grid_template_rows": null,
            "height": null,
            "justify_content": null,
            "justify_items": null,
            "left": null,
            "margin": null,
            "max_height": null,
            "max_width": null,
            "min_height": null,
            "min_width": null,
            "object_fit": null,
            "object_position": null,
            "order": null,
            "overflow": null,
            "overflow_x": null,
            "overflow_y": null,
            "padding": null,
            "right": null,
            "top": null,
            "visibility": null,
            "width": null
          }
        },
        "e02b54fe9b47479ca7841680acae1129": {
          "model_module": "@jupyter-widgets/base",
          "model_name": "LayoutModel",
          "model_module_version": "1.2.0",
          "state": {
            "_model_module": "@jupyter-widgets/base",
            "_model_module_version": "1.2.0",
            "_model_name": "LayoutModel",
            "_view_count": null,
            "_view_module": "@jupyter-widgets/base",
            "_view_module_version": "1.2.0",
            "_view_name": "LayoutView",
            "align_content": null,
            "align_items": null,
            "align_self": null,
            "border": null,
            "bottom": null,
            "display": null,
            "flex": null,
            "flex_flow": null,
            "grid_area": null,
            "grid_auto_columns": null,
            "grid_auto_flow": null,
            "grid_auto_rows": null,
            "grid_column": null,
            "grid_gap": null,
            "grid_row": null,
            "grid_template_areas": null,
            "grid_template_columns": null,
            "grid_template_rows": null,
            "height": null,
            "justify_content": null,
            "justify_items": null,
            "left": null,
            "margin": null,
            "max_height": null,
            "max_width": null,
            "min_height": null,
            "min_width": null,
            "object_fit": null,
            "object_position": null,
            "order": null,
            "overflow": null,
            "overflow_x": null,
            "overflow_y": null,
            "padding": null,
            "right": null,
            "top": null,
            "visibility": null,
            "width": null
          }
        },
        "05e0ea1eec874d68b3a4691959d9c5f8": {
          "model_module": "@jupyter-widgets/controls",
          "model_name": "DescriptionStyleModel",
          "model_module_version": "1.5.0",
          "state": {
            "_model_module": "@jupyter-widgets/controls",
            "_model_module_version": "1.5.0",
            "_model_name": "DescriptionStyleModel",
            "_view_count": null,
            "_view_module": "@jupyter-widgets/base",
            "_view_module_version": "1.2.0",
            "_view_name": "StyleView",
            "description_width": ""
          }
        },
        "c1e7ae213c934a3eb15d3e2811601b4e": {
          "model_module": "@jupyter-widgets/base",
          "model_name": "LayoutModel",
          "model_module_version": "1.2.0",
          "state": {
            "_model_module": "@jupyter-widgets/base",
            "_model_module_version": "1.2.0",
            "_model_name": "LayoutModel",
            "_view_count": null,
            "_view_module": "@jupyter-widgets/base",
            "_view_module_version": "1.2.0",
            "_view_name": "LayoutView",
            "align_content": null,
            "align_items": null,
            "align_self": null,
            "border": null,
            "bottom": null,
            "display": null,
            "flex": null,
            "flex_flow": null,
            "grid_area": null,
            "grid_auto_columns": null,
            "grid_auto_flow": null,
            "grid_auto_rows": null,
            "grid_column": null,
            "grid_gap": null,
            "grid_row": null,
            "grid_template_areas": null,
            "grid_template_columns": null,
            "grid_template_rows": null,
            "height": null,
            "justify_content": null,
            "justify_items": null,
            "left": null,
            "margin": null,
            "max_height": null,
            "max_width": null,
            "min_height": null,
            "min_width": null,
            "object_fit": null,
            "object_position": null,
            "order": null,
            "overflow": null,
            "overflow_x": null,
            "overflow_y": null,
            "padding": null,
            "right": null,
            "top": null,
            "visibility": null,
            "width": null
          }
        },
        "7e1fa959a196448e8157537132aaa2da": {
          "model_module": "@jupyter-widgets/controls",
          "model_name": "ProgressStyleModel",
          "model_module_version": "1.5.0",
          "state": {
            "_model_module": "@jupyter-widgets/controls",
            "_model_module_version": "1.5.0",
            "_model_name": "ProgressStyleModel",
            "_view_count": null,
            "_view_module": "@jupyter-widgets/base",
            "_view_module_version": "1.2.0",
            "_view_name": "StyleView",
            "bar_color": null,
            "description_width": ""
          }
        },
        "b1ba88005c40449084560b44117eb7dd": {
          "model_module": "@jupyter-widgets/base",
          "model_name": "LayoutModel",
          "model_module_version": "1.2.0",
          "state": {
            "_model_module": "@jupyter-widgets/base",
            "_model_module_version": "1.2.0",
            "_model_name": "LayoutModel",
            "_view_count": null,
            "_view_module": "@jupyter-widgets/base",
            "_view_module_version": "1.2.0",
            "_view_name": "LayoutView",
            "align_content": null,
            "align_items": null,
            "align_self": null,
            "border": null,
            "bottom": null,
            "display": null,
            "flex": null,
            "flex_flow": null,
            "grid_area": null,
            "grid_auto_columns": null,
            "grid_auto_flow": null,
            "grid_auto_rows": null,
            "grid_column": null,
            "grid_gap": null,
            "grid_row": null,
            "grid_template_areas": null,
            "grid_template_columns": null,
            "grid_template_rows": null,
            "height": null,
            "justify_content": null,
            "justify_items": null,
            "left": null,
            "margin": null,
            "max_height": null,
            "max_width": null,
            "min_height": null,
            "min_width": null,
            "object_fit": null,
            "object_position": null,
            "order": null,
            "overflow": null,
            "overflow_x": null,
            "overflow_y": null,
            "padding": null,
            "right": null,
            "top": null,
            "visibility": null,
            "width": null
          }
        },
        "075756e7936e47fab5509da75dc309f5": {
          "model_module": "@jupyter-widgets/controls",
          "model_name": "DescriptionStyleModel",
          "model_module_version": "1.5.0",
          "state": {
            "_model_module": "@jupyter-widgets/controls",
            "_model_module_version": "1.5.0",
            "_model_name": "DescriptionStyleModel",
            "_view_count": null,
            "_view_module": "@jupyter-widgets/base",
            "_view_module_version": "1.2.0",
            "_view_name": "StyleView",
            "description_width": ""
          }
        },
        "d16012404fec47618a923fe4fb25598a": {
          "model_module": "@jupyter-widgets/controls",
          "model_name": "HBoxModel",
          "model_module_version": "1.5.0",
          "state": {
            "_dom_classes": [],
            "_model_module": "@jupyter-widgets/controls",
            "_model_module_version": "1.5.0",
            "_model_name": "HBoxModel",
            "_view_count": null,
            "_view_module": "@jupyter-widgets/controls",
            "_view_module_version": "1.5.0",
            "_view_name": "HBoxView",
            "box_style": "",
            "children": [
              "IPY_MODEL_e7115b5beafb4dd1b4d93abc316dc1a4",
              "IPY_MODEL_4d8696f486ca46d39c2f9e366b569c93",
              "IPY_MODEL_f9d4259651074cb9a8bcafbd359af48f"
            ],
            "layout": "IPY_MODEL_6feced9e737340468301c3ca5e23511d"
          }
        },
        "e7115b5beafb4dd1b4d93abc316dc1a4": {
          "model_module": "@jupyter-widgets/controls",
          "model_name": "HTMLModel",
          "model_module_version": "1.5.0",
          "state": {
            "_dom_classes": [],
            "_model_module": "@jupyter-widgets/controls",
            "_model_module_version": "1.5.0",
            "_model_name": "HTMLModel",
            "_view_count": null,
            "_view_module": "@jupyter-widgets/controls",
            "_view_module_version": "1.5.0",
            "_view_name": "HTMLView",
            "description": "",
            "description_tooltip": null,
            "layout": "IPY_MODEL_c7bca55408ed4c5abc0043bb787217ba",
            "placeholder": "​",
            "style": "IPY_MODEL_6accf23e217f44fb99c5a4f612c5017d",
            "value": "README.md: 100%"
          }
        },
        "4d8696f486ca46d39c2f9e366b569c93": {
          "model_module": "@jupyter-widgets/controls",
          "model_name": "FloatProgressModel",
          "model_module_version": "1.5.0",
          "state": {
            "_dom_classes": [],
            "_model_module": "@jupyter-widgets/controls",
            "_model_module_version": "1.5.0",
            "_model_name": "FloatProgressModel",
            "_view_count": null,
            "_view_module": "@jupyter-widgets/controls",
            "_view_module_version": "1.5.0",
            "_view_name": "ProgressView",
            "bar_style": "success",
            "description": "",
            "description_tooltip": null,
            "layout": "IPY_MODEL_5c74b7fb94524025b5a900236ef4208d",
            "max": 94783,
            "min": 0,
            "orientation": "horizontal",
            "style": "IPY_MODEL_bde851b73fd44e8c8a508c0cdcda8b30",
            "value": 94783
          }
        },
        "f9d4259651074cb9a8bcafbd359af48f": {
          "model_module": "@jupyter-widgets/controls",
          "model_name": "HTMLModel",
          "model_module_version": "1.5.0",
          "state": {
            "_dom_classes": [],
            "_model_module": "@jupyter-widgets/controls",
            "_model_module_version": "1.5.0",
            "_model_name": "HTMLModel",
            "_view_count": null,
            "_view_module": "@jupyter-widgets/controls",
            "_view_module_version": "1.5.0",
            "_view_name": "HTMLView",
            "description": "",
            "description_tooltip": null,
            "layout": "IPY_MODEL_cc3c57c8c7774114be72522a4eacc437",
            "placeholder": "​",
            "style": "IPY_MODEL_7e754d46afb64cad906591ad3923dedc",
            "value": " 94.8k/94.8k [00:00&lt;00:00, 5.12MB/s]"
          }
        },
        "6feced9e737340468301c3ca5e23511d": {
          "model_module": "@jupyter-widgets/base",
          "model_name": "LayoutModel",
          "model_module_version": "1.2.0",
          "state": {
            "_model_module": "@jupyter-widgets/base",
            "_model_module_version": "1.2.0",
            "_model_name": "LayoutModel",
            "_view_count": null,
            "_view_module": "@jupyter-widgets/base",
            "_view_module_version": "1.2.0",
            "_view_name": "LayoutView",
            "align_content": null,
            "align_items": null,
            "align_self": null,
            "border": null,
            "bottom": null,
            "display": null,
            "flex": null,
            "flex_flow": null,
            "grid_area": null,
            "grid_auto_columns": null,
            "grid_auto_flow": null,
            "grid_auto_rows": null,
            "grid_column": null,
            "grid_gap": null,
            "grid_row": null,
            "grid_template_areas": null,
            "grid_template_columns": null,
            "grid_template_rows": null,
            "height": null,
            "justify_content": null,
            "justify_items": null,
            "left": null,
            "margin": null,
            "max_height": null,
            "max_width": null,
            "min_height": null,
            "min_width": null,
            "object_fit": null,
            "object_position": null,
            "order": null,
            "overflow": null,
            "overflow_x": null,
            "overflow_y": null,
            "padding": null,
            "right": null,
            "top": null,
            "visibility": null,
            "width": null
          }
        },
        "c7bca55408ed4c5abc0043bb787217ba": {
          "model_module": "@jupyter-widgets/base",
          "model_name": "LayoutModel",
          "model_module_version": "1.2.0",
          "state": {
            "_model_module": "@jupyter-widgets/base",
            "_model_module_version": "1.2.0",
            "_model_name": "LayoutModel",
            "_view_count": null,
            "_view_module": "@jupyter-widgets/base",
            "_view_module_version": "1.2.0",
            "_view_name": "LayoutView",
            "align_content": null,
            "align_items": null,
            "align_self": null,
            "border": null,
            "bottom": null,
            "display": null,
            "flex": null,
            "flex_flow": null,
            "grid_area": null,
            "grid_auto_columns": null,
            "grid_auto_flow": null,
            "grid_auto_rows": null,
            "grid_column": null,
            "grid_gap": null,
            "grid_row": null,
            "grid_template_areas": null,
            "grid_template_columns": null,
            "grid_template_rows": null,
            "height": null,
            "justify_content": null,
            "justify_items": null,
            "left": null,
            "margin": null,
            "max_height": null,
            "max_width": null,
            "min_height": null,
            "min_width": null,
            "object_fit": null,
            "object_position": null,
            "order": null,
            "overflow": null,
            "overflow_x": null,
            "overflow_y": null,
            "padding": null,
            "right": null,
            "top": null,
            "visibility": null,
            "width": null
          }
        },
        "6accf23e217f44fb99c5a4f612c5017d": {
          "model_module": "@jupyter-widgets/controls",
          "model_name": "DescriptionStyleModel",
          "model_module_version": "1.5.0",
          "state": {
            "_model_module": "@jupyter-widgets/controls",
            "_model_module_version": "1.5.0",
            "_model_name": "DescriptionStyleModel",
            "_view_count": null,
            "_view_module": "@jupyter-widgets/base",
            "_view_module_version": "1.2.0",
            "_view_name": "StyleView",
            "description_width": ""
          }
        },
        "5c74b7fb94524025b5a900236ef4208d": {
          "model_module": "@jupyter-widgets/base",
          "model_name": "LayoutModel",
          "model_module_version": "1.2.0",
          "state": {
            "_model_module": "@jupyter-widgets/base",
            "_model_module_version": "1.2.0",
            "_model_name": "LayoutModel",
            "_view_count": null,
            "_view_module": "@jupyter-widgets/base",
            "_view_module_version": "1.2.0",
            "_view_name": "LayoutView",
            "align_content": null,
            "align_items": null,
            "align_self": null,
            "border": null,
            "bottom": null,
            "display": null,
            "flex": null,
            "flex_flow": null,
            "grid_area": null,
            "grid_auto_columns": null,
            "grid_auto_flow": null,
            "grid_auto_rows": null,
            "grid_column": null,
            "grid_gap": null,
            "grid_row": null,
            "grid_template_areas": null,
            "grid_template_columns": null,
            "grid_template_rows": null,
            "height": null,
            "justify_content": null,
            "justify_items": null,
            "left": null,
            "margin": null,
            "max_height": null,
            "max_width": null,
            "min_height": null,
            "min_width": null,
            "object_fit": null,
            "object_position": null,
            "order": null,
            "overflow": null,
            "overflow_x": null,
            "overflow_y": null,
            "padding": null,
            "right": null,
            "top": null,
            "visibility": null,
            "width": null
          }
        },
        "bde851b73fd44e8c8a508c0cdcda8b30": {
          "model_module": "@jupyter-widgets/controls",
          "model_name": "ProgressStyleModel",
          "model_module_version": "1.5.0",
          "state": {
            "_model_module": "@jupyter-widgets/controls",
            "_model_module_version": "1.5.0",
            "_model_name": "ProgressStyleModel",
            "_view_count": null,
            "_view_module": "@jupyter-widgets/base",
            "_view_module_version": "1.2.0",
            "_view_name": "StyleView",
            "bar_color": null,
            "description_width": ""
          }
        },
        "cc3c57c8c7774114be72522a4eacc437": {
          "model_module": "@jupyter-widgets/base",
          "model_name": "LayoutModel",
          "model_module_version": "1.2.0",
          "state": {
            "_model_module": "@jupyter-widgets/base",
            "_model_module_version": "1.2.0",
            "_model_name": "LayoutModel",
            "_view_count": null,
            "_view_module": "@jupyter-widgets/base",
            "_view_module_version": "1.2.0",
            "_view_name": "LayoutView",
            "align_content": null,
            "align_items": null,
            "align_self": null,
            "border": null,
            "bottom": null,
            "display": null,
            "flex": null,
            "flex_flow": null,
            "grid_area": null,
            "grid_auto_columns": null,
            "grid_auto_flow": null,
            "grid_auto_rows": null,
            "grid_column": null,
            "grid_gap": null,
            "grid_row": null,
            "grid_template_areas": null,
            "grid_template_columns": null,
            "grid_template_rows": null,
            "height": null,
            "justify_content": null,
            "justify_items": null,
            "left": null,
            "margin": null,
            "max_height": null,
            "max_width": null,
            "min_height": null,
            "min_width": null,
            "object_fit": null,
            "object_position": null,
            "order": null,
            "overflow": null,
            "overflow_x": null,
            "overflow_y": null,
            "padding": null,
            "right": null,
            "top": null,
            "visibility": null,
            "width": null
          }
        },
        "7e754d46afb64cad906591ad3923dedc": {
          "model_module": "@jupyter-widgets/controls",
          "model_name": "DescriptionStyleModel",
          "model_module_version": "1.5.0",
          "state": {
            "_model_module": "@jupyter-widgets/controls",
            "_model_module_version": "1.5.0",
            "_model_name": "DescriptionStyleModel",
            "_view_count": null,
            "_view_module": "@jupyter-widgets/base",
            "_view_module_version": "1.2.0",
            "_view_name": "StyleView",
            "description_width": ""
          }
        },
        "a5c67cd41554442ea9c1a8a7f45f638d": {
          "model_module": "@jupyter-widgets/controls",
          "model_name": "HBoxModel",
          "model_module_version": "1.5.0",
          "state": {
            "_dom_classes": [],
            "_model_module": "@jupyter-widgets/controls",
            "_model_module_version": "1.5.0",
            "_model_name": "HBoxModel",
            "_view_count": null,
            "_view_module": "@jupyter-widgets/controls",
            "_view_module_version": "1.5.0",
            "_view_name": "HBoxView",
            "box_style": "",
            "children": [
              "IPY_MODEL_64dd88a773554077a83ae0fdf171bdcb",
              "IPY_MODEL_2f47cc3b8fe545e9bc8200c98d7695d2",
              "IPY_MODEL_7e57916ba590451cb03e662aaaec0de4"
            ],
            "layout": "IPY_MODEL_a1c200ec81494e3991988a40e6fdec4f"
          }
        },
        "64dd88a773554077a83ae0fdf171bdcb": {
          "model_module": "@jupyter-widgets/controls",
          "model_name": "HTMLModel",
          "model_module_version": "1.5.0",
          "state": {
            "_dom_classes": [],
            "_model_module": "@jupyter-widgets/controls",
            "_model_module_version": "1.5.0",
            "_model_name": "HTMLModel",
            "_view_count": null,
            "_view_module": "@jupyter-widgets/controls",
            "_view_module_version": "1.5.0",
            "_view_name": "HTMLView",
            "description": "",
            "description_tooltip": null,
            "layout": "IPY_MODEL_a2d63394f45140539ea74e1cd5fc0287",
            "placeholder": "​",
            "style": "IPY_MODEL_bea33aedd41e4c0e9aed44c56991bce1",
            "value": "sentence_bert_config.json: 100%"
          }
        },
        "2f47cc3b8fe545e9bc8200c98d7695d2": {
          "model_module": "@jupyter-widgets/controls",
          "model_name": "FloatProgressModel",
          "model_module_version": "1.5.0",
          "state": {
            "_dom_classes": [],
            "_model_module": "@jupyter-widgets/controls",
            "_model_module_version": "1.5.0",
            "_model_name": "FloatProgressModel",
            "_view_count": null,
            "_view_module": "@jupyter-widgets/controls",
            "_view_module_version": "1.5.0",
            "_view_name": "ProgressView",
            "bar_style": "success",
            "description": "",
            "description_tooltip": null,
            "layout": "IPY_MODEL_fb741f4ca7e343e7a256a675b64e9756",
            "max": 52,
            "min": 0,
            "orientation": "horizontal",
            "style": "IPY_MODEL_b0f2a13177a5427894410ab276ca8901",
            "value": 52
          }
        },
        "7e57916ba590451cb03e662aaaec0de4": {
          "model_module": "@jupyter-widgets/controls",
          "model_name": "HTMLModel",
          "model_module_version": "1.5.0",
          "state": {
            "_dom_classes": [],
            "_model_module": "@jupyter-widgets/controls",
            "_model_module_version": "1.5.0",
            "_model_name": "HTMLModel",
            "_view_count": null,
            "_view_module": "@jupyter-widgets/controls",
            "_view_module_version": "1.5.0",
            "_view_name": "HTMLView",
            "description": "",
            "description_tooltip": null,
            "layout": "IPY_MODEL_080739a4feb7457ba89e6d0c83c97d32",
            "placeholder": "​",
            "style": "IPY_MODEL_94b1e8b7cb91400fb55f8d5ee66c9520",
            "value": " 52.0/52.0 [00:00&lt;00:00, 3.10kB/s]"
          }
        },
        "a1c200ec81494e3991988a40e6fdec4f": {
          "model_module": "@jupyter-widgets/base",
          "model_name": "LayoutModel",
          "model_module_version": "1.2.0",
          "state": {
            "_model_module": "@jupyter-widgets/base",
            "_model_module_version": "1.2.0",
            "_model_name": "LayoutModel",
            "_view_count": null,
            "_view_module": "@jupyter-widgets/base",
            "_view_module_version": "1.2.0",
            "_view_name": "LayoutView",
            "align_content": null,
            "align_items": null,
            "align_self": null,
            "border": null,
            "bottom": null,
            "display": null,
            "flex": null,
            "flex_flow": null,
            "grid_area": null,
            "grid_auto_columns": null,
            "grid_auto_flow": null,
            "grid_auto_rows": null,
            "grid_column": null,
            "grid_gap": null,
            "grid_row": null,
            "grid_template_areas": null,
            "grid_template_columns": null,
            "grid_template_rows": null,
            "height": null,
            "justify_content": null,
            "justify_items": null,
            "left": null,
            "margin": null,
            "max_height": null,
            "max_width": null,
            "min_height": null,
            "min_width": null,
            "object_fit": null,
            "object_position": null,
            "order": null,
            "overflow": null,
            "overflow_x": null,
            "overflow_y": null,
            "padding": null,
            "right": null,
            "top": null,
            "visibility": null,
            "width": null
          }
        },
        "a2d63394f45140539ea74e1cd5fc0287": {
          "model_module": "@jupyter-widgets/base",
          "model_name": "LayoutModel",
          "model_module_version": "1.2.0",
          "state": {
            "_model_module": "@jupyter-widgets/base",
            "_model_module_version": "1.2.0",
            "_model_name": "LayoutModel",
            "_view_count": null,
            "_view_module": "@jupyter-widgets/base",
            "_view_module_version": "1.2.0",
            "_view_name": "LayoutView",
            "align_content": null,
            "align_items": null,
            "align_self": null,
            "border": null,
            "bottom": null,
            "display": null,
            "flex": null,
            "flex_flow": null,
            "grid_area": null,
            "grid_auto_columns": null,
            "grid_auto_flow": null,
            "grid_auto_rows": null,
            "grid_column": null,
            "grid_gap": null,
            "grid_row": null,
            "grid_template_areas": null,
            "grid_template_columns": null,
            "grid_template_rows": null,
            "height": null,
            "justify_content": null,
            "justify_items": null,
            "left": null,
            "margin": null,
            "max_height": null,
            "max_width": null,
            "min_height": null,
            "min_width": null,
            "object_fit": null,
            "object_position": null,
            "order": null,
            "overflow": null,
            "overflow_x": null,
            "overflow_y": null,
            "padding": null,
            "right": null,
            "top": null,
            "visibility": null,
            "width": null
          }
        },
        "bea33aedd41e4c0e9aed44c56991bce1": {
          "model_module": "@jupyter-widgets/controls",
          "model_name": "DescriptionStyleModel",
          "model_module_version": "1.5.0",
          "state": {
            "_model_module": "@jupyter-widgets/controls",
            "_model_module_version": "1.5.0",
            "_model_name": "DescriptionStyleModel",
            "_view_count": null,
            "_view_module": "@jupyter-widgets/base",
            "_view_module_version": "1.2.0",
            "_view_name": "StyleView",
            "description_width": ""
          }
        },
        "fb741f4ca7e343e7a256a675b64e9756": {
          "model_module": "@jupyter-widgets/base",
          "model_name": "LayoutModel",
          "model_module_version": "1.2.0",
          "state": {
            "_model_module": "@jupyter-widgets/base",
            "_model_module_version": "1.2.0",
            "_model_name": "LayoutModel",
            "_view_count": null,
            "_view_module": "@jupyter-widgets/base",
            "_view_module_version": "1.2.0",
            "_view_name": "LayoutView",
            "align_content": null,
            "align_items": null,
            "align_self": null,
            "border": null,
            "bottom": null,
            "display": null,
            "flex": null,
            "flex_flow": null,
            "grid_area": null,
            "grid_auto_columns": null,
            "grid_auto_flow": null,
            "grid_auto_rows": null,
            "grid_column": null,
            "grid_gap": null,
            "grid_row": null,
            "grid_template_areas": null,
            "grid_template_columns": null,
            "grid_template_rows": null,
            "height": null,
            "justify_content": null,
            "justify_items": null,
            "left": null,
            "margin": null,
            "max_height": null,
            "max_width": null,
            "min_height": null,
            "min_width": null,
            "object_fit": null,
            "object_position": null,
            "order": null,
            "overflow": null,
            "overflow_x": null,
            "overflow_y": null,
            "padding": null,
            "right": null,
            "top": null,
            "visibility": null,
            "width": null
          }
        },
        "b0f2a13177a5427894410ab276ca8901": {
          "model_module": "@jupyter-widgets/controls",
          "model_name": "ProgressStyleModel",
          "model_module_version": "1.5.0",
          "state": {
            "_model_module": "@jupyter-widgets/controls",
            "_model_module_version": "1.5.0",
            "_model_name": "ProgressStyleModel",
            "_view_count": null,
            "_view_module": "@jupyter-widgets/base",
            "_view_module_version": "1.2.0",
            "_view_name": "StyleView",
            "bar_color": null,
            "description_width": ""
          }
        },
        "080739a4feb7457ba89e6d0c83c97d32": {
          "model_module": "@jupyter-widgets/base",
          "model_name": "LayoutModel",
          "model_module_version": "1.2.0",
          "state": {
            "_model_module": "@jupyter-widgets/base",
            "_model_module_version": "1.2.0",
            "_model_name": "LayoutModel",
            "_view_count": null,
            "_view_module": "@jupyter-widgets/base",
            "_view_module_version": "1.2.0",
            "_view_name": "LayoutView",
            "align_content": null,
            "align_items": null,
            "align_self": null,
            "border": null,
            "bottom": null,
            "display": null,
            "flex": null,
            "flex_flow": null,
            "grid_area": null,
            "grid_auto_columns": null,
            "grid_auto_flow": null,
            "grid_auto_rows": null,
            "grid_column": null,
            "grid_gap": null,
            "grid_row": null,
            "grid_template_areas": null,
            "grid_template_columns": null,
            "grid_template_rows": null,
            "height": null,
            "justify_content": null,
            "justify_items": null,
            "left": null,
            "margin": null,
            "max_height": null,
            "max_width": null,
            "min_height": null,
            "min_width": null,
            "object_fit": null,
            "object_position": null,
            "order": null,
            "overflow": null,
            "overflow_x": null,
            "overflow_y": null,
            "padding": null,
            "right": null,
            "top": null,
            "visibility": null,
            "width": null
          }
        },
        "94b1e8b7cb91400fb55f8d5ee66c9520": {
          "model_module": "@jupyter-widgets/controls",
          "model_name": "DescriptionStyleModel",
          "model_module_version": "1.5.0",
          "state": {
            "_model_module": "@jupyter-widgets/controls",
            "_model_module_version": "1.5.0",
            "_model_name": "DescriptionStyleModel",
            "_view_count": null,
            "_view_module": "@jupyter-widgets/base",
            "_view_module_version": "1.2.0",
            "_view_name": "StyleView",
            "description_width": ""
          }
        },
        "24f27d753dd7455c8e4a8586f192f1cf": {
          "model_module": "@jupyter-widgets/controls",
          "model_name": "HBoxModel",
          "model_module_version": "1.5.0",
          "state": {
            "_dom_classes": [],
            "_model_module": "@jupyter-widgets/controls",
            "_model_module_version": "1.5.0",
            "_model_name": "HBoxModel",
            "_view_count": null,
            "_view_module": "@jupyter-widgets/controls",
            "_view_module_version": "1.5.0",
            "_view_name": "HBoxView",
            "box_style": "",
            "children": [
              "IPY_MODEL_66f49bc0e2b3405a8b63ea927b8af7ec",
              "IPY_MODEL_a99131e388d047dabce041da28921977",
              "IPY_MODEL_97aa25dd91b84bb3a993dc3a40aa03da"
            ],
            "layout": "IPY_MODEL_3179a06cf3a3491e80970aeccd1b7cac"
          }
        },
        "66f49bc0e2b3405a8b63ea927b8af7ec": {
          "model_module": "@jupyter-widgets/controls",
          "model_name": "HTMLModel",
          "model_module_version": "1.5.0",
          "state": {
            "_dom_classes": [],
            "_model_module": "@jupyter-widgets/controls",
            "_model_module_version": "1.5.0",
            "_model_name": "HTMLModel",
            "_view_count": null,
            "_view_module": "@jupyter-widgets/controls",
            "_view_module_version": "1.5.0",
            "_view_name": "HTMLView",
            "description": "",
            "description_tooltip": null,
            "layout": "IPY_MODEL_b9bda33c8b3a4f3db1fd781b89995fdd",
            "placeholder": "​",
            "style": "IPY_MODEL_46774d18300a4da38247ca62cac05ae3",
            "value": "config.json: 100%"
          }
        },
        "a99131e388d047dabce041da28921977": {
          "model_module": "@jupyter-widgets/controls",
          "model_name": "FloatProgressModel",
          "model_module_version": "1.5.0",
          "state": {
            "_dom_classes": [],
            "_model_module": "@jupyter-widgets/controls",
            "_model_module_version": "1.5.0",
            "_model_name": "FloatProgressModel",
            "_view_count": null,
            "_view_module": "@jupyter-widgets/controls",
            "_view_module_version": "1.5.0",
            "_view_name": "ProgressView",
            "bar_style": "success",
            "description": "",
            "description_tooltip": null,
            "layout": "IPY_MODEL_a79dff5d9822491698628259717be761",
            "max": 743,
            "min": 0,
            "orientation": "horizontal",
            "style": "IPY_MODEL_780f40e01fb44df8b211b64f1fd36d63",
            "value": 743
          }
        },
        "97aa25dd91b84bb3a993dc3a40aa03da": {
          "model_module": "@jupyter-widgets/controls",
          "model_name": "HTMLModel",
          "model_module_version": "1.5.0",
          "state": {
            "_dom_classes": [],
            "_model_module": "@jupyter-widgets/controls",
            "_model_module_version": "1.5.0",
            "_model_name": "HTMLModel",
            "_view_count": null,
            "_view_module": "@jupyter-widgets/controls",
            "_view_module_version": "1.5.0",
            "_view_name": "HTMLView",
            "description": "",
            "description_tooltip": null,
            "layout": "IPY_MODEL_1063fce846e748e4b3a7b4574acdea98",
            "placeholder": "​",
            "style": "IPY_MODEL_0145af0f0e574c18bc2d4d98b8180501",
            "value": " 743/743 [00:00&lt;00:00, 43.9kB/s]"
          }
        },
        "3179a06cf3a3491e80970aeccd1b7cac": {
          "model_module": "@jupyter-widgets/base",
          "model_name": "LayoutModel",
          "model_module_version": "1.2.0",
          "state": {
            "_model_module": "@jupyter-widgets/base",
            "_model_module_version": "1.2.0",
            "_model_name": "LayoutModel",
            "_view_count": null,
            "_view_module": "@jupyter-widgets/base",
            "_view_module_version": "1.2.0",
            "_view_name": "LayoutView",
            "align_content": null,
            "align_items": null,
            "align_self": null,
            "border": null,
            "bottom": null,
            "display": null,
            "flex": null,
            "flex_flow": null,
            "grid_area": null,
            "grid_auto_columns": null,
            "grid_auto_flow": null,
            "grid_auto_rows": null,
            "grid_column": null,
            "grid_gap": null,
            "grid_row": null,
            "grid_template_areas": null,
            "grid_template_columns": null,
            "grid_template_rows": null,
            "height": null,
            "justify_content": null,
            "justify_items": null,
            "left": null,
            "margin": null,
            "max_height": null,
            "max_width": null,
            "min_height": null,
            "min_width": null,
            "object_fit": null,
            "object_position": null,
            "order": null,
            "overflow": null,
            "overflow_x": null,
            "overflow_y": null,
            "padding": null,
            "right": null,
            "top": null,
            "visibility": null,
            "width": null
          }
        },
        "b9bda33c8b3a4f3db1fd781b89995fdd": {
          "model_module": "@jupyter-widgets/base",
          "model_name": "LayoutModel",
          "model_module_version": "1.2.0",
          "state": {
            "_model_module": "@jupyter-widgets/base",
            "_model_module_version": "1.2.0",
            "_model_name": "LayoutModel",
            "_view_count": null,
            "_view_module": "@jupyter-widgets/base",
            "_view_module_version": "1.2.0",
            "_view_name": "LayoutView",
            "align_content": null,
            "align_items": null,
            "align_self": null,
            "border": null,
            "bottom": null,
            "display": null,
            "flex": null,
            "flex_flow": null,
            "grid_area": null,
            "grid_auto_columns": null,
            "grid_auto_flow": null,
            "grid_auto_rows": null,
            "grid_column": null,
            "grid_gap": null,
            "grid_row": null,
            "grid_template_areas": null,
            "grid_template_columns": null,
            "grid_template_rows": null,
            "height": null,
            "justify_content": null,
            "justify_items": null,
            "left": null,
            "margin": null,
            "max_height": null,
            "max_width": null,
            "min_height": null,
            "min_width": null,
            "object_fit": null,
            "object_position": null,
            "order": null,
            "overflow": null,
            "overflow_x": null,
            "overflow_y": null,
            "padding": null,
            "right": null,
            "top": null,
            "visibility": null,
            "width": null
          }
        },
        "46774d18300a4da38247ca62cac05ae3": {
          "model_module": "@jupyter-widgets/controls",
          "model_name": "DescriptionStyleModel",
          "model_module_version": "1.5.0",
          "state": {
            "_model_module": "@jupyter-widgets/controls",
            "_model_module_version": "1.5.0",
            "_model_name": "DescriptionStyleModel",
            "_view_count": null,
            "_view_module": "@jupyter-widgets/base",
            "_view_module_version": "1.2.0",
            "_view_name": "StyleView",
            "description_width": ""
          }
        },
        "a79dff5d9822491698628259717be761": {
          "model_module": "@jupyter-widgets/base",
          "model_name": "LayoutModel",
          "model_module_version": "1.2.0",
          "state": {
            "_model_module": "@jupyter-widgets/base",
            "_model_module_version": "1.2.0",
            "_model_name": "LayoutModel",
            "_view_count": null,
            "_view_module": "@jupyter-widgets/base",
            "_view_module_version": "1.2.0",
            "_view_name": "LayoutView",
            "align_content": null,
            "align_items": null,
            "align_self": null,
            "border": null,
            "bottom": null,
            "display": null,
            "flex": null,
            "flex_flow": null,
            "grid_area": null,
            "grid_auto_columns": null,
            "grid_auto_flow": null,
            "grid_auto_rows": null,
            "grid_column": null,
            "grid_gap": null,
            "grid_row": null,
            "grid_template_areas": null,
            "grid_template_columns": null,
            "grid_template_rows": null,
            "height": null,
            "justify_content": null,
            "justify_items": null,
            "left": null,
            "margin": null,
            "max_height": null,
            "max_width": null,
            "min_height": null,
            "min_width": null,
            "object_fit": null,
            "object_position": null,
            "order": null,
            "overflow": null,
            "overflow_x": null,
            "overflow_y": null,
            "padding": null,
            "right": null,
            "top": null,
            "visibility": null,
            "width": null
          }
        },
        "780f40e01fb44df8b211b64f1fd36d63": {
          "model_module": "@jupyter-widgets/controls",
          "model_name": "ProgressStyleModel",
          "model_module_version": "1.5.0",
          "state": {
            "_model_module": "@jupyter-widgets/controls",
            "_model_module_version": "1.5.0",
            "_model_name": "ProgressStyleModel",
            "_view_count": null,
            "_view_module": "@jupyter-widgets/base",
            "_view_module_version": "1.2.0",
            "_view_name": "StyleView",
            "bar_color": null,
            "description_width": ""
          }
        },
        "1063fce846e748e4b3a7b4574acdea98": {
          "model_module": "@jupyter-widgets/base",
          "model_name": "LayoutModel",
          "model_module_version": "1.2.0",
          "state": {
            "_model_module": "@jupyter-widgets/base",
            "_model_module_version": "1.2.0",
            "_model_name": "LayoutModel",
            "_view_count": null,
            "_view_module": "@jupyter-widgets/base",
            "_view_module_version": "1.2.0",
            "_view_name": "LayoutView",
            "align_content": null,
            "align_items": null,
            "align_self": null,
            "border": null,
            "bottom": null,
            "display": null,
            "flex": null,
            "flex_flow": null,
            "grid_area": null,
            "grid_auto_columns": null,
            "grid_auto_flow": null,
            "grid_auto_rows": null,
            "grid_column": null,
            "grid_gap": null,
            "grid_row": null,
            "grid_template_areas": null,
            "grid_template_columns": null,
            "grid_template_rows": null,
            "height": null,
            "justify_content": null,
            "justify_items": null,
            "left": null,
            "margin": null,
            "max_height": null,
            "max_width": null,
            "min_height": null,
            "min_width": null,
            "object_fit": null,
            "object_position": null,
            "order": null,
            "overflow": null,
            "overflow_x": null,
            "overflow_y": null,
            "padding": null,
            "right": null,
            "top": null,
            "visibility": null,
            "width": null
          }
        },
        "0145af0f0e574c18bc2d4d98b8180501": {
          "model_module": "@jupyter-widgets/controls",
          "model_name": "DescriptionStyleModel",
          "model_module_version": "1.5.0",
          "state": {
            "_model_module": "@jupyter-widgets/controls",
            "_model_module_version": "1.5.0",
            "_model_name": "DescriptionStyleModel",
            "_view_count": null,
            "_view_module": "@jupyter-widgets/base",
            "_view_module_version": "1.2.0",
            "_view_name": "StyleView",
            "description_width": ""
          }
        },
        "cefc0338f283489a80e0b30027274036": {
          "model_module": "@jupyter-widgets/controls",
          "model_name": "HBoxModel",
          "model_module_version": "1.5.0",
          "state": {
            "_dom_classes": [],
            "_model_module": "@jupyter-widgets/controls",
            "_model_module_version": "1.5.0",
            "_model_name": "HBoxModel",
            "_view_count": null,
            "_view_module": "@jupyter-widgets/controls",
            "_view_module_version": "1.5.0",
            "_view_name": "HBoxView",
            "box_style": "",
            "children": [
              "IPY_MODEL_8d260abbe4d84860995e819e80ae88b4",
              "IPY_MODEL_6dfd7715ea1c403691340f95cf8f8798",
              "IPY_MODEL_6b992197719540569767adf0af0e0eff"
            ],
            "layout": "IPY_MODEL_a084134c2eae4e5a85e952a843f55989"
          }
        },
        "8d260abbe4d84860995e819e80ae88b4": {
          "model_module": "@jupyter-widgets/controls",
          "model_name": "HTMLModel",
          "model_module_version": "1.5.0",
          "state": {
            "_dom_classes": [],
            "_model_module": "@jupyter-widgets/controls",
            "_model_module_version": "1.5.0",
            "_model_name": "HTMLModel",
            "_view_count": null,
            "_view_module": "@jupyter-widgets/controls",
            "_view_module_version": "1.5.0",
            "_view_name": "HTMLView",
            "description": "",
            "description_tooltip": null,
            "layout": "IPY_MODEL_0b96178191ec498c804056711201eaad",
            "placeholder": "​",
            "style": "IPY_MODEL_2a55f8214ba443b2809bd2c7c998ac4c",
            "value": "model.safetensors: 100%"
          }
        },
        "6dfd7715ea1c403691340f95cf8f8798": {
          "model_module": "@jupyter-widgets/controls",
          "model_name": "FloatProgressModel",
          "model_module_version": "1.5.0",
          "state": {
            "_dom_classes": [],
            "_model_module": "@jupyter-widgets/controls",
            "_model_module_version": "1.5.0",
            "_model_name": "FloatProgressModel",
            "_view_count": null,
            "_view_module": "@jupyter-widgets/controls",
            "_view_module_version": "1.5.0",
            "_view_name": "ProgressView",
            "bar_style": "success",
            "description": "",
            "description_tooltip": null,
            "layout": "IPY_MODEL_78a9f37e188d493e8b74e5b5b3b53159",
            "max": 133466304,
            "min": 0,
            "orientation": "horizontal",
            "style": "IPY_MODEL_55bf8d71d563454bb45c273e11440f5f",
            "value": 133466304
          }
        },
        "6b992197719540569767adf0af0e0eff": {
          "model_module": "@jupyter-widgets/controls",
          "model_name": "HTMLModel",
          "model_module_version": "1.5.0",
          "state": {
            "_dom_classes": [],
            "_model_module": "@jupyter-widgets/controls",
            "_model_module_version": "1.5.0",
            "_model_name": "HTMLModel",
            "_view_count": null,
            "_view_module": "@jupyter-widgets/controls",
            "_view_module_version": "1.5.0",
            "_view_name": "HTMLView",
            "description": "",
            "description_tooltip": null,
            "layout": "IPY_MODEL_08157b1dc0ba4da48f1ef58249e52ad3",
            "placeholder": "​",
            "style": "IPY_MODEL_acf42f7a9d394028a405944164b48723",
            "value": " 133M/133M [00:00&lt;00:00, 242MB/s]"
          }
        },
        "a084134c2eae4e5a85e952a843f55989": {
          "model_module": "@jupyter-widgets/base",
          "model_name": "LayoutModel",
          "model_module_version": "1.2.0",
          "state": {
            "_model_module": "@jupyter-widgets/base",
            "_model_module_version": "1.2.0",
            "_model_name": "LayoutModel",
            "_view_count": null,
            "_view_module": "@jupyter-widgets/base",
            "_view_module_version": "1.2.0",
            "_view_name": "LayoutView",
            "align_content": null,
            "align_items": null,
            "align_self": null,
            "border": null,
            "bottom": null,
            "display": null,
            "flex": null,
            "flex_flow": null,
            "grid_area": null,
            "grid_auto_columns": null,
            "grid_auto_flow": null,
            "grid_auto_rows": null,
            "grid_column": null,
            "grid_gap": null,
            "grid_row": null,
            "grid_template_areas": null,
            "grid_template_columns": null,
            "grid_template_rows": null,
            "height": null,
            "justify_content": null,
            "justify_items": null,
            "left": null,
            "margin": null,
            "max_height": null,
            "max_width": null,
            "min_height": null,
            "min_width": null,
            "object_fit": null,
            "object_position": null,
            "order": null,
            "overflow": null,
            "overflow_x": null,
            "overflow_y": null,
            "padding": null,
            "right": null,
            "top": null,
            "visibility": null,
            "width": null
          }
        },
        "0b96178191ec498c804056711201eaad": {
          "model_module": "@jupyter-widgets/base",
          "model_name": "LayoutModel",
          "model_module_version": "1.2.0",
          "state": {
            "_model_module": "@jupyter-widgets/base",
            "_model_module_version": "1.2.0",
            "_model_name": "LayoutModel",
            "_view_count": null,
            "_view_module": "@jupyter-widgets/base",
            "_view_module_version": "1.2.0",
            "_view_name": "LayoutView",
            "align_content": null,
            "align_items": null,
            "align_self": null,
            "border": null,
            "bottom": null,
            "display": null,
            "flex": null,
            "flex_flow": null,
            "grid_area": null,
            "grid_auto_columns": null,
            "grid_auto_flow": null,
            "grid_auto_rows": null,
            "grid_column": null,
            "grid_gap": null,
            "grid_row": null,
            "grid_template_areas": null,
            "grid_template_columns": null,
            "grid_template_rows": null,
            "height": null,
            "justify_content": null,
            "justify_items": null,
            "left": null,
            "margin": null,
            "max_height": null,
            "max_width": null,
            "min_height": null,
            "min_width": null,
            "object_fit": null,
            "object_position": null,
            "order": null,
            "overflow": null,
            "overflow_x": null,
            "overflow_y": null,
            "padding": null,
            "right": null,
            "top": null,
            "visibility": null,
            "width": null
          }
        },
        "2a55f8214ba443b2809bd2c7c998ac4c": {
          "model_module": "@jupyter-widgets/controls",
          "model_name": "DescriptionStyleModel",
          "model_module_version": "1.5.0",
          "state": {
            "_model_module": "@jupyter-widgets/controls",
            "_model_module_version": "1.5.0",
            "_model_name": "DescriptionStyleModel",
            "_view_count": null,
            "_view_module": "@jupyter-widgets/base",
            "_view_module_version": "1.2.0",
            "_view_name": "StyleView",
            "description_width": ""
          }
        },
        "78a9f37e188d493e8b74e5b5b3b53159": {
          "model_module": "@jupyter-widgets/base",
          "model_name": "LayoutModel",
          "model_module_version": "1.2.0",
          "state": {
            "_model_module": "@jupyter-widgets/base",
            "_model_module_version": "1.2.0",
            "_model_name": "LayoutModel",
            "_view_count": null,
            "_view_module": "@jupyter-widgets/base",
            "_view_module_version": "1.2.0",
            "_view_name": "LayoutView",
            "align_content": null,
            "align_items": null,
            "align_self": null,
            "border": null,
            "bottom": null,
            "display": null,
            "flex": null,
            "flex_flow": null,
            "grid_area": null,
            "grid_auto_columns": null,
            "grid_auto_flow": null,
            "grid_auto_rows": null,
            "grid_column": null,
            "grid_gap": null,
            "grid_row": null,
            "grid_template_areas": null,
            "grid_template_columns": null,
            "grid_template_rows": null,
            "height": null,
            "justify_content": null,
            "justify_items": null,
            "left": null,
            "margin": null,
            "max_height": null,
            "max_width": null,
            "min_height": null,
            "min_width": null,
            "object_fit": null,
            "object_position": null,
            "order": null,
            "overflow": null,
            "overflow_x": null,
            "overflow_y": null,
            "padding": null,
            "right": null,
            "top": null,
            "visibility": null,
            "width": null
          }
        },
        "55bf8d71d563454bb45c273e11440f5f": {
          "model_module": "@jupyter-widgets/controls",
          "model_name": "ProgressStyleModel",
          "model_module_version": "1.5.0",
          "state": {
            "_model_module": "@jupyter-widgets/controls",
            "_model_module_version": "1.5.0",
            "_model_name": "ProgressStyleModel",
            "_view_count": null,
            "_view_module": "@jupyter-widgets/base",
            "_view_module_version": "1.2.0",
            "_view_name": "StyleView",
            "bar_color": null,
            "description_width": ""
          }
        },
        "08157b1dc0ba4da48f1ef58249e52ad3": {
          "model_module": "@jupyter-widgets/base",
          "model_name": "LayoutModel",
          "model_module_version": "1.2.0",
          "state": {
            "_model_module": "@jupyter-widgets/base",
            "_model_module_version": "1.2.0",
            "_model_name": "LayoutModel",
            "_view_count": null,
            "_view_module": "@jupyter-widgets/base",
            "_view_module_version": "1.2.0",
            "_view_name": "LayoutView",
            "align_content": null,
            "align_items": null,
            "align_self": null,
            "border": null,
            "bottom": null,
            "display": null,
            "flex": null,
            "flex_flow": null,
            "grid_area": null,
            "grid_auto_columns": null,
            "grid_auto_flow": null,
            "grid_auto_rows": null,
            "grid_column": null,
            "grid_gap": null,
            "grid_row": null,
            "grid_template_areas": null,
            "grid_template_columns": null,
            "grid_template_rows": null,
            "height": null,
            "justify_content": null,
            "justify_items": null,
            "left": null,
            "margin": null,
            "max_height": null,
            "max_width": null,
            "min_height": null,
            "min_width": null,
            "object_fit": null,
            "object_position": null,
            "order": null,
            "overflow": null,
            "overflow_x": null,
            "overflow_y": null,
            "padding": null,
            "right": null,
            "top": null,
            "visibility": null,
            "width": null
          }
        },
        "acf42f7a9d394028a405944164b48723": {
          "model_module": "@jupyter-widgets/controls",
          "model_name": "DescriptionStyleModel",
          "model_module_version": "1.5.0",
          "state": {
            "_model_module": "@jupyter-widgets/controls",
            "_model_module_version": "1.5.0",
            "_model_name": "DescriptionStyleModel",
            "_view_count": null,
            "_view_module": "@jupyter-widgets/base",
            "_view_module_version": "1.2.0",
            "_view_name": "StyleView",
            "description_width": ""
          }
        },
        "4ef03daa01654a7bb952abdf88615b1a": {
          "model_module": "@jupyter-widgets/controls",
          "model_name": "HBoxModel",
          "model_module_version": "1.5.0",
          "state": {
            "_dom_classes": [],
            "_model_module": "@jupyter-widgets/controls",
            "_model_module_version": "1.5.0",
            "_model_name": "HBoxModel",
            "_view_count": null,
            "_view_module": "@jupyter-widgets/controls",
            "_view_module_version": "1.5.0",
            "_view_name": "HBoxView",
            "box_style": "",
            "children": [
              "IPY_MODEL_83e6a698edbd446c84e3d7b10edee539",
              "IPY_MODEL_5af2af6ab09b465998affc1b68182365",
              "IPY_MODEL_130ce708bf7c4ac5b2bccd4bcfbba0e0"
            ],
            "layout": "IPY_MODEL_37c7679ddbac4e55bc323bd96db081ba"
          }
        },
        "83e6a698edbd446c84e3d7b10edee539": {
          "model_module": "@jupyter-widgets/controls",
          "model_name": "HTMLModel",
          "model_module_version": "1.5.0",
          "state": {
            "_dom_classes": [],
            "_model_module": "@jupyter-widgets/controls",
            "_model_module_version": "1.5.0",
            "_model_name": "HTMLModel",
            "_view_count": null,
            "_view_module": "@jupyter-widgets/controls",
            "_view_module_version": "1.5.0",
            "_view_name": "HTMLView",
            "description": "",
            "description_tooltip": null,
            "layout": "IPY_MODEL_632d21eb2c424d1a91f7f2544416b769",
            "placeholder": "​",
            "style": "IPY_MODEL_5ab833eeb82345499019c839a7401dde",
            "value": "tokenizer_config.json: 100%"
          }
        },
        "5af2af6ab09b465998affc1b68182365": {
          "model_module": "@jupyter-widgets/controls",
          "model_name": "FloatProgressModel",
          "model_module_version": "1.5.0",
          "state": {
            "_dom_classes": [],
            "_model_module": "@jupyter-widgets/controls",
            "_model_module_version": "1.5.0",
            "_model_name": "FloatProgressModel",
            "_view_count": null,
            "_view_module": "@jupyter-widgets/controls",
            "_view_module_version": "1.5.0",
            "_view_name": "ProgressView",
            "bar_style": "success",
            "description": "",
            "description_tooltip": null,
            "layout": "IPY_MODEL_49f5ecfbe00f45e6b9bf4b2fff3043e0",
            "max": 366,
            "min": 0,
            "orientation": "horizontal",
            "style": "IPY_MODEL_bdb1e06fd3a74e72922de570d5016e4a",
            "value": 366
          }
        },
        "130ce708bf7c4ac5b2bccd4bcfbba0e0": {
          "model_module": "@jupyter-widgets/controls",
          "model_name": "HTMLModel",
          "model_module_version": "1.5.0",
          "state": {
            "_dom_classes": [],
            "_model_module": "@jupyter-widgets/controls",
            "_model_module_version": "1.5.0",
            "_model_name": "HTMLModel",
            "_view_count": null,
            "_view_module": "@jupyter-widgets/controls",
            "_view_module_version": "1.5.0",
            "_view_name": "HTMLView",
            "description": "",
            "description_tooltip": null,
            "layout": "IPY_MODEL_ffe9fde47f0d4af2adc48fb18643c944",
            "placeholder": "​",
            "style": "IPY_MODEL_2d899729cbe145fa94db837d175a8512",
            "value": " 366/366 [00:00&lt;00:00, 23.0kB/s]"
          }
        },
        "37c7679ddbac4e55bc323bd96db081ba": {
          "model_module": "@jupyter-widgets/base",
          "model_name": "LayoutModel",
          "model_module_version": "1.2.0",
          "state": {
            "_model_module": "@jupyter-widgets/base",
            "_model_module_version": "1.2.0",
            "_model_name": "LayoutModel",
            "_view_count": null,
            "_view_module": "@jupyter-widgets/base",
            "_view_module_version": "1.2.0",
            "_view_name": "LayoutView",
            "align_content": null,
            "align_items": null,
            "align_self": null,
            "border": null,
            "bottom": null,
            "display": null,
            "flex": null,
            "flex_flow": null,
            "grid_area": null,
            "grid_auto_columns": null,
            "grid_auto_flow": null,
            "grid_auto_rows": null,
            "grid_column": null,
            "grid_gap": null,
            "grid_row": null,
            "grid_template_areas": null,
            "grid_template_columns": null,
            "grid_template_rows": null,
            "height": null,
            "justify_content": null,
            "justify_items": null,
            "left": null,
            "margin": null,
            "max_height": null,
            "max_width": null,
            "min_height": null,
            "min_width": null,
            "object_fit": null,
            "object_position": null,
            "order": null,
            "overflow": null,
            "overflow_x": null,
            "overflow_y": null,
            "padding": null,
            "right": null,
            "top": null,
            "visibility": null,
            "width": null
          }
        },
        "632d21eb2c424d1a91f7f2544416b769": {
          "model_module": "@jupyter-widgets/base",
          "model_name": "LayoutModel",
          "model_module_version": "1.2.0",
          "state": {
            "_model_module": "@jupyter-widgets/base",
            "_model_module_version": "1.2.0",
            "_model_name": "LayoutModel",
            "_view_count": null,
            "_view_module": "@jupyter-widgets/base",
            "_view_module_version": "1.2.0",
            "_view_name": "LayoutView",
            "align_content": null,
            "align_items": null,
            "align_self": null,
            "border": null,
            "bottom": null,
            "display": null,
            "flex": null,
            "flex_flow": null,
            "grid_area": null,
            "grid_auto_columns": null,
            "grid_auto_flow": null,
            "grid_auto_rows": null,
            "grid_column": null,
            "grid_gap": null,
            "grid_row": null,
            "grid_template_areas": null,
            "grid_template_columns": null,
            "grid_template_rows": null,
            "height": null,
            "justify_content": null,
            "justify_items": null,
            "left": null,
            "margin": null,
            "max_height": null,
            "max_width": null,
            "min_height": null,
            "min_width": null,
            "object_fit": null,
            "object_position": null,
            "order": null,
            "overflow": null,
            "overflow_x": null,
            "overflow_y": null,
            "padding": null,
            "right": null,
            "top": null,
            "visibility": null,
            "width": null
          }
        },
        "5ab833eeb82345499019c839a7401dde": {
          "model_module": "@jupyter-widgets/controls",
          "model_name": "DescriptionStyleModel",
          "model_module_version": "1.5.0",
          "state": {
            "_model_module": "@jupyter-widgets/controls",
            "_model_module_version": "1.5.0",
            "_model_name": "DescriptionStyleModel",
            "_view_count": null,
            "_view_module": "@jupyter-widgets/base",
            "_view_module_version": "1.2.0",
            "_view_name": "StyleView",
            "description_width": ""
          }
        },
        "49f5ecfbe00f45e6b9bf4b2fff3043e0": {
          "model_module": "@jupyter-widgets/base",
          "model_name": "LayoutModel",
          "model_module_version": "1.2.0",
          "state": {
            "_model_module": "@jupyter-widgets/base",
            "_model_module_version": "1.2.0",
            "_model_name": "LayoutModel",
            "_view_count": null,
            "_view_module": "@jupyter-widgets/base",
            "_view_module_version": "1.2.0",
            "_view_name": "LayoutView",
            "align_content": null,
            "align_items": null,
            "align_self": null,
            "border": null,
            "bottom": null,
            "display": null,
            "flex": null,
            "flex_flow": null,
            "grid_area": null,
            "grid_auto_columns": null,
            "grid_auto_flow": null,
            "grid_auto_rows": null,
            "grid_column": null,
            "grid_gap": null,
            "grid_row": null,
            "grid_template_areas": null,
            "grid_template_columns": null,
            "grid_template_rows": null,
            "height": null,
            "justify_content": null,
            "justify_items": null,
            "left": null,
            "margin": null,
            "max_height": null,
            "max_width": null,
            "min_height": null,
            "min_width": null,
            "object_fit": null,
            "object_position": null,
            "order": null,
            "overflow": null,
            "overflow_x": null,
            "overflow_y": null,
            "padding": null,
            "right": null,
            "top": null,
            "visibility": null,
            "width": null
          }
        },
        "bdb1e06fd3a74e72922de570d5016e4a": {
          "model_module": "@jupyter-widgets/controls",
          "model_name": "ProgressStyleModel",
          "model_module_version": "1.5.0",
          "state": {
            "_model_module": "@jupyter-widgets/controls",
            "_model_module_version": "1.5.0",
            "_model_name": "ProgressStyleModel",
            "_view_count": null,
            "_view_module": "@jupyter-widgets/base",
            "_view_module_version": "1.2.0",
            "_view_name": "StyleView",
            "bar_color": null,
            "description_width": ""
          }
        },
        "ffe9fde47f0d4af2adc48fb18643c944": {
          "model_module": "@jupyter-widgets/base",
          "model_name": "LayoutModel",
          "model_module_version": "1.2.0",
          "state": {
            "_model_module": "@jupyter-widgets/base",
            "_model_module_version": "1.2.0",
            "_model_name": "LayoutModel",
            "_view_count": null,
            "_view_module": "@jupyter-widgets/base",
            "_view_module_version": "1.2.0",
            "_view_name": "LayoutView",
            "align_content": null,
            "align_items": null,
            "align_self": null,
            "border": null,
            "bottom": null,
            "display": null,
            "flex": null,
            "flex_flow": null,
            "grid_area": null,
            "grid_auto_columns": null,
            "grid_auto_flow": null,
            "grid_auto_rows": null,
            "grid_column": null,
            "grid_gap": null,
            "grid_row": null,
            "grid_template_areas": null,
            "grid_template_columns": null,
            "grid_template_rows": null,
            "height": null,
            "justify_content": null,
            "justify_items": null,
            "left": null,
            "margin": null,
            "max_height": null,
            "max_width": null,
            "min_height": null,
            "min_width": null,
            "object_fit": null,
            "object_position": null,
            "order": null,
            "overflow": null,
            "overflow_x": null,
            "overflow_y": null,
            "padding": null,
            "right": null,
            "top": null,
            "visibility": null,
            "width": null
          }
        },
        "2d899729cbe145fa94db837d175a8512": {
          "model_module": "@jupyter-widgets/controls",
          "model_name": "DescriptionStyleModel",
          "model_module_version": "1.5.0",
          "state": {
            "_model_module": "@jupyter-widgets/controls",
            "_model_module_version": "1.5.0",
            "_model_name": "DescriptionStyleModel",
            "_view_count": null,
            "_view_module": "@jupyter-widgets/base",
            "_view_module_version": "1.2.0",
            "_view_name": "StyleView",
            "description_width": ""
          }
        },
        "1e56d4fa1cc348ea99074e9ea17f0870": {
          "model_module": "@jupyter-widgets/controls",
          "model_name": "HBoxModel",
          "model_module_version": "1.5.0",
          "state": {
            "_dom_classes": [],
            "_model_module": "@jupyter-widgets/controls",
            "_model_module_version": "1.5.0",
            "_model_name": "HBoxModel",
            "_view_count": null,
            "_view_module": "@jupyter-widgets/controls",
            "_view_module_version": "1.5.0",
            "_view_name": "HBoxView",
            "box_style": "",
            "children": [
              "IPY_MODEL_2a236f3befe64b6ba258681a6c17e0ef",
              "IPY_MODEL_71801abce52c47e0a4ba8d567debe13c",
              "IPY_MODEL_b8c823dab7bf458fb68db5fc63c7ff15"
            ],
            "layout": "IPY_MODEL_d9862409a7764f86ad5ef741e18ae53b"
          }
        },
        "2a236f3befe64b6ba258681a6c17e0ef": {
          "model_module": "@jupyter-widgets/controls",
          "model_name": "HTMLModel",
          "model_module_version": "1.5.0",
          "state": {
            "_dom_classes": [],
            "_model_module": "@jupyter-widgets/controls",
            "_model_module_version": "1.5.0",
            "_model_name": "HTMLModel",
            "_view_count": null,
            "_view_module": "@jupyter-widgets/controls",
            "_view_module_version": "1.5.0",
            "_view_name": "HTMLView",
            "description": "",
            "description_tooltip": null,
            "layout": "IPY_MODEL_35e59149b1f94f99b71214ae49b0e763",
            "placeholder": "​",
            "style": "IPY_MODEL_f0a7a029878c4848bc851f8b0e8ce48f",
            "value": "vocab.txt: 100%"
          }
        },
        "71801abce52c47e0a4ba8d567debe13c": {
          "model_module": "@jupyter-widgets/controls",
          "model_name": "FloatProgressModel",
          "model_module_version": "1.5.0",
          "state": {
            "_dom_classes": [],
            "_model_module": "@jupyter-widgets/controls",
            "_model_module_version": "1.5.0",
            "_model_name": "FloatProgressModel",
            "_view_count": null,
            "_view_module": "@jupyter-widgets/controls",
            "_view_module_version": "1.5.0",
            "_view_name": "ProgressView",
            "bar_style": "success",
            "description": "",
            "description_tooltip": null,
            "layout": "IPY_MODEL_6ef6b7c715f742c1948c9c1008b6bee4",
            "max": 231508,
            "min": 0,
            "orientation": "horizontal",
            "style": "IPY_MODEL_c1a4566c64b14fc3b3635d97d38aef8a",
            "value": 231508
          }
        },
        "b8c823dab7bf458fb68db5fc63c7ff15": {
          "model_module": "@jupyter-widgets/controls",
          "model_name": "HTMLModel",
          "model_module_version": "1.5.0",
          "state": {
            "_dom_classes": [],
            "_model_module": "@jupyter-widgets/controls",
            "_model_module_version": "1.5.0",
            "_model_name": "HTMLModel",
            "_view_count": null,
            "_view_module": "@jupyter-widgets/controls",
            "_view_module_version": "1.5.0",
            "_view_name": "HTMLView",
            "description": "",
            "description_tooltip": null,
            "layout": "IPY_MODEL_4dc025f291b644cab23032ee190f7e69",
            "placeholder": "​",
            "style": "IPY_MODEL_1a52ba9ff1544344bbfae60a81ffbd71",
            "value": " 232k/232k [00:00&lt;00:00, 12.5MB/s]"
          }
        },
        "d9862409a7764f86ad5ef741e18ae53b": {
          "model_module": "@jupyter-widgets/base",
          "model_name": "LayoutModel",
          "model_module_version": "1.2.0",
          "state": {
            "_model_module": "@jupyter-widgets/base",
            "_model_module_version": "1.2.0",
            "_model_name": "LayoutModel",
            "_view_count": null,
            "_view_module": "@jupyter-widgets/base",
            "_view_module_version": "1.2.0",
            "_view_name": "LayoutView",
            "align_content": null,
            "align_items": null,
            "align_self": null,
            "border": null,
            "bottom": null,
            "display": null,
            "flex": null,
            "flex_flow": null,
            "grid_area": null,
            "grid_auto_columns": null,
            "grid_auto_flow": null,
            "grid_auto_rows": null,
            "grid_column": null,
            "grid_gap": null,
            "grid_row": null,
            "grid_template_areas": null,
            "grid_template_columns": null,
            "grid_template_rows": null,
            "height": null,
            "justify_content": null,
            "justify_items": null,
            "left": null,
            "margin": null,
            "max_height": null,
            "max_width": null,
            "min_height": null,
            "min_width": null,
            "object_fit": null,
            "object_position": null,
            "order": null,
            "overflow": null,
            "overflow_x": null,
            "overflow_y": null,
            "padding": null,
            "right": null,
            "top": null,
            "visibility": null,
            "width": null
          }
        },
        "35e59149b1f94f99b71214ae49b0e763": {
          "model_module": "@jupyter-widgets/base",
          "model_name": "LayoutModel",
          "model_module_version": "1.2.0",
          "state": {
            "_model_module": "@jupyter-widgets/base",
            "_model_module_version": "1.2.0",
            "_model_name": "LayoutModel",
            "_view_count": null,
            "_view_module": "@jupyter-widgets/base",
            "_view_module_version": "1.2.0",
            "_view_name": "LayoutView",
            "align_content": null,
            "align_items": null,
            "align_self": null,
            "border": null,
            "bottom": null,
            "display": null,
            "flex": null,
            "flex_flow": null,
            "grid_area": null,
            "grid_auto_columns": null,
            "grid_auto_flow": null,
            "grid_auto_rows": null,
            "grid_column": null,
            "grid_gap": null,
            "grid_row": null,
            "grid_template_areas": null,
            "grid_template_columns": null,
            "grid_template_rows": null,
            "height": null,
            "justify_content": null,
            "justify_items": null,
            "left": null,
            "margin": null,
            "max_height": null,
            "max_width": null,
            "min_height": null,
            "min_width": null,
            "object_fit": null,
            "object_position": null,
            "order": null,
            "overflow": null,
            "overflow_x": null,
            "overflow_y": null,
            "padding": null,
            "right": null,
            "top": null,
            "visibility": null,
            "width": null
          }
        },
        "f0a7a029878c4848bc851f8b0e8ce48f": {
          "model_module": "@jupyter-widgets/controls",
          "model_name": "DescriptionStyleModel",
          "model_module_version": "1.5.0",
          "state": {
            "_model_module": "@jupyter-widgets/controls",
            "_model_module_version": "1.5.0",
            "_model_name": "DescriptionStyleModel",
            "_view_count": null,
            "_view_module": "@jupyter-widgets/base",
            "_view_module_version": "1.2.0",
            "_view_name": "StyleView",
            "description_width": ""
          }
        },
        "6ef6b7c715f742c1948c9c1008b6bee4": {
          "model_module": "@jupyter-widgets/base",
          "model_name": "LayoutModel",
          "model_module_version": "1.2.0",
          "state": {
            "_model_module": "@jupyter-widgets/base",
            "_model_module_version": "1.2.0",
            "_model_name": "LayoutModel",
            "_view_count": null,
            "_view_module": "@jupyter-widgets/base",
            "_view_module_version": "1.2.0",
            "_view_name": "LayoutView",
            "align_content": null,
            "align_items": null,
            "align_self": null,
            "border": null,
            "bottom": null,
            "display": null,
            "flex": null,
            "flex_flow": null,
            "grid_area": null,
            "grid_auto_columns": null,
            "grid_auto_flow": null,
            "grid_auto_rows": null,
            "grid_column": null,
            "grid_gap": null,
            "grid_row": null,
            "grid_template_areas": null,
            "grid_template_columns": null,
            "grid_template_rows": null,
            "height": null,
            "justify_content": null,
            "justify_items": null,
            "left": null,
            "margin": null,
            "max_height": null,
            "max_width": null,
            "min_height": null,
            "min_width": null,
            "object_fit": null,
            "object_position": null,
            "order": null,
            "overflow": null,
            "overflow_x": null,
            "overflow_y": null,
            "padding": null,
            "right": null,
            "top": null,
            "visibility": null,
            "width": null
          }
        },
        "c1a4566c64b14fc3b3635d97d38aef8a": {
          "model_module": "@jupyter-widgets/controls",
          "model_name": "ProgressStyleModel",
          "model_module_version": "1.5.0",
          "state": {
            "_model_module": "@jupyter-widgets/controls",
            "_model_module_version": "1.5.0",
            "_model_name": "ProgressStyleModel",
            "_view_count": null,
            "_view_module": "@jupyter-widgets/base",
            "_view_module_version": "1.2.0",
            "_view_name": "StyleView",
            "bar_color": null,
            "description_width": ""
          }
        },
        "4dc025f291b644cab23032ee190f7e69": {
          "model_module": "@jupyter-widgets/base",
          "model_name": "LayoutModel",
          "model_module_version": "1.2.0",
          "state": {
            "_model_module": "@jupyter-widgets/base",
            "_model_module_version": "1.2.0",
            "_model_name": "LayoutModel",
            "_view_count": null,
            "_view_module": "@jupyter-widgets/base",
            "_view_module_version": "1.2.0",
            "_view_name": "LayoutView",
            "align_content": null,
            "align_items": null,
            "align_self": null,
            "border": null,
            "bottom": null,
            "display": null,
            "flex": null,
            "flex_flow": null,
            "grid_area": null,
            "grid_auto_columns": null,
            "grid_auto_flow": null,
            "grid_auto_rows": null,
            "grid_column": null,
            "grid_gap": null,
            "grid_row": null,
            "grid_template_areas": null,
            "grid_template_columns": null,
            "grid_template_rows": null,
            "height": null,
            "justify_content": null,
            "justify_items": null,
            "left": null,
            "margin": null,
            "max_height": null,
            "max_width": null,
            "min_height": null,
            "min_width": null,
            "object_fit": null,
            "object_position": null,
            "order": null,
            "overflow": null,
            "overflow_x": null,
            "overflow_y": null,
            "padding": null,
            "right": null,
            "top": null,
            "visibility": null,
            "width": null
          }
        },
        "1a52ba9ff1544344bbfae60a81ffbd71": {
          "model_module": "@jupyter-widgets/controls",
          "model_name": "DescriptionStyleModel",
          "model_module_version": "1.5.0",
          "state": {
            "_model_module": "@jupyter-widgets/controls",
            "_model_module_version": "1.5.0",
            "_model_name": "DescriptionStyleModel",
            "_view_count": null,
            "_view_module": "@jupyter-widgets/base",
            "_view_module_version": "1.2.0",
            "_view_name": "StyleView",
            "description_width": ""
          }
        },
        "b102ecb6510e4c86a9fe2f279eb18919": {
          "model_module": "@jupyter-widgets/controls",
          "model_name": "HBoxModel",
          "model_module_version": "1.5.0",
          "state": {
            "_dom_classes": [],
            "_model_module": "@jupyter-widgets/controls",
            "_model_module_version": "1.5.0",
            "_model_name": "HBoxModel",
            "_view_count": null,
            "_view_module": "@jupyter-widgets/controls",
            "_view_module_version": "1.5.0",
            "_view_name": "HBoxView",
            "box_style": "",
            "children": [
              "IPY_MODEL_6c56df88c54e43ef8c8993c5786419b1",
              "IPY_MODEL_5faa8ba68fb34efda92f0b2bea1e7c34",
              "IPY_MODEL_db9067391e9c4e2da08d23f4e6a6e0c4"
            ],
            "layout": "IPY_MODEL_f4f6305a69a743b3b581754fd294b4b4"
          }
        },
        "6c56df88c54e43ef8c8993c5786419b1": {
          "model_module": "@jupyter-widgets/controls",
          "model_name": "HTMLModel",
          "model_module_version": "1.5.0",
          "state": {
            "_dom_classes": [],
            "_model_module": "@jupyter-widgets/controls",
            "_model_module_version": "1.5.0",
            "_model_name": "HTMLModel",
            "_view_count": null,
            "_view_module": "@jupyter-widgets/controls",
            "_view_module_version": "1.5.0",
            "_view_name": "HTMLView",
            "description": "",
            "description_tooltip": null,
            "layout": "IPY_MODEL_47febb0d54b743558cbb078754695cde",
            "placeholder": "​",
            "style": "IPY_MODEL_9b7b653fbb4d4dd3bfa1220be3073280",
            "value": "tokenizer.json: 100%"
          }
        },
        "5faa8ba68fb34efda92f0b2bea1e7c34": {
          "model_module": "@jupyter-widgets/controls",
          "model_name": "FloatProgressModel",
          "model_module_version": "1.5.0",
          "state": {
            "_dom_classes": [],
            "_model_module": "@jupyter-widgets/controls",
            "_model_module_version": "1.5.0",
            "_model_name": "FloatProgressModel",
            "_view_count": null,
            "_view_module": "@jupyter-widgets/controls",
            "_view_module_version": "1.5.0",
            "_view_name": "ProgressView",
            "bar_style": "success",
            "description": "",
            "description_tooltip": null,
            "layout": "IPY_MODEL_2211a54201144cbc960d968d710974cb",
            "max": 711396,
            "min": 0,
            "orientation": "horizontal",
            "style": "IPY_MODEL_e82162c72e1b434589d57cfbc58144ba",
            "value": 711396
          }
        },
        "db9067391e9c4e2da08d23f4e6a6e0c4": {
          "model_module": "@jupyter-widgets/controls",
          "model_name": "HTMLModel",
          "model_module_version": "1.5.0",
          "state": {
            "_dom_classes": [],
            "_model_module": "@jupyter-widgets/controls",
            "_model_module_version": "1.5.0",
            "_model_name": "HTMLModel",
            "_view_count": null,
            "_view_module": "@jupyter-widgets/controls",
            "_view_module_version": "1.5.0",
            "_view_name": "HTMLView",
            "description": "",
            "description_tooltip": null,
            "layout": "IPY_MODEL_b79ef19970e048988cae04733cf3e08e",
            "placeholder": "​",
            "style": "IPY_MODEL_e7e5d55626a7462e8405d27a450d381e",
            "value": " 711k/711k [00:00&lt;00:00, 31.4MB/s]"
          }
        },
        "f4f6305a69a743b3b581754fd294b4b4": {
          "model_module": "@jupyter-widgets/base",
          "model_name": "LayoutModel",
          "model_module_version": "1.2.0",
          "state": {
            "_model_module": "@jupyter-widgets/base",
            "_model_module_version": "1.2.0",
            "_model_name": "LayoutModel",
            "_view_count": null,
            "_view_module": "@jupyter-widgets/base",
            "_view_module_version": "1.2.0",
            "_view_name": "LayoutView",
            "align_content": null,
            "align_items": null,
            "align_self": null,
            "border": null,
            "bottom": null,
            "display": null,
            "flex": null,
            "flex_flow": null,
            "grid_area": null,
            "grid_auto_columns": null,
            "grid_auto_flow": null,
            "grid_auto_rows": null,
            "grid_column": null,
            "grid_gap": null,
            "grid_row": null,
            "grid_template_areas": null,
            "grid_template_columns": null,
            "grid_template_rows": null,
            "height": null,
            "justify_content": null,
            "justify_items": null,
            "left": null,
            "margin": null,
            "max_height": null,
            "max_width": null,
            "min_height": null,
            "min_width": null,
            "object_fit": null,
            "object_position": null,
            "order": null,
            "overflow": null,
            "overflow_x": null,
            "overflow_y": null,
            "padding": null,
            "right": null,
            "top": null,
            "visibility": null,
            "width": null
          }
        },
        "47febb0d54b743558cbb078754695cde": {
          "model_module": "@jupyter-widgets/base",
          "model_name": "LayoutModel",
          "model_module_version": "1.2.0",
          "state": {
            "_model_module": "@jupyter-widgets/base",
            "_model_module_version": "1.2.0",
            "_model_name": "LayoutModel",
            "_view_count": null,
            "_view_module": "@jupyter-widgets/base",
            "_view_module_version": "1.2.0",
            "_view_name": "LayoutView",
            "align_content": null,
            "align_items": null,
            "align_self": null,
            "border": null,
            "bottom": null,
            "display": null,
            "flex": null,
            "flex_flow": null,
            "grid_area": null,
            "grid_auto_columns": null,
            "grid_auto_flow": null,
            "grid_auto_rows": null,
            "grid_column": null,
            "grid_gap": null,
            "grid_row": null,
            "grid_template_areas": null,
            "grid_template_columns": null,
            "grid_template_rows": null,
            "height": null,
            "justify_content": null,
            "justify_items": null,
            "left": null,
            "margin": null,
            "max_height": null,
            "max_width": null,
            "min_height": null,
            "min_width": null,
            "object_fit": null,
            "object_position": null,
            "order": null,
            "overflow": null,
            "overflow_x": null,
            "overflow_y": null,
            "padding": null,
            "right": null,
            "top": null,
            "visibility": null,
            "width": null
          }
        },
        "9b7b653fbb4d4dd3bfa1220be3073280": {
          "model_module": "@jupyter-widgets/controls",
          "model_name": "DescriptionStyleModel",
          "model_module_version": "1.5.0",
          "state": {
            "_model_module": "@jupyter-widgets/controls",
            "_model_module_version": "1.5.0",
            "_model_name": "DescriptionStyleModel",
            "_view_count": null,
            "_view_module": "@jupyter-widgets/base",
            "_view_module_version": "1.2.0",
            "_view_name": "StyleView",
            "description_width": ""
          }
        },
        "2211a54201144cbc960d968d710974cb": {
          "model_module": "@jupyter-widgets/base",
          "model_name": "LayoutModel",
          "model_module_version": "1.2.0",
          "state": {
            "_model_module": "@jupyter-widgets/base",
            "_model_module_version": "1.2.0",
            "_model_name": "LayoutModel",
            "_view_count": null,
            "_view_module": "@jupyter-widgets/base",
            "_view_module_version": "1.2.0",
            "_view_name": "LayoutView",
            "align_content": null,
            "align_items": null,
            "align_self": null,
            "border": null,
            "bottom": null,
            "display": null,
            "flex": null,
            "flex_flow": null,
            "grid_area": null,
            "grid_auto_columns": null,
            "grid_auto_flow": null,
            "grid_auto_rows": null,
            "grid_column": null,
            "grid_gap": null,
            "grid_row": null,
            "grid_template_areas": null,
            "grid_template_columns": null,
            "grid_template_rows": null,
            "height": null,
            "justify_content": null,
            "justify_items": null,
            "left": null,
            "margin": null,
            "max_height": null,
            "max_width": null,
            "min_height": null,
            "min_width": null,
            "object_fit": null,
            "object_position": null,
            "order": null,
            "overflow": null,
            "overflow_x": null,
            "overflow_y": null,
            "padding": null,
            "right": null,
            "top": null,
            "visibility": null,
            "width": null
          }
        },
        "e82162c72e1b434589d57cfbc58144ba": {
          "model_module": "@jupyter-widgets/controls",
          "model_name": "ProgressStyleModel",
          "model_module_version": "1.5.0",
          "state": {
            "_model_module": "@jupyter-widgets/controls",
            "_model_module_version": "1.5.0",
            "_model_name": "ProgressStyleModel",
            "_view_count": null,
            "_view_module": "@jupyter-widgets/base",
            "_view_module_version": "1.2.0",
            "_view_name": "StyleView",
            "bar_color": null,
            "description_width": ""
          }
        },
        "b79ef19970e048988cae04733cf3e08e": {
          "model_module": "@jupyter-widgets/base",
          "model_name": "LayoutModel",
          "model_module_version": "1.2.0",
          "state": {
            "_model_module": "@jupyter-widgets/base",
            "_model_module_version": "1.2.0",
            "_model_name": "LayoutModel",
            "_view_count": null,
            "_view_module": "@jupyter-widgets/base",
            "_view_module_version": "1.2.0",
            "_view_name": "LayoutView",
            "align_content": null,
            "align_items": null,
            "align_self": null,
            "border": null,
            "bottom": null,
            "display": null,
            "flex": null,
            "flex_flow": null,
            "grid_area": null,
            "grid_auto_columns": null,
            "grid_auto_flow": null,
            "grid_auto_rows": null,
            "grid_column": null,
            "grid_gap": null,
            "grid_row": null,
            "grid_template_areas": null,
            "grid_template_columns": null,
            "grid_template_rows": null,
            "height": null,
            "justify_content": null,
            "justify_items": null,
            "left": null,
            "margin": null,
            "max_height": null,
            "max_width": null,
            "min_height": null,
            "min_width": null,
            "object_fit": null,
            "object_position": null,
            "order": null,
            "overflow": null,
            "overflow_x": null,
            "overflow_y": null,
            "padding": null,
            "right": null,
            "top": null,
            "visibility": null,
            "width": null
          }
        },
        "e7e5d55626a7462e8405d27a450d381e": {
          "model_module": "@jupyter-widgets/controls",
          "model_name": "DescriptionStyleModel",
          "model_module_version": "1.5.0",
          "state": {
            "_model_module": "@jupyter-widgets/controls",
            "_model_module_version": "1.5.0",
            "_model_name": "DescriptionStyleModel",
            "_view_count": null,
            "_view_module": "@jupyter-widgets/base",
            "_view_module_version": "1.2.0",
            "_view_name": "StyleView",
            "description_width": ""
          }
        },
        "9b382c8c8b7e4d999fe23fd4e8ed2e7b": {
          "model_module": "@jupyter-widgets/controls",
          "model_name": "HBoxModel",
          "model_module_version": "1.5.0",
          "state": {
            "_dom_classes": [],
            "_model_module": "@jupyter-widgets/controls",
            "_model_module_version": "1.5.0",
            "_model_name": "HBoxModel",
            "_view_count": null,
            "_view_module": "@jupyter-widgets/controls",
            "_view_module_version": "1.5.0",
            "_view_name": "HBoxView",
            "box_style": "",
            "children": [
              "IPY_MODEL_761073d992ed47d4817a44806d32b83a",
              "IPY_MODEL_17cfb26a13de4c1f883de8e285531321",
              "IPY_MODEL_447ed236011645f7a3300cf975deb1c4"
            ],
            "layout": "IPY_MODEL_39f3a524d80d4a72964d33a4bf87cae3"
          }
        },
        "761073d992ed47d4817a44806d32b83a": {
          "model_module": "@jupyter-widgets/controls",
          "model_name": "HTMLModel",
          "model_module_version": "1.5.0",
          "state": {
            "_dom_classes": [],
            "_model_module": "@jupyter-widgets/controls",
            "_model_module_version": "1.5.0",
            "_model_name": "HTMLModel",
            "_view_count": null,
            "_view_module": "@jupyter-widgets/controls",
            "_view_module_version": "1.5.0",
            "_view_name": "HTMLView",
            "description": "",
            "description_tooltip": null,
            "layout": "IPY_MODEL_fd8e0729c29f4e79a8e0ab90d0ba7023",
            "placeholder": "​",
            "style": "IPY_MODEL_a25586845cbd4fe0a9a4842004abc06b",
            "value": "special_tokens_map.json: 100%"
          }
        },
        "17cfb26a13de4c1f883de8e285531321": {
          "model_module": "@jupyter-widgets/controls",
          "model_name": "FloatProgressModel",
          "model_module_version": "1.5.0",
          "state": {
            "_dom_classes": [],
            "_model_module": "@jupyter-widgets/controls",
            "_model_module_version": "1.5.0",
            "_model_name": "FloatProgressModel",
            "_view_count": null,
            "_view_module": "@jupyter-widgets/controls",
            "_view_module_version": "1.5.0",
            "_view_name": "ProgressView",
            "bar_style": "success",
            "description": "",
            "description_tooltip": null,
            "layout": "IPY_MODEL_ee0761aec9b247f4b198a503075964ef",
            "max": 125,
            "min": 0,
            "orientation": "horizontal",
            "style": "IPY_MODEL_4f0a8086075349b0b45c295a054348fc",
            "value": 125
          }
        },
        "447ed236011645f7a3300cf975deb1c4": {
          "model_module": "@jupyter-widgets/controls",
          "model_name": "HTMLModel",
          "model_module_version": "1.5.0",
          "state": {
            "_dom_classes": [],
            "_model_module": "@jupyter-widgets/controls",
            "_model_module_version": "1.5.0",
            "_model_name": "HTMLModel",
            "_view_count": null,
            "_view_module": "@jupyter-widgets/controls",
            "_view_module_version": "1.5.0",
            "_view_name": "HTMLView",
            "description": "",
            "description_tooltip": null,
            "layout": "IPY_MODEL_cb72855f5d7d4f1fa2280ac16fa1d989",
            "placeholder": "​",
            "style": "IPY_MODEL_0774164d1ef64f549f4a1a2f83c3300e",
            "value": " 125/125 [00:00&lt;00:00, 7.35kB/s]"
          }
        },
        "39f3a524d80d4a72964d33a4bf87cae3": {
          "model_module": "@jupyter-widgets/base",
          "model_name": "LayoutModel",
          "model_module_version": "1.2.0",
          "state": {
            "_model_module": "@jupyter-widgets/base",
            "_model_module_version": "1.2.0",
            "_model_name": "LayoutModel",
            "_view_count": null,
            "_view_module": "@jupyter-widgets/base",
            "_view_module_version": "1.2.0",
            "_view_name": "LayoutView",
            "align_content": null,
            "align_items": null,
            "align_self": null,
            "border": null,
            "bottom": null,
            "display": null,
            "flex": null,
            "flex_flow": null,
            "grid_area": null,
            "grid_auto_columns": null,
            "grid_auto_flow": null,
            "grid_auto_rows": null,
            "grid_column": null,
            "grid_gap": null,
            "grid_row": null,
            "grid_template_areas": null,
            "grid_template_columns": null,
            "grid_template_rows": null,
            "height": null,
            "justify_content": null,
            "justify_items": null,
            "left": null,
            "margin": null,
            "max_height": null,
            "max_width": null,
            "min_height": null,
            "min_width": null,
            "object_fit": null,
            "object_position": null,
            "order": null,
            "overflow": null,
            "overflow_x": null,
            "overflow_y": null,
            "padding": null,
            "right": null,
            "top": null,
            "visibility": null,
            "width": null
          }
        },
        "fd8e0729c29f4e79a8e0ab90d0ba7023": {
          "model_module": "@jupyter-widgets/base",
          "model_name": "LayoutModel",
          "model_module_version": "1.2.0",
          "state": {
            "_model_module": "@jupyter-widgets/base",
            "_model_module_version": "1.2.0",
            "_model_name": "LayoutModel",
            "_view_count": null,
            "_view_module": "@jupyter-widgets/base",
            "_view_module_version": "1.2.0",
            "_view_name": "LayoutView",
            "align_content": null,
            "align_items": null,
            "align_self": null,
            "border": null,
            "bottom": null,
            "display": null,
            "flex": null,
            "flex_flow": null,
            "grid_area": null,
            "grid_auto_columns": null,
            "grid_auto_flow": null,
            "grid_auto_rows": null,
            "grid_column": null,
            "grid_gap": null,
            "grid_row": null,
            "grid_template_areas": null,
            "grid_template_columns": null,
            "grid_template_rows": null,
            "height": null,
            "justify_content": null,
            "justify_items": null,
            "left": null,
            "margin": null,
            "max_height": null,
            "max_width": null,
            "min_height": null,
            "min_width": null,
            "object_fit": null,
            "object_position": null,
            "order": null,
            "overflow": null,
            "overflow_x": null,
            "overflow_y": null,
            "padding": null,
            "right": null,
            "top": null,
            "visibility": null,
            "width": null
          }
        },
        "a25586845cbd4fe0a9a4842004abc06b": {
          "model_module": "@jupyter-widgets/controls",
          "model_name": "DescriptionStyleModel",
          "model_module_version": "1.5.0",
          "state": {
            "_model_module": "@jupyter-widgets/controls",
            "_model_module_version": "1.5.0",
            "_model_name": "DescriptionStyleModel",
            "_view_count": null,
            "_view_module": "@jupyter-widgets/base",
            "_view_module_version": "1.2.0",
            "_view_name": "StyleView",
            "description_width": ""
          }
        },
        "ee0761aec9b247f4b198a503075964ef": {
          "model_module": "@jupyter-widgets/base",
          "model_name": "LayoutModel",
          "model_module_version": "1.2.0",
          "state": {
            "_model_module": "@jupyter-widgets/base",
            "_model_module_version": "1.2.0",
            "_model_name": "LayoutModel",
            "_view_count": null,
            "_view_module": "@jupyter-widgets/base",
            "_view_module_version": "1.2.0",
            "_view_name": "LayoutView",
            "align_content": null,
            "align_items": null,
            "align_self": null,
            "border": null,
            "bottom": null,
            "display": null,
            "flex": null,
            "flex_flow": null,
            "grid_area": null,
            "grid_auto_columns": null,
            "grid_auto_flow": null,
            "grid_auto_rows": null,
            "grid_column": null,
            "grid_gap": null,
            "grid_row": null,
            "grid_template_areas": null,
            "grid_template_columns": null,
            "grid_template_rows": null,
            "height": null,
            "justify_content": null,
            "justify_items": null,
            "left": null,
            "margin": null,
            "max_height": null,
            "max_width": null,
            "min_height": null,
            "min_width": null,
            "object_fit": null,
            "object_position": null,
            "order": null,
            "overflow": null,
            "overflow_x": null,
            "overflow_y": null,
            "padding": null,
            "right": null,
            "top": null,
            "visibility": null,
            "width": null
          }
        },
        "4f0a8086075349b0b45c295a054348fc": {
          "model_module": "@jupyter-widgets/controls",
          "model_name": "ProgressStyleModel",
          "model_module_version": "1.5.0",
          "state": {
            "_model_module": "@jupyter-widgets/controls",
            "_model_module_version": "1.5.0",
            "_model_name": "ProgressStyleModel",
            "_view_count": null,
            "_view_module": "@jupyter-widgets/base",
            "_view_module_version": "1.2.0",
            "_view_name": "StyleView",
            "bar_color": null,
            "description_width": ""
          }
        },
        "cb72855f5d7d4f1fa2280ac16fa1d989": {
          "model_module": "@jupyter-widgets/base",
          "model_name": "LayoutModel",
          "model_module_version": "1.2.0",
          "state": {
            "_model_module": "@jupyter-widgets/base",
            "_model_module_version": "1.2.0",
            "_model_name": "LayoutModel",
            "_view_count": null,
            "_view_module": "@jupyter-widgets/base",
            "_view_module_version": "1.2.0",
            "_view_name": "LayoutView",
            "align_content": null,
            "align_items": null,
            "align_self": null,
            "border": null,
            "bottom": null,
            "display": null,
            "flex": null,
            "flex_flow": null,
            "grid_area": null,
            "grid_auto_columns": null,
            "grid_auto_flow": null,
            "grid_auto_rows": null,
            "grid_column": null,
            "grid_gap": null,
            "grid_row": null,
            "grid_template_areas": null,
            "grid_template_columns": null,
            "grid_template_rows": null,
            "height": null,
            "justify_content": null,
            "justify_items": null,
            "left": null,
            "margin": null,
            "max_height": null,
            "max_width": null,
            "min_height": null,
            "min_width": null,
            "object_fit": null,
            "object_position": null,
            "order": null,
            "overflow": null,
            "overflow_x": null,
            "overflow_y": null,
            "padding": null,
            "right": null,
            "top": null,
            "visibility": null,
            "width": null
          }
        },
        "0774164d1ef64f549f4a1a2f83c3300e": {
          "model_module": "@jupyter-widgets/controls",
          "model_name": "DescriptionStyleModel",
          "model_module_version": "1.5.0",
          "state": {
            "_model_module": "@jupyter-widgets/controls",
            "_model_module_version": "1.5.0",
            "_model_name": "DescriptionStyleModel",
            "_view_count": null,
            "_view_module": "@jupyter-widgets/base",
            "_view_module_version": "1.2.0",
            "_view_name": "StyleView",
            "description_width": ""
          }
        },
        "3ca0fa948e7841829448969a31b06c87": {
          "model_module": "@jupyter-widgets/controls",
          "model_name": "HBoxModel",
          "model_module_version": "1.5.0",
          "state": {
            "_dom_classes": [],
            "_model_module": "@jupyter-widgets/controls",
            "_model_module_version": "1.5.0",
            "_model_name": "HBoxModel",
            "_view_count": null,
            "_view_module": "@jupyter-widgets/controls",
            "_view_module_version": "1.5.0",
            "_view_name": "HBoxView",
            "box_style": "",
            "children": [
              "IPY_MODEL_135e53b93f824eb9b5562d63b48eae55",
              "IPY_MODEL_441eaf3929b74094a1b82a9bfb04cb28",
              "IPY_MODEL_6c6f778bc5e140cb87788f3043caef19"
            ],
            "layout": "IPY_MODEL_64a2d62749f146fd8b89f8650d45e43f"
          }
        },
        "135e53b93f824eb9b5562d63b48eae55": {
          "model_module": "@jupyter-widgets/controls",
          "model_name": "HTMLModel",
          "model_module_version": "1.5.0",
          "state": {
            "_dom_classes": [],
            "_model_module": "@jupyter-widgets/controls",
            "_model_module_version": "1.5.0",
            "_model_name": "HTMLModel",
            "_view_count": null,
            "_view_module": "@jupyter-widgets/controls",
            "_view_module_version": "1.5.0",
            "_view_name": "HTMLView",
            "description": "",
            "description_tooltip": null,
            "layout": "IPY_MODEL_a19bf22319fb4d0388ee744c14d551f5",
            "placeholder": "​",
            "style": "IPY_MODEL_2371cea7ca624d4381c1e07361ddb5bf",
            "value": "1_Pooling/config.json: 100%"
          }
        },
        "441eaf3929b74094a1b82a9bfb04cb28": {
          "model_module": "@jupyter-widgets/controls",
          "model_name": "FloatProgressModel",
          "model_module_version": "1.5.0",
          "state": {
            "_dom_classes": [],
            "_model_module": "@jupyter-widgets/controls",
            "_model_module_version": "1.5.0",
            "_model_name": "FloatProgressModel",
            "_view_count": null,
            "_view_module": "@jupyter-widgets/controls",
            "_view_module_version": "1.5.0",
            "_view_name": "ProgressView",
            "bar_style": "success",
            "description": "",
            "description_tooltip": null,
            "layout": "IPY_MODEL_6f7deb13d3ef480098a69785dde7340c",
            "max": 190,
            "min": 0,
            "orientation": "horizontal",
            "style": "IPY_MODEL_7c742b7f89f44f108d3a56d2b104a368",
            "value": 190
          }
        },
        "6c6f778bc5e140cb87788f3043caef19": {
          "model_module": "@jupyter-widgets/controls",
          "model_name": "HTMLModel",
          "model_module_version": "1.5.0",
          "state": {
            "_dom_classes": [],
            "_model_module": "@jupyter-widgets/controls",
            "_model_module_version": "1.5.0",
            "_model_name": "HTMLModel",
            "_view_count": null,
            "_view_module": "@jupyter-widgets/controls",
            "_view_module_version": "1.5.0",
            "_view_name": "HTMLView",
            "description": "",
            "description_tooltip": null,
            "layout": "IPY_MODEL_087577a8d0c7477196e8cd475ca50f78",
            "placeholder": "​",
            "style": "IPY_MODEL_3e989fcf966f42efabd133daf17a6dd2",
            "value": " 190/190 [00:00&lt;00:00, 7.34kB/s]"
          }
        },
        "64a2d62749f146fd8b89f8650d45e43f": {
          "model_module": "@jupyter-widgets/base",
          "model_name": "LayoutModel",
          "model_module_version": "1.2.0",
          "state": {
            "_model_module": "@jupyter-widgets/base",
            "_model_module_version": "1.2.0",
            "_model_name": "LayoutModel",
            "_view_count": null,
            "_view_module": "@jupyter-widgets/base",
            "_view_module_version": "1.2.0",
            "_view_name": "LayoutView",
            "align_content": null,
            "align_items": null,
            "align_self": null,
            "border": null,
            "bottom": null,
            "display": null,
            "flex": null,
            "flex_flow": null,
            "grid_area": null,
            "grid_auto_columns": null,
            "grid_auto_flow": null,
            "grid_auto_rows": null,
            "grid_column": null,
            "grid_gap": null,
            "grid_row": null,
            "grid_template_areas": null,
            "grid_template_columns": null,
            "grid_template_rows": null,
            "height": null,
            "justify_content": null,
            "justify_items": null,
            "left": null,
            "margin": null,
            "max_height": null,
            "max_width": null,
            "min_height": null,
            "min_width": null,
            "object_fit": null,
            "object_position": null,
            "order": null,
            "overflow": null,
            "overflow_x": null,
            "overflow_y": null,
            "padding": null,
            "right": null,
            "top": null,
            "visibility": null,
            "width": null
          }
        },
        "a19bf22319fb4d0388ee744c14d551f5": {
          "model_module": "@jupyter-widgets/base",
          "model_name": "LayoutModel",
          "model_module_version": "1.2.0",
          "state": {
            "_model_module": "@jupyter-widgets/base",
            "_model_module_version": "1.2.0",
            "_model_name": "LayoutModel",
            "_view_count": null,
            "_view_module": "@jupyter-widgets/base",
            "_view_module_version": "1.2.0",
            "_view_name": "LayoutView",
            "align_content": null,
            "align_items": null,
            "align_self": null,
            "border": null,
            "bottom": null,
            "display": null,
            "flex": null,
            "flex_flow": null,
            "grid_area": null,
            "grid_auto_columns": null,
            "grid_auto_flow": null,
            "grid_auto_rows": null,
            "grid_column": null,
            "grid_gap": null,
            "grid_row": null,
            "grid_template_areas": null,
            "grid_template_columns": null,
            "grid_template_rows": null,
            "height": null,
            "justify_content": null,
            "justify_items": null,
            "left": null,
            "margin": null,
            "max_height": null,
            "max_width": null,
            "min_height": null,
            "min_width": null,
            "object_fit": null,
            "object_position": null,
            "order": null,
            "overflow": null,
            "overflow_x": null,
            "overflow_y": null,
            "padding": null,
            "right": null,
            "top": null,
            "visibility": null,
            "width": null
          }
        },
        "2371cea7ca624d4381c1e07361ddb5bf": {
          "model_module": "@jupyter-widgets/controls",
          "model_name": "DescriptionStyleModel",
          "model_module_version": "1.5.0",
          "state": {
            "_model_module": "@jupyter-widgets/controls",
            "_model_module_version": "1.5.0",
            "_model_name": "DescriptionStyleModel",
            "_view_count": null,
            "_view_module": "@jupyter-widgets/base",
            "_view_module_version": "1.2.0",
            "_view_name": "StyleView",
            "description_width": ""
          }
        },
        "6f7deb13d3ef480098a69785dde7340c": {
          "model_module": "@jupyter-widgets/base",
          "model_name": "LayoutModel",
          "model_module_version": "1.2.0",
          "state": {
            "_model_module": "@jupyter-widgets/base",
            "_model_module_version": "1.2.0",
            "_model_name": "LayoutModel",
            "_view_count": null,
            "_view_module": "@jupyter-widgets/base",
            "_view_module_version": "1.2.0",
            "_view_name": "LayoutView",
            "align_content": null,
            "align_items": null,
            "align_self": null,
            "border": null,
            "bottom": null,
            "display": null,
            "flex": null,
            "flex_flow": null,
            "grid_area": null,
            "grid_auto_columns": null,
            "grid_auto_flow": null,
            "grid_auto_rows": null,
            "grid_column": null,
            "grid_gap": null,
            "grid_row": null,
            "grid_template_areas": null,
            "grid_template_columns": null,
            "grid_template_rows": null,
            "height": null,
            "justify_content": null,
            "justify_items": null,
            "left": null,
            "margin": null,
            "max_height": null,
            "max_width": null,
            "min_height": null,
            "min_width": null,
            "object_fit": null,
            "object_position": null,
            "order": null,
            "overflow": null,
            "overflow_x": null,
            "overflow_y": null,
            "padding": null,
            "right": null,
            "top": null,
            "visibility": null,
            "width": null
          }
        },
        "7c742b7f89f44f108d3a56d2b104a368": {
          "model_module": "@jupyter-widgets/controls",
          "model_name": "ProgressStyleModel",
          "model_module_version": "1.5.0",
          "state": {
            "_model_module": "@jupyter-widgets/controls",
            "_model_module_version": "1.5.0",
            "_model_name": "ProgressStyleModel",
            "_view_count": null,
            "_view_module": "@jupyter-widgets/base",
            "_view_module_version": "1.2.0",
            "_view_name": "StyleView",
            "bar_color": null,
            "description_width": ""
          }
        },
        "087577a8d0c7477196e8cd475ca50f78": {
          "model_module": "@jupyter-widgets/base",
          "model_name": "LayoutModel",
          "model_module_version": "1.2.0",
          "state": {
            "_model_module": "@jupyter-widgets/base",
            "_model_module_version": "1.2.0",
            "_model_name": "LayoutModel",
            "_view_count": null,
            "_view_module": "@jupyter-widgets/base",
            "_view_module_version": "1.2.0",
            "_view_name": "LayoutView",
            "align_content": null,
            "align_items": null,
            "align_self": null,
            "border": null,
            "bottom": null,
            "display": null,
            "flex": null,
            "flex_flow": null,
            "grid_area": null,
            "grid_auto_columns": null,
            "grid_auto_flow": null,
            "grid_auto_rows": null,
            "grid_column": null,
            "grid_gap": null,
            "grid_row": null,
            "grid_template_areas": null,
            "grid_template_columns": null,
            "grid_template_rows": null,
            "height": null,
            "justify_content": null,
            "justify_items": null,
            "left": null,
            "margin": null,
            "max_height": null,
            "max_width": null,
            "min_height": null,
            "min_width": null,
            "object_fit": null,
            "object_position": null,
            "order": null,
            "overflow": null,
            "overflow_x": null,
            "overflow_y": null,
            "padding": null,
            "right": null,
            "top": null,
            "visibility": null,
            "width": null
          }
        },
        "3e989fcf966f42efabd133daf17a6dd2": {
          "model_module": "@jupyter-widgets/controls",
          "model_name": "DescriptionStyleModel",
          "model_module_version": "1.5.0",
          "state": {
            "_model_module": "@jupyter-widgets/controls",
            "_model_module_version": "1.5.0",
            "_model_name": "DescriptionStyleModel",
            "_view_count": null,
            "_view_module": "@jupyter-widgets/base",
            "_view_module_version": "1.2.0",
            "_view_name": "StyleView",
            "description_width": ""
          }
        }
      }
    }
  },
  "cells": [
    {
      "cell_type": "markdown",
      "metadata": {
        "id": "view-in-github",
        "colab_type": "text"
      },
      "source": [
        "<a href=\"https://colab.research.google.com/github/bushragit/rag/blob/main/RAG.ipynb\" target=\"_parent\"><img src=\"https://colab.research.google.com/assets/colab-badge.svg\" alt=\"Open In Colab\"/></a>"
      ]
    },
    {
      "cell_type": "code",
      "execution_count": null,
      "metadata": {
        "colab": {
          "base_uri": "https://localhost:8080/"
        },
        "collapsed": true,
        "id": "D1vwHZ-E3uZm",
        "outputId": "03feef9c-ddc0-4c23-ad7f-397465d7d8d7"
      },
      "outputs": [
        {
          "output_type": "stream",
          "name": "stdout",
          "text": [
            "Requirement already satisfied: langchain in /usr/local/lib/python3.10/dist-packages (0.3.7)\n",
            "Requirement already satisfied: PyYAML>=5.3 in /usr/local/lib/python3.10/dist-packages (from langchain) (6.0.2)\n",
            "Requirement already satisfied: SQLAlchemy<3,>=1.4 in /usr/local/lib/python3.10/dist-packages (from langchain) (2.0.36)\n",
            "Requirement already satisfied: aiohttp<4.0.0,>=3.8.3 in /usr/local/lib/python3.10/dist-packages (from langchain) (3.11.2)\n",
            "Requirement already satisfied: async-timeout<5.0.0,>=4.0.0 in /usr/local/lib/python3.10/dist-packages (from langchain) (4.0.3)\n",
            "Requirement already satisfied: langchain-core<0.4.0,>=0.3.15 in /usr/local/lib/python3.10/dist-packages (from langchain) (0.3.19)\n",
            "Requirement already satisfied: langchain-text-splitters<0.4.0,>=0.3.0 in /usr/local/lib/python3.10/dist-packages (from langchain) (0.3.2)\n",
            "Requirement already satisfied: langsmith<0.2.0,>=0.1.17 in /usr/local/lib/python3.10/dist-packages (from langchain) (0.1.143)\n",
            "Requirement already satisfied: numpy<2,>=1 in /usr/local/lib/python3.10/dist-packages (from langchain) (1.26.4)\n",
            "Requirement already satisfied: pydantic<3.0.0,>=2.7.4 in /usr/local/lib/python3.10/dist-packages (from langchain) (2.9.2)\n",
            "Requirement already satisfied: requests<3,>=2 in /usr/local/lib/python3.10/dist-packages (from langchain) (2.32.3)\n",
            "Requirement already satisfied: tenacity!=8.4.0,<10,>=8.1.0 in /usr/local/lib/python3.10/dist-packages (from langchain) (9.0.0)\n",
            "Requirement already satisfied: aiohappyeyeballs>=2.3.0 in /usr/local/lib/python3.10/dist-packages (from aiohttp<4.0.0,>=3.8.3->langchain) (2.4.3)\n",
            "Requirement already satisfied: aiosignal>=1.1.2 in /usr/local/lib/python3.10/dist-packages (from aiohttp<4.0.0,>=3.8.3->langchain) (1.3.1)\n",
            "Requirement already satisfied: attrs>=17.3.0 in /usr/local/lib/python3.10/dist-packages (from aiohttp<4.0.0,>=3.8.3->langchain) (24.2.0)\n",
            "Requirement already satisfied: frozenlist>=1.1.1 in /usr/local/lib/python3.10/dist-packages (from aiohttp<4.0.0,>=3.8.3->langchain) (1.5.0)\n",
            "Requirement already satisfied: multidict<7.0,>=4.5 in /usr/local/lib/python3.10/dist-packages (from aiohttp<4.0.0,>=3.8.3->langchain) (6.1.0)\n",
            "Requirement already satisfied: propcache>=0.2.0 in /usr/local/lib/python3.10/dist-packages (from aiohttp<4.0.0,>=3.8.3->langchain) (0.2.0)\n",
            "Requirement already satisfied: yarl<2.0,>=1.17.0 in /usr/local/lib/python3.10/dist-packages (from aiohttp<4.0.0,>=3.8.3->langchain) (1.17.2)\n",
            "Requirement already satisfied: jsonpatch<2.0,>=1.33 in /usr/local/lib/python3.10/dist-packages (from langchain-core<0.4.0,>=0.3.15->langchain) (1.33)\n",
            "Requirement already satisfied: packaging<25,>=23.2 in /usr/local/lib/python3.10/dist-packages (from langchain-core<0.4.0,>=0.3.15->langchain) (24.2)\n",
            "Requirement already satisfied: typing-extensions>=4.7 in /usr/local/lib/python3.10/dist-packages (from langchain-core<0.4.0,>=0.3.15->langchain) (4.12.2)\n",
            "Requirement already satisfied: httpx<1,>=0.23.0 in /usr/local/lib/python3.10/dist-packages (from langsmith<0.2.0,>=0.1.17->langchain) (0.27.2)\n",
            "Requirement already satisfied: orjson<4.0.0,>=3.9.14 in /usr/local/lib/python3.10/dist-packages (from langsmith<0.2.0,>=0.1.17->langchain) (3.10.11)\n",
            "Requirement already satisfied: requests-toolbelt<2.0.0,>=1.0.0 in /usr/local/lib/python3.10/dist-packages (from langsmith<0.2.0,>=0.1.17->langchain) (1.0.0)\n",
            "Requirement already satisfied: annotated-types>=0.6.0 in /usr/local/lib/python3.10/dist-packages (from pydantic<3.0.0,>=2.7.4->langchain) (0.7.0)\n",
            "Requirement already satisfied: pydantic-core==2.23.4 in /usr/local/lib/python3.10/dist-packages (from pydantic<3.0.0,>=2.7.4->langchain) (2.23.4)\n",
            "Requirement already satisfied: charset-normalizer<4,>=2 in /usr/local/lib/python3.10/dist-packages (from requests<3,>=2->langchain) (3.4.0)\n",
            "Requirement already satisfied: idna<4,>=2.5 in /usr/local/lib/python3.10/dist-packages (from requests<3,>=2->langchain) (3.10)\n",
            "Requirement already satisfied: urllib3<3,>=1.21.1 in /usr/local/lib/python3.10/dist-packages (from requests<3,>=2->langchain) (2.2.3)\n",
            "Requirement already satisfied: certifi>=2017.4.17 in /usr/local/lib/python3.10/dist-packages (from requests<3,>=2->langchain) (2024.8.30)\n",
            "Requirement already satisfied: greenlet!=0.4.17 in /usr/local/lib/python3.10/dist-packages (from SQLAlchemy<3,>=1.4->langchain) (3.1.1)\n",
            "Requirement already satisfied: anyio in /usr/local/lib/python3.10/dist-packages (from httpx<1,>=0.23.0->langsmith<0.2.0,>=0.1.17->langchain) (3.7.1)\n",
            "Requirement already satisfied: httpcore==1.* in /usr/local/lib/python3.10/dist-packages (from httpx<1,>=0.23.0->langsmith<0.2.0,>=0.1.17->langchain) (1.0.7)\n",
            "Requirement already satisfied: sniffio in /usr/local/lib/python3.10/dist-packages (from httpx<1,>=0.23.0->langsmith<0.2.0,>=0.1.17->langchain) (1.3.1)\n",
            "Requirement already satisfied: h11<0.15,>=0.13 in /usr/local/lib/python3.10/dist-packages (from httpcore==1.*->httpx<1,>=0.23.0->langsmith<0.2.0,>=0.1.17->langchain) (0.14.0)\n",
            "Requirement already satisfied: jsonpointer>=1.9 in /usr/local/lib/python3.10/dist-packages (from jsonpatch<2.0,>=1.33->langchain-core<0.4.0,>=0.3.15->langchain) (3.0.0)\n",
            "Requirement already satisfied: exceptiongroup in /usr/local/lib/python3.10/dist-packages (from anyio->httpx<1,>=0.23.0->langsmith<0.2.0,>=0.1.17->langchain) (1.2.2)\n"
          ]
        }
      ],
      "source": [
        "pip install langchain"
      ]
    },
    {
      "cell_type": "markdown",
      "source": [
        "# **Splitters**"
      ],
      "metadata": {
        "id": "t9yKNzTB32Yu"
      }
    },
    {
      "cell_type": "code",
      "source": [
        "from langchain.text_splitter import CharacterTextSplitter, RecursiveCharacterTextSplitter"
      ],
      "metadata": {
        "id": "cL15jYGg4S5w"
      },
      "execution_count": null,
      "outputs": []
    },
    {
      "cell_type": "code",
      "source": [
        "chunk_size = 26 #(26 characters including space)\n",
        "chunk_overlap = 4"
      ],
      "metadata": {
        "id": "UWuB1BJd4ok5"
      },
      "execution_count": null,
      "outputs": []
    },
    {
      "cell_type": "markdown",
      "source": [
        "**Recursive splitter**"
      ],
      "metadata": {
        "id": "_58XZykw3-mr"
      }
    },
    {
      "cell_type": "code",
      "source": [
        "r_splitter = RecursiveCharacterTextSplitter(\n",
        "    chunk_size=chunk_size,\n",
        "    separators=[\"\\n\\n\",\"\\n\",\",\",\"\",\" \"],  #when paragraph end it split document\n",
        "    chunk_overlap=chunk_overlap\n",
        ")"
      ],
      "metadata": {
        "id": "xkiyvF9gAgr4"
      },
      "execution_count": null,
      "outputs": []
    },
    {
      "cell_type": "code",
      "source": [
        "text_1 = \"abcdefghijklmnopqrstuvwxyz\"\n",
        "text_2 = \"abcdefghijklmnopqrstuvwxyzabcdefg\"\n",
        "text_3 = \"Most of us have childhood memories of gaping at our elders in wonder when they narrated to us the amusing fables of Aesop, the picturesque fairy tales, the funny anecdotes, the lyrical short stories, and so on. Classic bedtime stories take us into the world of imagination. These short stories are identified with brevity and compact narrative. Vedantu brings forth some of the most amazing kids' stories with colourful illustrations to make the most of the leisure reading of kids. \"\n",
        "text_4 = \"\"\"This is the first line.\n",
        "This is the second line.\n",
        "And here is the third line.\"\"\"\n",
        "text_5= \"\"\"\n",
        "Python is a versatile and powerful programming language that emphasizes simplicity and readability. Its easy-to-understand syntax makes it a great choice for beginners, yet it's also robust enough for advanced developers working on complex projects.\n",
        "\n",
        "With a rich standard library and a large supportive community, Python provides tools and libraries for almost any task, from web development to data science. Popular frameworks like Django and Flask make building web applications a breeze, while libraries like NumPy and pandas excel in data manipulation and analysis.\n",
        "\n",
        "Python also supports multiple programming paradigms, including object-oriented, procedural, and functional programming. This flexibility makes it suitable for a wide range of applications, from scripting and automation to machine learning and artificial intelligence.\n",
        "\"\"\"\n"
      ],
      "metadata": {
        "id": "KISmeHYzA3vy"
      },
      "execution_count": null,
      "outputs": []
    },
    {
      "cell_type": "code",
      "source": [
        "r_splitter.split_text(text_1)"
      ],
      "metadata": {
        "colab": {
          "base_uri": "https://localhost:8080/"
        },
        "id": "6GEDM6q9BKHl",
        "outputId": "2fcccb70-b6af-4226-dab6-2d82d632670b"
      },
      "execution_count": null,
      "outputs": [
        {
          "output_type": "execute_result",
          "data": {
            "text/plain": [
              "['abcdefghijklmnopqrstuvwxyz']"
            ]
          },
          "metadata": {},
          "execution_count": 16
        }
      ]
    },
    {
      "cell_type": "code",
      "source": [
        "r_splitter.split_text(text_2)"
      ],
      "metadata": {
        "colab": {
          "base_uri": "https://localhost:8080/"
        },
        "id": "3SAGh1FhDcjW",
        "outputId": "efa0385d-deb4-43c9-b23a-dfb046559e0b"
      },
      "execution_count": null,
      "outputs": [
        {
          "output_type": "execute_result",
          "data": {
            "text/plain": [
              "['abcdefghijklmnopqrstuvwxyzabcdefg']"
            ]
          },
          "metadata": {},
          "execution_count": 17
        }
      ]
    },
    {
      "cell_type": "code",
      "source": [
        "r_splitter.split_text(text_3)"
      ],
      "metadata": {
        "colab": {
          "base_uri": "https://localhost:8080/"
        },
        "id": "FWqnH1EpDnbF",
        "outputId": "1fe63263-1aa1-4cee-c77b-d4cf463a30be"
      },
      "execution_count": null,
      "outputs": [
        {
          "output_type": "execute_result",
          "data": {
            "text/plain": [
              "[\"Most of us have childhood memories of gaping at our elders in wonder when they narrated to us the amusing fables of Aesop, the picturesque fairy tales, the funny anecdotes, the lyrical short stories, and so on. Classic bedtime stories take us into the world of imagination. These short stories are identified with brevity and compact narrative. Vedantu brings forth some of the most amazing kids' stories with colourful illustrations to make the most of the leisure reading of kids. \"]"
            ]
          },
          "metadata": {},
          "execution_count": 18
        }
      ]
    },
    {
      "cell_type": "code",
      "source": [
        "r_splitter.split_text(text_4)"
      ],
      "metadata": {
        "colab": {
          "base_uri": "https://localhost:8080/"
        },
        "id": "ErGV9vr7J5l7",
        "outputId": "eb9a35fb-474b-464e-dc60-a383c9e29eb2"
      },
      "execution_count": null,
      "outputs": [
        {
          "output_type": "execute_result",
          "data": {
            "text/plain": [
              "['This is the first line.\\nThis is the second line.\\nAnd here is the third line.']"
            ]
          },
          "metadata": {},
          "execution_count": 43
        }
      ]
    },
    {
      "cell_type": "code",
      "source": [
        "r_splitter.split_text(text_5)"
      ],
      "metadata": {
        "colab": {
          "base_uri": "https://localhost:8080/"
        },
        "id": "NNE_1inhJ7bP",
        "outputId": "fd0a1551-ceca-4e2c-96c8-3d01915584d1"
      },
      "execution_count": null,
      "outputs": [
        {
          "output_type": "execute_result",
          "data": {
            "text/plain": [
              "[\"\\nPython is a versatile and powerful programming language that emphasizes simplicity and readability. Its easy-to-understand syntax makes it a great choice for beginners, yet it's also robust enough for advanced developers working on complex projects.\",\n",
              " '\\n\\nWith a rich standard library and a large supportive community, Python provides tools and libraries for almost any task, from web development to data science. Popular frameworks like Django and Flask make building web applications a breeze, while libraries like NumPy and pandas excel in data manipulation and analysis.',\n",
              " '\\n\\nPython also supports multiple programming paradigms, including object-oriented, procedural, and functional programming. This flexibility makes it suitable for a wide range of applications, from scripting and automation to machine learning and artificial intelligence.\\n']"
            ]
          },
          "metadata": {},
          "execution_count": 44
        }
      ]
    },
    {
      "cell_type": "code",
      "source": [
        "r_splitter = RecursiveCharacterTextSplitter(\n",
        "    chunk_size=chunk_size,\n",
        "    separators=[\"\\n\"],  #when line end it split document, as chunk size is 26 words after 26 words where line end it split otherwise increase length unitil reaches to maximum chunk size.\n",
        "    chunk_overlap=chunk_overlap\n",
        ")"
      ],
      "metadata": {
        "id": "pxI5hVR7EPk3"
      },
      "execution_count": null,
      "outputs": []
    },
    {
      "cell_type": "code",
      "source": [
        "r_splitter.split_text(text_1)"
      ],
      "metadata": {
        "colab": {
          "base_uri": "https://localhost:8080/"
        },
        "id": "3XMopj44EPie",
        "outputId": "249d5cf5-384d-4d4b-c047-47613a2432df"
      },
      "execution_count": null,
      "outputs": [
        {
          "output_type": "execute_result",
          "data": {
            "text/plain": [
              "['abcdefghijklmnopqrstuvwxyz']"
            ]
          },
          "metadata": {},
          "execution_count": 53
        }
      ]
    },
    {
      "cell_type": "code",
      "source": [
        "r_splitter.split_text(text_2)"
      ],
      "metadata": {
        "colab": {
          "base_uri": "https://localhost:8080/"
        },
        "id": "5ZfYl3YJLG75",
        "outputId": "0b118c89-ee24-423b-ae5c-628851c828b1"
      },
      "execution_count": null,
      "outputs": [
        {
          "output_type": "execute_result",
          "data": {
            "text/plain": [
              "['abcdefghijklmnopqrstuvwxyzabcdefg']"
            ]
          },
          "metadata": {},
          "execution_count": 54
        }
      ]
    },
    {
      "cell_type": "code",
      "source": [
        "r_splitter.split_text(text_3)"
      ],
      "metadata": {
        "colab": {
          "base_uri": "https://localhost:8080/"
        },
        "id": "ZRGvg36gLImv",
        "outputId": "49550aac-df56-46b2-aa97-4ac72eee05a5"
      },
      "execution_count": null,
      "outputs": [
        {
          "output_type": "execute_result",
          "data": {
            "text/plain": [
              "[\"Most of us have childhood memories of gaping at our elders in wonder when they narrated to us the amusing fables of Aesop, the picturesque fairy tales, the funny anecdotes, the lyrical short stories, and so on. Classic bedtime stories take us into the world of imagination. These short stories are identified with brevity and compact narrative. Vedantu brings forth some of the most amazing kids' stories with colourful illustrations to make the most of the leisure reading of kids. \"]"
            ]
          },
          "metadata": {},
          "execution_count": 55
        }
      ]
    },
    {
      "cell_type": "code",
      "source": [
        "r_splitter.split_text(text_4)"
      ],
      "metadata": {
        "colab": {
          "base_uri": "https://localhost:8080/"
        },
        "id": "uSD6qjENLJZH",
        "outputId": "9c5051ae-0a57-4df3-b0af-b8de0e57ae06"
      },
      "execution_count": null,
      "outputs": [
        {
          "output_type": "execute_result",
          "data": {
            "text/plain": [
              "['This is the first line.',\n",
              " 'This is the second line.',\n",
              " '\\nAnd here is the third line.']"
            ]
          },
          "metadata": {},
          "execution_count": 56
        }
      ]
    },
    {
      "cell_type": "code",
      "source": [
        "r_splitter.split_text(text_5)"
      ],
      "metadata": {
        "colab": {
          "base_uri": "https://localhost:8080/"
        },
        "id": "Hi9Rn_XgKWn7",
        "outputId": "f8572b9f-c52f-473f-bbd9-1359d126b213"
      },
      "execution_count": null,
      "outputs": [
        {
          "output_type": "execute_result",
          "data": {
            "text/plain": [
              "[\"\\nPython is a versatile and powerful programming language that emphasizes simplicity and readability. Its easy-to-understand syntax makes it a great choice for beginners, yet it's also robust enough for advanced developers working on complex projects.\",\n",
              " '\\nWith a rich standard library and a large supportive community, Python provides tools and libraries for almost any task, from web development to data science. Popular frameworks like Django and Flask make building web applications a breeze, while libraries like NumPy and pandas excel in data manipulation and analysis.',\n",
              " '\\nPython also supports multiple programming paradigms, including object-oriented, procedural, and functional programming. This flexibility makes it suitable for a wide range of applications, from scripting and automation to machine learning and artificial intelligence.']"
            ]
          },
          "metadata": {},
          "execution_count": 57
        }
      ]
    },
    {
      "cell_type": "code",
      "source": [
        "r_splitter = RecursiveCharacterTextSplitter(\n",
        "    chunk_size=chunk_size,\n",
        "    separators=[\",\"],  #when comma it split document\n",
        "    chunk_overlap=chunk_overlap\n",
        ")"
      ],
      "metadata": {
        "id": "yf13gtFyE0Ks"
      },
      "execution_count": null,
      "outputs": []
    },
    {
      "cell_type": "code",
      "source": [
        "r_splitter.split_text(text_1)\n",
        "r_splitter.split_text(text_2)\n",
        "r_splitter.split_text(text_3)"
      ],
      "metadata": {
        "colab": {
          "base_uri": "https://localhost:8080/"
        },
        "id": "ZCNd0wC-E75k",
        "outputId": "66d89f1a-dd2d-4f35-f32b-05f00692ab46"
      },
      "execution_count": null,
      "outputs": [
        {
          "output_type": "execute_result",
          "data": {
            "text/plain": [
              "['Most of us have childhood memories of gaping at our elders in wonder when they narrated to us the amusing fables of Aesop',\n",
              " ', the picturesque fairy tales',\n",
              " ', the funny anecdotes',\n",
              " ', the lyrical short stories',\n",
              " \", and so on. Classic bedtime stories take us into the world of imagination. These short stories are identified with brevity and compact narrative. Vedantu brings forth some of the most amazing kids' stories with colourful illustrations to make the most of the leisure reading of kids. \"]"
            ]
          },
          "metadata": {},
          "execution_count": 24
        }
      ]
    },
    {
      "cell_type": "code",
      "source": [
        "r_splitter.split_text(text_4)"
      ],
      "metadata": {
        "colab": {
          "base_uri": "https://localhost:8080/"
        },
        "id": "R-F4asjqKy0p",
        "outputId": "dec2b08a-8bbb-40eb-9356-b9ab89f0064b"
      },
      "execution_count": null,
      "outputs": [
        {
          "output_type": "execute_result",
          "data": {
            "text/plain": [
              "['This is the first line.\\nThis is the second line.\\nAnd here is the third line.']"
            ]
          },
          "metadata": {},
          "execution_count": 50
        }
      ]
    },
    {
      "cell_type": "code",
      "source": [
        "r_splitter.split_text(text_5)"
      ],
      "metadata": {
        "colab": {
          "base_uri": "https://localhost:8080/"
        },
        "id": "nNyUuLVZK0p6",
        "outputId": "9a4c010f-ddfe-4796-9716-27148b8a8844"
      },
      "execution_count": null,
      "outputs": [
        {
          "output_type": "execute_result",
          "data": {
            "text/plain": [
              "['\\nPython is a versatile and powerful programming language that emphasizes simplicity and readability. Its easy-to-understand syntax makes it a great choice for beginners',\n",
              " \", yet it's also robust enough for advanced developers working on complex projects.\\n\\nWith a rich standard library and a large supportive community\",\n",
              " ', Python provides tools and libraries for almost any task',\n",
              " ', from web development to data science. Popular frameworks like Django and Flask make building web applications a breeze',\n",
              " ', while libraries like NumPy and pandas excel in data manipulation and analysis.\\n\\nPython also supports multiple programming paradigms',\n",
              " ', including object-oriented',\n",
              " ', procedural',\n",
              " ', and functional programming. This flexibility makes it suitable for a wide range of applications',\n",
              " ', from scripting and automation to machine learning and artificial intelligence.\\n']"
            ]
          },
          "metadata": {},
          "execution_count": 51
        }
      ]
    },
    {
      "cell_type": "code",
      "source": [
        "r_splitter = RecursiveCharacterTextSplitter(\n",
        "    chunk_size=chunk_size,\n",
        "    separators=[\" \"],  #before completion of 26 words which is chunk size it breaks when space appear\n",
        "    chunk_overlap=chunk_overlap\n",
        ")\n",
        "r_splitter.split_text(text_1)\n",
        "r_splitter.split_text(text_2)\n",
        "r_splitter.split_text(text_3)"
      ],
      "metadata": {
        "colab": {
          "base_uri": "https://localhost:8080/"
        },
        "id": "m_qAlPeCFMvV",
        "outputId": "b2f03118-8bc9-4ee3-935b-630ff7b75e12"
      },
      "execution_count": null,
      "outputs": [
        {
          "output_type": "execute_result",
          "data": {
            "text/plain": [
              "['Most of us have childhood',\n",
              " 'memories of gaping at our',\n",
              " 'our elders in wonder when',\n",
              " 'they narrated to us the',\n",
              " 'the amusing fables of',\n",
              " 'of Aesop, the picturesque',\n",
              " 'fairy tales, the funny',\n",
              " 'anecdotes, the lyrical',\n",
              " 'short stories, and so on.',\n",
              " 'on. Classic bedtime',\n",
              " 'stories take us into the',\n",
              " 'the world of imagination.',\n",
              " 'These short stories are',\n",
              " 'are identified with',\n",
              " 'brevity and compact',\n",
              " 'narrative. Vedantu brings',\n",
              " 'forth some of the most',\n",
              " \"amazing kids' stories\",\n",
              " 'with colourful',\n",
              " 'illustrations to make the',\n",
              " 'the most of the leisure',\n",
              " 'reading of kids.']"
            ]
          },
          "metadata": {},
          "execution_count": 76
        }
      ]
    },
    {
      "cell_type": "code",
      "source": [
        "r_splitter.split_text(text_4)"
      ],
      "metadata": {
        "colab": {
          "base_uri": "https://localhost:8080/"
        },
        "id": "s71fnL21PGvY",
        "outputId": "a3fee14b-08d2-44c3-ef73-1fdac0e216fb"
      },
      "execution_count": null,
      "outputs": [
        {
          "output_type": "execute_result",
          "data": {
            "text/plain": [
              "['This is the first',\n",
              " 'line.\\nThis is the second',\n",
              " 'line.\\nAnd here is the',\n",
              " 'the third line.']"
            ]
          },
          "metadata": {},
          "execution_count": 77
        }
      ]
    },
    {
      "cell_type": "code",
      "source": [
        "r_splitter = RecursiveCharacterTextSplitter(\n",
        "    chunk_size=chunk_size,\n",
        "    separators=[\"\"],  #when chunk size complete it split document\n",
        "    chunk_overlap=chunk_overlap\n",
        ")\n",
        "r_splitter.split_text(text_1)\n",
        "r_splitter.split_text(text_2)\n",
        "r_splitter.split_text(text_3)"
      ],
      "metadata": {
        "colab": {
          "base_uri": "https://localhost:8080/"
        },
        "id": "1-YAzDjzFdT8",
        "outputId": "0ed6ce5f-c5e5-40da-ed99-4669c6ab5d22"
      },
      "execution_count": null,
      "outputs": [
        {
          "output_type": "execute_result",
          "data": {
            "text/plain": [
              "['Most of us have childhood',\n",
              " 'ood memories of gaping at',\n",
              " 'at our elders in wonder w',\n",
              " 'er when they narrated to u',\n",
              " 'to us the amusing fables o',\n",
              " 'es of Aesop, the picturesq',\n",
              " 'resque fairy tales, the fu',\n",
              " 'e funny anecdotes, the lyr',\n",
              " 'lyrical short stories, an',\n",
              " ', and so on. Classic bedti',\n",
              " 'edtime stories take us int',\n",
              " 'into the world of imagina',\n",
              " 'gination. These short stor',\n",
              " 'stories are identified wit',\n",
              " 'with brevity and compact',\n",
              " 'act narrative. Vedantu bri',\n",
              " 'brings forth some of the',\n",
              " \"the most amazing kids' sto\",\n",
              " 'stories with colourful il',\n",
              " 'l illustrations to make th',\n",
              " 'e the most of the leisure',\n",
              " 'ure reading of kids.']"
            ]
          },
          "metadata": {},
          "execution_count": 26
        }
      ]
    },
    {
      "cell_type": "markdown",
      "source": [
        "**Character text splitter**"
      ],
      "metadata": {
        "id": "CkvRaDrQ4GZo"
      }
    },
    {
      "cell_type": "code",
      "source": [
        "c_splitter = CharacterTextSplitter(\n",
        "    chunk_size=chunk_size,\n",
        "    separator = \"\\n\",\n",
        "    chunk_overlap=chunk_overlap\n",
        ")\n",
        "c_splitter.split_text(text_1)\n",
        "c_splitter.split_text(text_2)\n",
        "c_splitter.split_text(text_3)"
      ],
      "metadata": {
        "colab": {
          "base_uri": "https://localhost:8080/"
        },
        "id": "UWMbdFY-AuOa",
        "outputId": "d2a3a79a-a56e-49c2-c9e0-da79974b2ca5"
      },
      "execution_count": null,
      "outputs": [
        {
          "output_type": "execute_result",
          "data": {
            "text/plain": [
              "[\"Most of us have childhood memories of gaping at our elders in wonder when they narrated to us the amusing fables of Aesop, the picturesque fairy tales, the funny anecdotes, the lyrical short stories, and so on. Classic bedtime stories take us into the world of imagination. These short stories are identified with brevity and compact narrative. Vedantu brings forth some of the most amazing kids' stories with colourful illustrations to make the most of the leisure reading of kids.\"]"
            ]
          },
          "metadata": {},
          "execution_count": 58
        }
      ]
    },
    {
      "cell_type": "code",
      "source": [
        "r_splitter.split_text(text_4)"
      ],
      "metadata": {
        "colab": {
          "base_uri": "https://localhost:8080/"
        },
        "id": "xU8co1-DNtk7",
        "outputId": "3f0ae479-0f7b-4468-bebe-cc81709a74f7"
      },
      "execution_count": null,
      "outputs": [
        {
          "output_type": "execute_result",
          "data": {
            "text/plain": [
              "['This is the first line.',\n",
              " 'This is the second line.',\n",
              " '\\nAnd here is the third line.']"
            ]
          },
          "metadata": {},
          "execution_count": 59
        }
      ]
    },
    {
      "cell_type": "code",
      "source": [
        "r_splitter.split_text(text_5)"
      ],
      "metadata": {
        "colab": {
          "base_uri": "https://localhost:8080/"
        },
        "id": "jp4GE6tbNvsR",
        "outputId": "ab53b49b-852b-4972-9d42-1e694575f1ea"
      },
      "execution_count": null,
      "outputs": [
        {
          "output_type": "execute_result",
          "data": {
            "text/plain": [
              "[\"\\nPython is a versatile and powerful programming language that emphasizes simplicity and readability. Its easy-to-understand syntax makes it a great choice for beginners, yet it's also robust enough for advanced developers working on complex projects.\",\n",
              " '\\nWith a rich standard library and a large supportive community, Python provides tools and libraries for almost any task, from web development to data science. Popular frameworks like Django and Flask make building web applications a breeze, while libraries like NumPy and pandas excel in data manipulation and analysis.',\n",
              " '\\nPython also supports multiple programming paradigms, including object-oriented, procedural, and functional programming. This flexibility makes it suitable for a wide range of applications, from scripting and automation to machine learning and artificial intelligence.']"
            ]
          },
          "metadata": {},
          "execution_count": 60
        }
      ]
    },
    {
      "cell_type": "code",
      "source": [
        "c_splitter = CharacterTextSplitter(\n",
        "    chunk_size=chunk_size,\n",
        "    separator = \"\\n\\n\",\n",
        "    chunk_overlap=chunk_overlap\n",
        ")\n",
        "c_splitter.split_text(text_1)\n",
        "c_splitter.split_text(text_2)\n",
        "c_splitter.split_text(text_3)"
      ],
      "metadata": {
        "colab": {
          "base_uri": "https://localhost:8080/"
        },
        "id": "6JQnBMgIHPbJ",
        "outputId": "b921f43e-1381-4f74-ed58-ad0267d2bf56"
      },
      "execution_count": null,
      "outputs": [
        {
          "output_type": "execute_result",
          "data": {
            "text/plain": [
              "[\"Most of us have childhood memories of gaping at our elders in wonder when they narrated to us the amusing fables of Aesop, the picturesque fairy tales, the funny anecdotes, the lyrical short stories, and so on. Classic bedtime stories take us into the world of imagination. These short stories are identified with brevity and compact narrative. Vedantu brings forth some of the most amazing kids' stories with colourful illustrations to make the most of the leisure reading of kids.\"]"
            ]
          },
          "metadata": {},
          "execution_count": 70
        }
      ]
    },
    {
      "cell_type": "code",
      "source": [
        "c_splitter.split_text(text_4)"
      ],
      "metadata": {
        "colab": {
          "base_uri": "https://localhost:8080/"
        },
        "id": "scij5eTpN2qp",
        "outputId": "e4b23db3-06e5-44e4-a53d-7cb7cc26b05a"
      },
      "execution_count": null,
      "outputs": [
        {
          "output_type": "execute_result",
          "data": {
            "text/plain": [
              "['This is the first line.\\nThis is the second line.\\nAnd here is the third line.']"
            ]
          },
          "metadata": {},
          "execution_count": 71
        }
      ]
    },
    {
      "cell_type": "code",
      "source": [
        "c_splitter.split_text(text_5)"
      ],
      "metadata": {
        "colab": {
          "base_uri": "https://localhost:8080/"
        },
        "id": "Czlqdyf1N4Ln",
        "outputId": "d0a55296-cf24-4011-b67a-b9436c4fec41"
      },
      "execution_count": null,
      "outputs": [
        {
          "output_type": "stream",
          "name": "stderr",
          "text": [
            "WARNING:langchain_text_splitters.base:Created a chunk of size 250, which is longer than the specified 26\n",
            "WARNING:langchain_text_splitters.base:Created a chunk of size 318, which is longer than the specified 26\n"
          ]
        },
        {
          "output_type": "execute_result",
          "data": {
            "text/plain": [
              "[\"Python is a versatile and powerful programming language that emphasizes simplicity and readability. Its easy-to-understand syntax makes it a great choice for beginners, yet it's also robust enough for advanced developers working on complex projects.\",\n",
              " 'With a rich standard library and a large supportive community, Python provides tools and libraries for almost any task, from web development to data science. Popular frameworks like Django and Flask make building web applications a breeze, while libraries like NumPy and pandas excel in data manipulation and analysis.',\n",
              " 'Python also supports multiple programming paradigms, including object-oriented, procedural, and functional programming. This flexibility makes it suitable for a wide range of applications, from scripting and automation to machine learning and artificial intelligence.']"
            ]
          },
          "metadata": {},
          "execution_count": 72
        }
      ]
    },
    {
      "cell_type": "code",
      "source": [
        "c_splitter = CharacterTextSplitter(\n",
        "    chunk_size=chunk_size,\n",
        "    separator = \" \",\n",
        "    chunk_overlap=chunk_overlap\n",
        ")\n",
        "c_splitter.split_text(text_1)\n",
        "c_splitter.split_text(text_2)\n",
        "c_splitter.split_text(text_3)"
      ],
      "metadata": {
        "colab": {
          "base_uri": "https://localhost:8080/"
        },
        "id": "NL-Jh3M8HdCk",
        "outputId": "4f268adb-6d83-4c00-fe4a-9cfd34e35543"
      },
      "execution_count": null,
      "outputs": [
        {
          "output_type": "execute_result",
          "data": {
            "text/plain": [
              "['Most of us have childhood',\n",
              " 'memories of gaping at our',\n",
              " 'our elders in wonder when',\n",
              " 'when they narrated to us',\n",
              " 'us the amusing fables of',\n",
              " 'of Aesop, the picturesque',\n",
              " 'fairy tales, the funny',\n",
              " 'anecdotes, the lyrical',\n",
              " 'short stories, and so on.',\n",
              " 'on. Classic bedtime',\n",
              " 'stories take us into the',\n",
              " 'the world of imagination.',\n",
              " 'These short stories are',\n",
              " 'are identified with',\n",
              " 'with brevity and compact',\n",
              " 'narrative. Vedantu brings',\n",
              " 'forth some of the most',\n",
              " \"most amazing kids' stories\",\n",
              " 'with colourful',\n",
              " 'illustrations to make the',\n",
              " 'the most of the leisure',\n",
              " 'reading of kids.']"
            ]
          },
          "metadata": {},
          "execution_count": 73
        }
      ]
    },
    {
      "cell_type": "code",
      "source": [
        "c_splitter.split_text(text_4)"
      ],
      "metadata": {
        "colab": {
          "base_uri": "https://localhost:8080/"
        },
        "id": "1jAjhtjsOJC2",
        "outputId": "77952283-a0bd-4971-82f9-5a009f42fcbb"
      },
      "execution_count": null,
      "outputs": [
        {
          "output_type": "execute_result",
          "data": {
            "text/plain": [
              "['This is the first',\n",
              " 'line.\\nThis is the second',\n",
              " 'line.\\nAnd here is the',\n",
              " 'the third line.']"
            ]
          },
          "metadata": {},
          "execution_count": 74
        }
      ]
    },
    {
      "cell_type": "code",
      "source": [
        "c_splitter.split_text(text_5)"
      ],
      "metadata": {
        "colab": {
          "base_uri": "https://localhost:8080/"
        },
        "id": "-8ErXh-aOKKf",
        "outputId": "30df0c55-09d9-49eb-b83c-a6da21bbd9df"
      },
      "execution_count": null,
      "outputs": [
        {
          "output_type": "execute_result",
          "data": {
            "text/plain": [
              "['Python is a versatile and',\n",
              " 'and powerful programming',\n",
              " 'language that emphasizes',\n",
              " 'simplicity and',\n",
              " 'and readability. Its',\n",
              " 'Its easy-to-understand',\n",
              " 'syntax makes it a great',\n",
              " 'choice for beginners, yet',\n",
              " \"yet it's also robust\",\n",
              " 'enough for advanced',\n",
              " 'developers working on',\n",
              " 'on complex projects.\\n\\nWith',\n",
              " 'a rich standard library',\n",
              " 'and a large supportive',\n",
              " 'community, Python provides',\n",
              " 'tools and libraries for',\n",
              " 'for almost any task, from',\n",
              " 'from web development to',\n",
              " 'to data science. Popular',\n",
              " 'frameworks like Django and',\n",
              " 'and Flask make building',\n",
              " 'web applications a breeze,',\n",
              " 'while libraries like NumPy',\n",
              " 'and pandas excel in data',\n",
              " 'data manipulation and',\n",
              " 'and analysis.\\n\\nPython also',\n",
              " 'also supports multiple',\n",
              " 'programming paradigms,',\n",
              " 'including object-oriented,',\n",
              " 'procedural, and functional',\n",
              " 'programming. This',\n",
              " 'This flexibility makes it',\n",
              " 'it suitable for a wide',\n",
              " 'wide range of',\n",
              " 'of applications, from',\n",
              " 'from scripting and',\n",
              " 'and automation to machine',\n",
              " 'learning and artificial',\n",
              " 'intelligence.']"
            ]
          },
          "metadata": {},
          "execution_count": 75
        }
      ]
    },
    {
      "cell_type": "code",
      "source": [
        "c_splitter = CharacterTextSplitter(\n",
        "    chunk_size=chunk_size,\n",
        "    separator = \",\",\n",
        "    chunk_overlap=chunk_overlap\n",
        ")\n",
        "c_splitter.split_text(text_1)\n",
        "c_splitter.split_text(text_2)\n",
        "c_splitter.split_text(text_3)"
      ],
      "metadata": {
        "colab": {
          "base_uri": "https://localhost:8080/"
        },
        "id": "U1dQ-ivGHlQK",
        "outputId": "13ab8c45-f747-484b-9b13-fbc5e13a3385"
      },
      "execution_count": null,
      "outputs": [
        {
          "output_type": "stream",
          "name": "stderr",
          "text": [
            "WARNING:langchain_text_splitters.base:Created a chunk of size 121, which is longer than the specified 26\n",
            "WARNING:langchain_text_splitters.base:Created a chunk of size 28, which is longer than the specified 26\n"
          ]
        },
        {
          "output_type": "execute_result",
          "data": {
            "text/plain": [
              "['Most of us have childhood memories of gaping at our elders in wonder when they narrated to us the amusing fables of Aesop',\n",
              " 'the picturesque fairy tales',\n",
              " 'the funny anecdotes',\n",
              " 'the lyrical short stories',\n",
              " \"and so on. Classic bedtime stories take us into the world of imagination. These short stories are identified with brevity and compact narrative. Vedantu brings forth some of the most amazing kids' stories with colourful illustrations to make the most of the leisure reading of kids.\"]"
            ]
          },
          "metadata": {},
          "execution_count": 32
        }
      ]
    },
    {
      "cell_type": "code",
      "source": [
        "c_splitter = CharacterTextSplitter(\n",
        "    chunk_size=chunk_size,\n",
        "    separator = \"\",\n",
        "    chunk_overlap=chunk_overlap\n",
        ")\n",
        "c_splitter.split_text(text_1)\n",
        "c_splitter.split_text(text_2)\n",
        "c_splitter.split_text(text_3)"
      ],
      "metadata": {
        "colab": {
          "base_uri": "https://localhost:8080/"
        },
        "id": "4tjDGhgoHlN3",
        "outputId": "36a225a3-0540-4588-d24c-acf0a2ab511a"
      },
      "execution_count": null,
      "outputs": [
        {
          "output_type": "execute_result",
          "data": {
            "text/plain": [
              "['Most of us have childhood',\n",
              " 'ood memories of gaping at',\n",
              " 'at our elders in wonder w',\n",
              " 'er when they narrated to u',\n",
              " 'to us the amusing fables o',\n",
              " 'es of Aesop, the picturesq',\n",
              " 'resque fairy tales, the fu',\n",
              " 'e funny anecdotes, the lyr',\n",
              " 'lyrical short stories, an',\n",
              " ', and so on. Classic bedti',\n",
              " 'edtime stories take us int',\n",
              " 'into the world of imagina',\n",
              " 'gination. These short stor',\n",
              " 'stories are identified wit',\n",
              " 'with brevity and compact',\n",
              " 'act narrative. Vedantu bri',\n",
              " 'brings forth some of the',\n",
              " \"the most amazing kids' sto\",\n",
              " 'stories with colourful il',\n",
              " 'l illustrations to make th',\n",
              " 'e the most of the leisure',\n",
              " 'ure reading of kids.']"
            ]
          },
          "metadata": {},
          "execution_count": 33
        }
      ]
    },
    {
      "cell_type": "markdown",
      "source": [
        "**Semantic splitter**  \n",
        "split the text based on semantic similarity.  \n",
        "At high level it splits into sentences, then group into groups of three sentences and then merges one that are similar in embedding space  \n",
        "**Purpose of this splitter**  \n",
        "convert whole document in to embeddings and compile all similar embeddings into one chunk means create d/f chuncks of similar embeddings  \n",
        "advantage is there is no need of providing chunk size\n",
        "\n"
      ],
      "metadata": {
        "id": "mWAquJiBgaIa"
      }
    },
    {
      "cell_type": "code",
      "source": [
        "pip install langchain_experimental"
      ],
      "metadata": {
        "colab": {
          "base_uri": "https://localhost:8080/"
        },
        "collapsed": true,
        "id": "rqgwN4-fiT0r",
        "outputId": "e4be9a8c-3574-4c56-f8a0-aa9ad5c9e94a"
      },
      "execution_count": null,
      "outputs": [
        {
          "output_type": "stream",
          "name": "stdout",
          "text": [
            "Collecting langchain_experimental\n",
            "  Downloading langchain_experimental-0.3.3-py3-none-any.whl.metadata (1.7 kB)\n",
            "Collecting langchain-community<0.4.0,>=0.3.0 (from langchain_experimental)\n",
            "  Downloading langchain_community-0.3.7-py3-none-any.whl.metadata (2.9 kB)\n",
            "Requirement already satisfied: langchain-core<0.4.0,>=0.3.15 in /usr/local/lib/python3.10/dist-packages (from langchain_experimental) (0.3.19)\n",
            "Requirement already satisfied: PyYAML>=5.3 in /usr/local/lib/python3.10/dist-packages (from langchain-community<0.4.0,>=0.3.0->langchain_experimental) (6.0.2)\n",
            "Collecting SQLAlchemy<2.0.36,>=1.4 (from langchain-community<0.4.0,>=0.3.0->langchain_experimental)\n",
            "  Downloading SQLAlchemy-2.0.35-cp310-cp310-manylinux_2_17_x86_64.manylinux2014_x86_64.whl.metadata (9.6 kB)\n",
            "Requirement already satisfied: aiohttp<4.0.0,>=3.8.3 in /usr/local/lib/python3.10/dist-packages (from langchain-community<0.4.0,>=0.3.0->langchain_experimental) (3.11.2)\n",
            "Collecting dataclasses-json<0.7,>=0.5.7 (from langchain-community<0.4.0,>=0.3.0->langchain_experimental)\n",
            "  Downloading dataclasses_json-0.6.7-py3-none-any.whl.metadata (25 kB)\n",
            "Collecting httpx-sse<0.5.0,>=0.4.0 (from langchain-community<0.4.0,>=0.3.0->langchain_experimental)\n",
            "  Downloading httpx_sse-0.4.0-py3-none-any.whl.metadata (9.0 kB)\n",
            "Requirement already satisfied: langchain<0.4.0,>=0.3.7 in /usr/local/lib/python3.10/dist-packages (from langchain-community<0.4.0,>=0.3.0->langchain_experimental) (0.3.7)\n",
            "Requirement already satisfied: langsmith<0.2.0,>=0.1.125 in /usr/local/lib/python3.10/dist-packages (from langchain-community<0.4.0,>=0.3.0->langchain_experimental) (0.1.143)\n",
            "Requirement already satisfied: numpy<2,>=1 in /usr/local/lib/python3.10/dist-packages (from langchain-community<0.4.0,>=0.3.0->langchain_experimental) (1.26.4)\n",
            "Collecting pydantic-settings<3.0.0,>=2.4.0 (from langchain-community<0.4.0,>=0.3.0->langchain_experimental)\n",
            "  Downloading pydantic_settings-2.6.1-py3-none-any.whl.metadata (3.5 kB)\n",
            "Requirement already satisfied: requests<3,>=2 in /usr/local/lib/python3.10/dist-packages (from langchain-community<0.4.0,>=0.3.0->langchain_experimental) (2.32.3)\n",
            "Requirement already satisfied: tenacity!=8.4.0,<10,>=8.1.0 in /usr/local/lib/python3.10/dist-packages (from langchain-community<0.4.0,>=0.3.0->langchain_experimental) (9.0.0)\n",
            "Requirement already satisfied: jsonpatch<2.0,>=1.33 in /usr/local/lib/python3.10/dist-packages (from langchain-core<0.4.0,>=0.3.15->langchain_experimental) (1.33)\n",
            "Requirement already satisfied: packaging<25,>=23.2 in /usr/local/lib/python3.10/dist-packages (from langchain-core<0.4.0,>=0.3.15->langchain_experimental) (24.2)\n",
            "Requirement already satisfied: pydantic<3.0.0,>=2.5.2 in /usr/local/lib/python3.10/dist-packages (from langchain-core<0.4.0,>=0.3.15->langchain_experimental) (2.9.2)\n",
            "Requirement already satisfied: typing-extensions>=4.7 in /usr/local/lib/python3.10/dist-packages (from langchain-core<0.4.0,>=0.3.15->langchain_experimental) (4.12.2)\n",
            "Requirement already satisfied: aiohappyeyeballs>=2.3.0 in /usr/local/lib/python3.10/dist-packages (from aiohttp<4.0.0,>=3.8.3->langchain-community<0.4.0,>=0.3.0->langchain_experimental) (2.4.3)\n",
            "Requirement already satisfied: aiosignal>=1.1.2 in /usr/local/lib/python3.10/dist-packages (from aiohttp<4.0.0,>=3.8.3->langchain-community<0.4.0,>=0.3.0->langchain_experimental) (1.3.1)\n",
            "Requirement already satisfied: attrs>=17.3.0 in /usr/local/lib/python3.10/dist-packages (from aiohttp<4.0.0,>=3.8.3->langchain-community<0.4.0,>=0.3.0->langchain_experimental) (24.2.0)\n",
            "Requirement already satisfied: frozenlist>=1.1.1 in /usr/local/lib/python3.10/dist-packages (from aiohttp<4.0.0,>=3.8.3->langchain-community<0.4.0,>=0.3.0->langchain_experimental) (1.5.0)\n",
            "Requirement already satisfied: multidict<7.0,>=4.5 in /usr/local/lib/python3.10/dist-packages (from aiohttp<4.0.0,>=3.8.3->langchain-community<0.4.0,>=0.3.0->langchain_experimental) (6.1.0)\n",
            "Requirement already satisfied: propcache>=0.2.0 in /usr/local/lib/python3.10/dist-packages (from aiohttp<4.0.0,>=3.8.3->langchain-community<0.4.0,>=0.3.0->langchain_experimental) (0.2.0)\n",
            "Requirement already satisfied: yarl<2.0,>=1.17.0 in /usr/local/lib/python3.10/dist-packages (from aiohttp<4.0.0,>=3.8.3->langchain-community<0.4.0,>=0.3.0->langchain_experimental) (1.17.2)\n",
            "Requirement already satisfied: async-timeout<6.0,>=4.0 in /usr/local/lib/python3.10/dist-packages (from aiohttp<4.0.0,>=3.8.3->langchain-community<0.4.0,>=0.3.0->langchain_experimental) (4.0.3)\n",
            "Collecting marshmallow<4.0.0,>=3.18.0 (from dataclasses-json<0.7,>=0.5.7->langchain-community<0.4.0,>=0.3.0->langchain_experimental)\n",
            "  Downloading marshmallow-3.23.1-py3-none-any.whl.metadata (7.5 kB)\n",
            "Collecting typing-inspect<1,>=0.4.0 (from dataclasses-json<0.7,>=0.5.7->langchain-community<0.4.0,>=0.3.0->langchain_experimental)\n",
            "  Downloading typing_inspect-0.9.0-py3-none-any.whl.metadata (1.5 kB)\n",
            "Requirement already satisfied: jsonpointer>=1.9 in /usr/local/lib/python3.10/dist-packages (from jsonpatch<2.0,>=1.33->langchain-core<0.4.0,>=0.3.15->langchain_experimental) (3.0.0)\n",
            "Requirement already satisfied: langchain-text-splitters<0.4.0,>=0.3.0 in /usr/local/lib/python3.10/dist-packages (from langchain<0.4.0,>=0.3.7->langchain-community<0.4.0,>=0.3.0->langchain_experimental) (0.3.2)\n",
            "Requirement already satisfied: httpx<1,>=0.23.0 in /usr/local/lib/python3.10/dist-packages (from langsmith<0.2.0,>=0.1.125->langchain-community<0.4.0,>=0.3.0->langchain_experimental) (0.27.2)\n",
            "Requirement already satisfied: orjson<4.0.0,>=3.9.14 in /usr/local/lib/python3.10/dist-packages (from langsmith<0.2.0,>=0.1.125->langchain-community<0.4.0,>=0.3.0->langchain_experimental) (3.10.11)\n",
            "Requirement already satisfied: requests-toolbelt<2.0.0,>=1.0.0 in /usr/local/lib/python3.10/dist-packages (from langsmith<0.2.0,>=0.1.125->langchain-community<0.4.0,>=0.3.0->langchain_experimental) (1.0.0)\n",
            "Requirement already satisfied: annotated-types>=0.6.0 in /usr/local/lib/python3.10/dist-packages (from pydantic<3.0.0,>=2.5.2->langchain-core<0.4.0,>=0.3.15->langchain_experimental) (0.7.0)\n",
            "Requirement already satisfied: pydantic-core==2.23.4 in /usr/local/lib/python3.10/dist-packages (from pydantic<3.0.0,>=2.5.2->langchain-core<0.4.0,>=0.3.15->langchain_experimental) (2.23.4)\n",
            "Collecting python-dotenv>=0.21.0 (from pydantic-settings<3.0.0,>=2.4.0->langchain-community<0.4.0,>=0.3.0->langchain_experimental)\n",
            "  Downloading python_dotenv-1.0.1-py3-none-any.whl.metadata (23 kB)\n",
            "Requirement already satisfied: charset-normalizer<4,>=2 in /usr/local/lib/python3.10/dist-packages (from requests<3,>=2->langchain-community<0.4.0,>=0.3.0->langchain_experimental) (3.4.0)\n",
            "Requirement already satisfied: idna<4,>=2.5 in /usr/local/lib/python3.10/dist-packages (from requests<3,>=2->langchain-community<0.4.0,>=0.3.0->langchain_experimental) (3.10)\n",
            "Requirement already satisfied: urllib3<3,>=1.21.1 in /usr/local/lib/python3.10/dist-packages (from requests<3,>=2->langchain-community<0.4.0,>=0.3.0->langchain_experimental) (2.2.3)\n",
            "Requirement already satisfied: certifi>=2017.4.17 in /usr/local/lib/python3.10/dist-packages (from requests<3,>=2->langchain-community<0.4.0,>=0.3.0->langchain_experimental) (2024.8.30)\n",
            "Requirement already satisfied: greenlet!=0.4.17 in /usr/local/lib/python3.10/dist-packages (from SQLAlchemy<2.0.36,>=1.4->langchain-community<0.4.0,>=0.3.0->langchain_experimental) (3.1.1)\n",
            "Requirement already satisfied: anyio in /usr/local/lib/python3.10/dist-packages (from httpx<1,>=0.23.0->langsmith<0.2.0,>=0.1.125->langchain-community<0.4.0,>=0.3.0->langchain_experimental) (3.7.1)\n",
            "Requirement already satisfied: httpcore==1.* in /usr/local/lib/python3.10/dist-packages (from httpx<1,>=0.23.0->langsmith<0.2.0,>=0.1.125->langchain-community<0.4.0,>=0.3.0->langchain_experimental) (1.0.7)\n",
            "Requirement already satisfied: sniffio in /usr/local/lib/python3.10/dist-packages (from httpx<1,>=0.23.0->langsmith<0.2.0,>=0.1.125->langchain-community<0.4.0,>=0.3.0->langchain_experimental) (1.3.1)\n",
            "Requirement already satisfied: h11<0.15,>=0.13 in /usr/local/lib/python3.10/dist-packages (from httpcore==1.*->httpx<1,>=0.23.0->langsmith<0.2.0,>=0.1.125->langchain-community<0.4.0,>=0.3.0->langchain_experimental) (0.14.0)\n",
            "Collecting mypy-extensions>=0.3.0 (from typing-inspect<1,>=0.4.0->dataclasses-json<0.7,>=0.5.7->langchain-community<0.4.0,>=0.3.0->langchain_experimental)\n",
            "  Downloading mypy_extensions-1.0.0-py3-none-any.whl.metadata (1.1 kB)\n",
            "Requirement already satisfied: exceptiongroup in /usr/local/lib/python3.10/dist-packages (from anyio->httpx<1,>=0.23.0->langsmith<0.2.0,>=0.1.125->langchain-community<0.4.0,>=0.3.0->langchain_experimental) (1.2.2)\n",
            "Downloading langchain_experimental-0.3.3-py3-none-any.whl (208 kB)\n",
            "\u001b[2K   \u001b[90m━━━━━━━━━━━━━━━━━━━━━━━━━━━━━━━━━━━━━━━━\u001b[0m \u001b[32m209.0/209.0 kB\u001b[0m \u001b[31m3.2 MB/s\u001b[0m eta \u001b[36m0:00:00\u001b[0m\n",
            "\u001b[?25hDownloading langchain_community-0.3.7-py3-none-any.whl (2.4 MB)\n",
            "\u001b[2K   \u001b[90m━━━━━━━━━━━━━━━━━━━━━━━━━━━━━━━━━━━━━━━━\u001b[0m \u001b[32m2.4/2.4 MB\u001b[0m \u001b[31m22.8 MB/s\u001b[0m eta \u001b[36m0:00:00\u001b[0m\n",
            "\u001b[?25hDownloading dataclasses_json-0.6.7-py3-none-any.whl (28 kB)\n",
            "Downloading httpx_sse-0.4.0-py3-none-any.whl (7.8 kB)\n",
            "Downloading pydantic_settings-2.6.1-py3-none-any.whl (28 kB)\n",
            "Downloading SQLAlchemy-2.0.35-cp310-cp310-manylinux_2_17_x86_64.manylinux2014_x86_64.whl (3.1 MB)\n",
            "\u001b[2K   \u001b[90m━━━━━━━━━━━━━━━━━━━━━━━━━━━━━━━━━━━━━━━━\u001b[0m \u001b[32m3.1/3.1 MB\u001b[0m \u001b[31m50.4 MB/s\u001b[0m eta \u001b[36m0:00:00\u001b[0m\n",
            "\u001b[?25hDownloading marshmallow-3.23.1-py3-none-any.whl (49 kB)\n",
            "\u001b[2K   \u001b[90m━━━━━━━━━━━━━━━━━━━━━━━━━━━━━━━━━━━━━━━━\u001b[0m \u001b[32m49.5/49.5 kB\u001b[0m \u001b[31m2.3 MB/s\u001b[0m eta \u001b[36m0:00:00\u001b[0m\n",
            "\u001b[?25hDownloading python_dotenv-1.0.1-py3-none-any.whl (19 kB)\n",
            "Downloading typing_inspect-0.9.0-py3-none-any.whl (8.8 kB)\n",
            "Downloading mypy_extensions-1.0.0-py3-none-any.whl (4.7 kB)\n",
            "Installing collected packages: SQLAlchemy, python-dotenv, mypy-extensions, marshmallow, httpx-sse, typing-inspect, pydantic-settings, dataclasses-json, langchain-community, langchain_experimental\n",
            "  Attempting uninstall: SQLAlchemy\n",
            "    Found existing installation: SQLAlchemy 2.0.36\n",
            "    Uninstalling SQLAlchemy-2.0.36:\n",
            "      Successfully uninstalled SQLAlchemy-2.0.36\n",
            "Successfully installed SQLAlchemy-2.0.35 dataclasses-json-0.6.7 httpx-sse-0.4.0 langchain-community-0.3.7 langchain_experimental-0.3.3 marshmallow-3.23.1 mypy-extensions-1.0.0 pydantic-settings-2.6.1 python-dotenv-1.0.1 typing-inspect-0.9.0\n"
          ]
        }
      ]
    },
    {
      "cell_type": "code",
      "source": [
        "from langchain_experimental.text_splitter import SemanticChunker"
      ],
      "metadata": {
        "id": "_SvnSxpngZCD"
      },
      "execution_count": null,
      "outputs": []
    },
    {
      "cell_type": "code",
      "source": [
        "text_splitter = SemanticChunker(\n",
        "    embed_model, breakpoint_threshold_type=\"percentile\"  #threshold how much similar data into one chunck\n",
        ")"
      ],
      "metadata": {
        "id": "65OiG7SSik_A"
      },
      "execution_count": null,
      "outputs": []
    },
    {
      "cell_type": "code",
      "source": [
        "pip install pypdf langchain_community"
      ],
      "metadata": {
        "colab": {
          "base_uri": "https://localhost:8080/"
        },
        "collapsed": true,
        "id": "8R5gWMbaS0Ok",
        "outputId": "5b4c25fe-83aa-4d80-afe5-5201b09800ae"
      },
      "execution_count": null,
      "outputs": [
        {
          "output_type": "stream",
          "name": "stdout",
          "text": [
            "Collecting pypdf\n",
            "  Downloading pypdf-5.1.0-py3-none-any.whl.metadata (7.2 kB)\n",
            "Collecting langchain_community\n",
            "  Downloading langchain_community-0.3.8-py3-none-any.whl.metadata (2.9 kB)\n",
            "Requirement already satisfied: typing_extensions>=4.0 in /usr/local/lib/python3.10/dist-packages (from pypdf) (4.12.2)\n",
            "Requirement already satisfied: PyYAML>=5.3 in /usr/local/lib/python3.10/dist-packages (from langchain_community) (6.0.2)\n",
            "Collecting SQLAlchemy<2.0.36,>=1.4 (from langchain_community)\n",
            "  Downloading SQLAlchemy-2.0.35-cp310-cp310-manylinux_2_17_x86_64.manylinux2014_x86_64.whl.metadata (9.6 kB)\n",
            "Requirement already satisfied: aiohttp<4.0.0,>=3.8.3 in /usr/local/lib/python3.10/dist-packages (from langchain_community) (3.11.2)\n",
            "Collecting dataclasses-json<0.7,>=0.5.7 (from langchain_community)\n",
            "  Downloading dataclasses_json-0.6.7-py3-none-any.whl.metadata (25 kB)\n",
            "Collecting httpx-sse<0.5.0,>=0.4.0 (from langchain_community)\n",
            "  Downloading httpx_sse-0.4.0-py3-none-any.whl.metadata (9.0 kB)\n",
            "Collecting langchain<0.4.0,>=0.3.8 (from langchain_community)\n",
            "  Downloading langchain-0.3.8-py3-none-any.whl.metadata (7.1 kB)\n",
            "Collecting langchain-core<0.4.0,>=0.3.21 (from langchain_community)\n",
            "  Downloading langchain_core-0.3.21-py3-none-any.whl.metadata (6.3 kB)\n",
            "Requirement already satisfied: langsmith<0.2.0,>=0.1.125 in /usr/local/lib/python3.10/dist-packages (from langchain_community) (0.1.143)\n",
            "Requirement already satisfied: numpy<2,>=1.22.4 in /usr/local/lib/python3.10/dist-packages (from langchain_community) (1.26.4)\n",
            "Collecting pydantic-settings<3.0.0,>=2.4.0 (from langchain_community)\n",
            "  Downloading pydantic_settings-2.6.1-py3-none-any.whl.metadata (3.5 kB)\n",
            "Requirement already satisfied: requests<3,>=2 in /usr/local/lib/python3.10/dist-packages (from langchain_community) (2.32.3)\n",
            "Requirement already satisfied: tenacity!=8.4.0,<10,>=8.1.0 in /usr/local/lib/python3.10/dist-packages (from langchain_community) (9.0.0)\n",
            "Requirement already satisfied: aiohappyeyeballs>=2.3.0 in /usr/local/lib/python3.10/dist-packages (from aiohttp<4.0.0,>=3.8.3->langchain_community) (2.4.3)\n",
            "Requirement already satisfied: aiosignal>=1.1.2 in /usr/local/lib/python3.10/dist-packages (from aiohttp<4.0.0,>=3.8.3->langchain_community) (1.3.1)\n",
            "Requirement already satisfied: attrs>=17.3.0 in /usr/local/lib/python3.10/dist-packages (from aiohttp<4.0.0,>=3.8.3->langchain_community) (24.2.0)\n",
            "Requirement already satisfied: frozenlist>=1.1.1 in /usr/local/lib/python3.10/dist-packages (from aiohttp<4.0.0,>=3.8.3->langchain_community) (1.5.0)\n",
            "Requirement already satisfied: multidict<7.0,>=4.5 in /usr/local/lib/python3.10/dist-packages (from aiohttp<4.0.0,>=3.8.3->langchain_community) (6.1.0)\n",
            "Requirement already satisfied: propcache>=0.2.0 in /usr/local/lib/python3.10/dist-packages (from aiohttp<4.0.0,>=3.8.3->langchain_community) (0.2.0)\n",
            "Requirement already satisfied: yarl<2.0,>=1.17.0 in /usr/local/lib/python3.10/dist-packages (from aiohttp<4.0.0,>=3.8.3->langchain_community) (1.17.2)\n",
            "Requirement already satisfied: async-timeout<6.0,>=4.0 in /usr/local/lib/python3.10/dist-packages (from aiohttp<4.0.0,>=3.8.3->langchain_community) (4.0.3)\n",
            "Collecting marshmallow<4.0.0,>=3.18.0 (from dataclasses-json<0.7,>=0.5.7->langchain_community)\n",
            "  Downloading marshmallow-3.23.1-py3-none-any.whl.metadata (7.5 kB)\n",
            "Collecting typing-inspect<1,>=0.4.0 (from dataclasses-json<0.7,>=0.5.7->langchain_community)\n",
            "  Downloading typing_inspect-0.9.0-py3-none-any.whl.metadata (1.5 kB)\n",
            "Requirement already satisfied: langchain-text-splitters<0.4.0,>=0.3.0 in /usr/local/lib/python3.10/dist-packages (from langchain<0.4.0,>=0.3.8->langchain_community) (0.3.2)\n",
            "Requirement already satisfied: pydantic<3.0.0,>=2.7.4 in /usr/local/lib/python3.10/dist-packages (from langchain<0.4.0,>=0.3.8->langchain_community) (2.9.2)\n",
            "Requirement already satisfied: jsonpatch<2.0,>=1.33 in /usr/local/lib/python3.10/dist-packages (from langchain-core<0.4.0,>=0.3.21->langchain_community) (1.33)\n",
            "Requirement already satisfied: packaging<25,>=23.2 in /usr/local/lib/python3.10/dist-packages (from langchain-core<0.4.0,>=0.3.21->langchain_community) (24.2)\n",
            "Requirement already satisfied: httpx<1,>=0.23.0 in /usr/local/lib/python3.10/dist-packages (from langsmith<0.2.0,>=0.1.125->langchain_community) (0.27.2)\n",
            "Requirement already satisfied: orjson<4.0.0,>=3.9.14 in /usr/local/lib/python3.10/dist-packages (from langsmith<0.2.0,>=0.1.125->langchain_community) (3.10.11)\n",
            "Requirement already satisfied: requests-toolbelt<2.0.0,>=1.0.0 in /usr/local/lib/python3.10/dist-packages (from langsmith<0.2.0,>=0.1.125->langchain_community) (1.0.0)\n",
            "Collecting python-dotenv>=0.21.0 (from pydantic-settings<3.0.0,>=2.4.0->langchain_community)\n",
            "  Downloading python_dotenv-1.0.1-py3-none-any.whl.metadata (23 kB)\n",
            "Requirement already satisfied: charset-normalizer<4,>=2 in /usr/local/lib/python3.10/dist-packages (from requests<3,>=2->langchain_community) (3.4.0)\n",
            "Requirement already satisfied: idna<4,>=2.5 in /usr/local/lib/python3.10/dist-packages (from requests<3,>=2->langchain_community) (3.10)\n",
            "Requirement already satisfied: urllib3<3,>=1.21.1 in /usr/local/lib/python3.10/dist-packages (from requests<3,>=2->langchain_community) (2.2.3)\n",
            "Requirement already satisfied: certifi>=2017.4.17 in /usr/local/lib/python3.10/dist-packages (from requests<3,>=2->langchain_community) (2024.8.30)\n",
            "Requirement already satisfied: greenlet!=0.4.17 in /usr/local/lib/python3.10/dist-packages (from SQLAlchemy<2.0.36,>=1.4->langchain_community) (3.1.1)\n",
            "Requirement already satisfied: anyio in /usr/local/lib/python3.10/dist-packages (from httpx<1,>=0.23.0->langsmith<0.2.0,>=0.1.125->langchain_community) (3.7.1)\n",
            "Requirement already satisfied: httpcore==1.* in /usr/local/lib/python3.10/dist-packages (from httpx<1,>=0.23.0->langsmith<0.2.0,>=0.1.125->langchain_community) (1.0.7)\n",
            "Requirement already satisfied: sniffio in /usr/local/lib/python3.10/dist-packages (from httpx<1,>=0.23.0->langsmith<0.2.0,>=0.1.125->langchain_community) (1.3.1)\n",
            "Requirement already satisfied: h11<0.15,>=0.13 in /usr/local/lib/python3.10/dist-packages (from httpcore==1.*->httpx<1,>=0.23.0->langsmith<0.2.0,>=0.1.125->langchain_community) (0.14.0)\n",
            "Requirement already satisfied: jsonpointer>=1.9 in /usr/local/lib/python3.10/dist-packages (from jsonpatch<2.0,>=1.33->langchain-core<0.4.0,>=0.3.21->langchain_community) (3.0.0)\n",
            "Requirement already satisfied: annotated-types>=0.6.0 in /usr/local/lib/python3.10/dist-packages (from pydantic<3.0.0,>=2.7.4->langchain<0.4.0,>=0.3.8->langchain_community) (0.7.0)\n",
            "Requirement already satisfied: pydantic-core==2.23.4 in /usr/local/lib/python3.10/dist-packages (from pydantic<3.0.0,>=2.7.4->langchain<0.4.0,>=0.3.8->langchain_community) (2.23.4)\n",
            "Collecting mypy-extensions>=0.3.0 (from typing-inspect<1,>=0.4.0->dataclasses-json<0.7,>=0.5.7->langchain_community)\n",
            "  Downloading mypy_extensions-1.0.0-py3-none-any.whl.metadata (1.1 kB)\n",
            "Requirement already satisfied: exceptiongroup in /usr/local/lib/python3.10/dist-packages (from anyio->httpx<1,>=0.23.0->langsmith<0.2.0,>=0.1.125->langchain_community) (1.2.2)\n",
            "Downloading pypdf-5.1.0-py3-none-any.whl (297 kB)\n",
            "\u001b[2K   \u001b[90m━━━━━━━━━━━━━━━━━━━━━━━━━━━━━━━━━━━━━━━━\u001b[0m \u001b[32m298.0/298.0 kB\u001b[0m \u001b[31m21.4 MB/s\u001b[0m eta \u001b[36m0:00:00\u001b[0m\n",
            "\u001b[?25hDownloading langchain_community-0.3.8-py3-none-any.whl (2.4 MB)\n",
            "\u001b[2K   \u001b[90m━━━━━━━━━━━━━━━━━━━━━━━━━━━━━━━━━━━━━━━━\u001b[0m \u001b[32m2.4/2.4 MB\u001b[0m \u001b[31m53.3 MB/s\u001b[0m eta \u001b[36m0:00:00\u001b[0m\n",
            "\u001b[?25hDownloading dataclasses_json-0.6.7-py3-none-any.whl (28 kB)\n",
            "Downloading httpx_sse-0.4.0-py3-none-any.whl (7.8 kB)\n",
            "Downloading langchain-0.3.8-py3-none-any.whl (1.0 MB)\n",
            "\u001b[2K   \u001b[90m━━━━━━━━━━━━━━━━━━━━━━━━━━━━━━━━━━━━━━━━\u001b[0m \u001b[32m1.0/1.0 MB\u001b[0m \u001b[31m41.6 MB/s\u001b[0m eta \u001b[36m0:00:00\u001b[0m\n",
            "\u001b[?25hDownloading langchain_core-0.3.21-py3-none-any.whl (409 kB)\n",
            "\u001b[2K   \u001b[90m━━━━━━━━━━━━━━━━━━━━━━━━━━━━━━━━━━━━━━━━\u001b[0m \u001b[32m409.5/409.5 kB\u001b[0m \u001b[31m27.4 MB/s\u001b[0m eta \u001b[36m0:00:00\u001b[0m\n",
            "\u001b[?25hDownloading pydantic_settings-2.6.1-py3-none-any.whl (28 kB)\n",
            "Downloading SQLAlchemy-2.0.35-cp310-cp310-manylinux_2_17_x86_64.manylinux2014_x86_64.whl (3.1 MB)\n",
            "\u001b[2K   \u001b[90m━━━━━━━━━━━━━━━━━━━━━━━━━━━━━━━━━━━━━━━━\u001b[0m \u001b[32m3.1/3.1 MB\u001b[0m \u001b[31m60.9 MB/s\u001b[0m eta \u001b[36m0:00:00\u001b[0m\n",
            "\u001b[?25hDownloading marshmallow-3.23.1-py3-none-any.whl (49 kB)\n",
            "\u001b[2K   \u001b[90m━━━━━━━━━━━━━━━━━━━━━━━━━━━━━━━━━━━━━━━━\u001b[0m \u001b[32m49.5/49.5 kB\u001b[0m \u001b[31m4.4 MB/s\u001b[0m eta \u001b[36m0:00:00\u001b[0m\n",
            "\u001b[?25hDownloading python_dotenv-1.0.1-py3-none-any.whl (19 kB)\n",
            "Downloading typing_inspect-0.9.0-py3-none-any.whl (8.8 kB)\n",
            "Downloading mypy_extensions-1.0.0-py3-none-any.whl (4.7 kB)\n",
            "Installing collected packages: SQLAlchemy, python-dotenv, pypdf, mypy-extensions, marshmallow, httpx-sse, typing-inspect, pydantic-settings, dataclasses-json, langchain-core, langchain, langchain_community\n",
            "  Attempting uninstall: SQLAlchemy\n",
            "    Found existing installation: SQLAlchemy 2.0.36\n",
            "    Uninstalling SQLAlchemy-2.0.36:\n",
            "      Successfully uninstalled SQLAlchemy-2.0.36\n",
            "  Attempting uninstall: langchain-core\n",
            "    Found existing installation: langchain-core 0.3.19\n",
            "    Uninstalling langchain-core-0.3.19:\n",
            "      Successfully uninstalled langchain-core-0.3.19\n",
            "  Attempting uninstall: langchain\n",
            "    Found existing installation: langchain 0.3.7\n",
            "    Uninstalling langchain-0.3.7:\n",
            "      Successfully uninstalled langchain-0.3.7\n",
            "Successfully installed SQLAlchemy-2.0.35 dataclasses-json-0.6.7 httpx-sse-0.4.0 langchain-0.3.8 langchain-core-0.3.21 langchain_community-0.3.8 marshmallow-3.23.1 mypy-extensions-1.0.0 pydantic-settings-2.6.1 pypdf-5.1.0 python-dotenv-1.0.1 typing-inspect-0.9.0\n"
          ]
        }
      ]
    },
    {
      "cell_type": "code",
      "source": [
        "from langchain_community.document_loaders import PyPDFLoader"
      ],
      "metadata": {
        "id": "VxDuDrH3UDRc"
      },
      "execution_count": null,
      "outputs": []
    },
    {
      "cell_type": "code",
      "source": [
        "loader = PyPDFLoader(\"/content/National AI Policy Consultation Draft V1.pdf\")\n",
        "pages = loader.load_and_split()    #pagewise split"
      ],
      "metadata": {
        "id": "8SKNAnYDTBJB"
      },
      "execution_count": null,
      "outputs": []
    },
    {
      "cell_type": "code",
      "source": [
        "len(pages)"
      ],
      "metadata": {
        "colab": {
          "base_uri": "https://localhost:8080/"
        },
        "id": "ik6J0Ih3X80H",
        "outputId": "8aa68e9d-67b1-42ce-cd02-efc9108b51a8"
      },
      "execution_count": null,
      "outputs": [
        {
          "output_type": "execute_result",
          "data": {
            "text/plain": [
              "46"
            ]
          },
          "metadata": {},
          "execution_count": 57
        }
      ]
    },
    {
      "cell_type": "code",
      "source": [
        "pages[28]"
      ],
      "metadata": {
        "colab": {
          "base_uri": "https://localhost:8080/"
        },
        "collapsed": true,
        "id": "hhLdh54DVtSb",
        "outputId": "d193d9af-da30-48d6-de67-069088fb9c4a"
      },
      "execution_count": null,
      "outputs": [
        {
          "output_type": "execute_result",
          "data": {
            "text/plain": [
              "Document(metadata={'source': '/content/National AI Policy Consultation Draft V1.pdf', 'page': 25}, page_content=\"11 \\n \\nII. The Consultant shall develop the National Curriculum based on best practices within six (6) \\nmonths, along with its adoption strategy , and present the working draft for further consultation \\nto CoE-AI. \\nIII. CoE-AI, in consultation with the Ministry of Federal Education and Professional Training , shall \\norganize a working committee comprising STEM education experts from the industry and abroad, \\nthe local educational boards for middle/high schools, and the association of schools for reviewing \\nthe National High -Tech Curriculum Draft and its adoption strategy  and propose their \\nrecommendations on it within three months of its first presentation. \\nIV. The draft shall then be finalized and translated into local languages before its adoption and made \\navailable to relevant institutions within six (6) months of draft finalization. \\n4.2.4 Skill Development of Marginalized Women & PWDs \\nWomen make up 49% of the total population in Pakistan and possess equal rights for access to  learning \\nand earning opportunities in any field and walk of life. This is the case with Persons with Disabilities (PWDs). \\nWith high-speed broadband access nationwide and sufficient learning avenues, the cultural and religious \\nbarriers can easily be mitigated without complaints. \\nOwing to the preferential approach of the Government of Pakistan in Digital Pakistan 's drive towards a \\ndigital economy, the following interventions are necessary for the marginalized sections of society. \\nI. As part of the  National High -Impact Skill Development Program, the CoE -AI shall organize an \\noffshoot of the same , aiming to engage marginalized women and PWDs through special \\ncoursework and means of imparting education. \\nII. The program shall be executed through institutions such as Bait-ul-Maal, Ehsaas Program , and \\nother institutions with access to marginalized sections of women and PWDs. \\nIII. The program shall also be proliferated using the DigiSkills.pk platform for maximum inclusivity \\nnationwide. Furthermore, a special quota for marginalized women and PWDs shall be ensured in \\neach cohort.  \\nIV. CoE-AI shall closely monitor and evaluate the program against set targets via periodic studies for \\nimpact assessment and make necessary provisions to ensure all access to all sustainably. \\n4.3 3rd Pillar: Building Progressive & Trusted Environment \\n4.3.1 Regulating to Accelerate Socio-Economic Adoption \\nHuman rights, data privacy, values , and responsible use of AI -based technologies is the trending issue \\nworldwide. International governments are seriously addressing these issues through legal and regulatory \\ninstruments, devising frameworks accordingly. Such legal and regulatory frameworks are needed to ensure \\nsafe and secure data-sharing mechanisms formulated considering best international practices.  \\nI. An AI Regulatory Directorate (ARD)  shall be constituted under the National Commission for \\nPersonal Data Protection (NCPDP) , invoking function (i) of 33.2 from the PDPA Act that call s for \\nmonitoring of technological developments and commercial practice s. It  may affect p ersonal \\nprotection data and promote measures and undertaking research for innovation in personal data \\nprotection.  \\nII. The key areas of responsibility for the proposed AI Regulatory Directorate (ARD) under the \\nNational Commission for Personal Data Protection (NCPDP) will be to augment the development \\nof AI-based initiatives through need-based assessment of regulating different functions automated \\nusing AI and the type of data being created and processed for defined purposes. This will be \\nachieved through implementing the policy directives and other needs as prescribed through \\nregulatory best practices in consultation with stakeholders from time to time. In addition, unique \\nalgorithms and programs would be regulated through a sandbox approach, f or which the\")"
            ]
          },
          "metadata": {},
          "execution_count": 58
        }
      ]
    },
    {
      "cell_type": "code",
      "source": [
        "chunk_list=[]\n",
        "for page in pages:\n",
        "  chunk=r_splitter.split_text(page.page_content)\n",
        "  for chunk in chunk:\n",
        "    chunk_list.append(chunk)\n",
        "print(len(chunk_list))"
      ],
      "metadata": {
        "colab": {
          "base_uri": "https://localhost:8080/"
        },
        "id": "J1SNtvfXYXPj",
        "outputId": "b47ee42a-8ef2-46dd-96ba-2aeeb77f74c7"
      },
      "execution_count": null,
      "outputs": [
        {
          "output_type": "stream",
          "name": "stdout",
          "text": [
            "5983\n"
          ]
        }
      ]
    },
    {
      "cell_type": "code",
      "source": [
        "chunk_list[5555]"
      ],
      "metadata": {
        "colab": {
          "base_uri": "https://localhost:8080/",
          "height": 35
        },
        "id": "TYLYvBd8a4Ve",
        "outputId": "c6d6c923-fa83-4781-f3d5-783b696dc2bd"
      },
      "execution_count": null,
      "outputs": [
        {
          "output_type": "execute_result",
          "data": {
            "text/plain": [
              "', local SMEs and enterpris'"
            ],
            "application/vnd.google.colaboratory.intrinsic+json": {
              "type": "string"
            }
          },
          "metadata": {},
          "execution_count": 19
        }
      ]
    },
    {
      "cell_type": "markdown",
      "source": [
        "# **EMBEDDINGS**"
      ],
      "metadata": {
        "id": "bhONuCr7apjX"
      }
    },
    {
      "cell_type": "code",
      "source": [
        "#Convert chunk text into numbers"
      ],
      "metadata": {
        "id": "TgkWjEoHaoHm"
      },
      "execution_count": null,
      "outputs": []
    },
    {
      "cell_type": "code",
      "source": [
        "pip install langchain_huggingface"
      ],
      "metadata": {
        "colab": {
          "base_uri": "https://localhost:8080/"
        },
        "collapsed": true,
        "id": "vZOnwDrbbucZ",
        "outputId": "e37ddfb1-b1c9-4adb-c09f-16fa6293818e"
      },
      "execution_count": null,
      "outputs": [
        {
          "output_type": "stream",
          "name": "stdout",
          "text": [
            "Collecting langchain_huggingface\n",
            "  Downloading langchain_huggingface-0.1.2-py3-none-any.whl.metadata (1.3 kB)\n",
            "Requirement already satisfied: huggingface-hub>=0.23.0 in /usr/local/lib/python3.10/dist-packages (from langchain_huggingface) (0.26.2)\n",
            "Requirement already satisfied: langchain-core<0.4.0,>=0.3.15 in /usr/local/lib/python3.10/dist-packages (from langchain_huggingface) (0.3.21)\n",
            "Requirement already satisfied: sentence-transformers>=2.6.0 in /usr/local/lib/python3.10/dist-packages (from langchain_huggingface) (3.2.1)\n",
            "Requirement already satisfied: tokenizers>=0.19.1 in /usr/local/lib/python3.10/dist-packages (from langchain_huggingface) (0.20.3)\n",
            "Requirement already satisfied: transformers>=4.39.0 in /usr/local/lib/python3.10/dist-packages (from langchain_huggingface) (4.46.2)\n",
            "Requirement already satisfied: filelock in /usr/local/lib/python3.10/dist-packages (from huggingface-hub>=0.23.0->langchain_huggingface) (3.16.1)\n",
            "Requirement already satisfied: fsspec>=2023.5.0 in /usr/local/lib/python3.10/dist-packages (from huggingface-hub>=0.23.0->langchain_huggingface) (2024.10.0)\n",
            "Requirement already satisfied: packaging>=20.9 in /usr/local/lib/python3.10/dist-packages (from huggingface-hub>=0.23.0->langchain_huggingface) (24.2)\n",
            "Requirement already satisfied: pyyaml>=5.1 in /usr/local/lib/python3.10/dist-packages (from huggingface-hub>=0.23.0->langchain_huggingface) (6.0.2)\n",
            "Requirement already satisfied: requests in /usr/local/lib/python3.10/dist-packages (from huggingface-hub>=0.23.0->langchain_huggingface) (2.32.3)\n",
            "Requirement already satisfied: tqdm>=4.42.1 in /usr/local/lib/python3.10/dist-packages (from huggingface-hub>=0.23.0->langchain_huggingface) (4.66.6)\n",
            "Requirement already satisfied: typing-extensions>=3.7.4.3 in /usr/local/lib/python3.10/dist-packages (from huggingface-hub>=0.23.0->langchain_huggingface) (4.12.2)\n",
            "Requirement already satisfied: jsonpatch<2.0,>=1.33 in /usr/local/lib/python3.10/dist-packages (from langchain-core<0.4.0,>=0.3.15->langchain_huggingface) (1.33)\n",
            "Requirement already satisfied: langsmith<0.2.0,>=0.1.125 in /usr/local/lib/python3.10/dist-packages (from langchain-core<0.4.0,>=0.3.15->langchain_huggingface) (0.1.143)\n",
            "Requirement already satisfied: pydantic<3.0.0,>=2.5.2 in /usr/local/lib/python3.10/dist-packages (from langchain-core<0.4.0,>=0.3.15->langchain_huggingface) (2.9.2)\n",
            "Requirement already satisfied: tenacity!=8.4.0,<10.0.0,>=8.1.0 in /usr/local/lib/python3.10/dist-packages (from langchain-core<0.4.0,>=0.3.15->langchain_huggingface) (9.0.0)\n",
            "Requirement already satisfied: torch>=1.11.0 in /usr/local/lib/python3.10/dist-packages (from sentence-transformers>=2.6.0->langchain_huggingface) (2.5.1+cu121)\n",
            "Requirement already satisfied: scikit-learn in /usr/local/lib/python3.10/dist-packages (from sentence-transformers>=2.6.0->langchain_huggingface) (1.5.2)\n",
            "Requirement already satisfied: scipy in /usr/local/lib/python3.10/dist-packages (from sentence-transformers>=2.6.0->langchain_huggingface) (1.13.1)\n",
            "Requirement already satisfied: Pillow in /usr/local/lib/python3.10/dist-packages (from sentence-transformers>=2.6.0->langchain_huggingface) (11.0.0)\n",
            "Requirement already satisfied: numpy>=1.17 in /usr/local/lib/python3.10/dist-packages (from transformers>=4.39.0->langchain_huggingface) (1.26.4)\n",
            "Requirement already satisfied: regex!=2019.12.17 in /usr/local/lib/python3.10/dist-packages (from transformers>=4.39.0->langchain_huggingface) (2024.9.11)\n",
            "Requirement already satisfied: safetensors>=0.4.1 in /usr/local/lib/python3.10/dist-packages (from transformers>=4.39.0->langchain_huggingface) (0.4.5)\n",
            "Requirement already satisfied: jsonpointer>=1.9 in /usr/local/lib/python3.10/dist-packages (from jsonpatch<2.0,>=1.33->langchain-core<0.4.0,>=0.3.15->langchain_huggingface) (3.0.0)\n",
            "Requirement already satisfied: httpx<1,>=0.23.0 in /usr/local/lib/python3.10/dist-packages (from langsmith<0.2.0,>=0.1.125->langchain-core<0.4.0,>=0.3.15->langchain_huggingface) (0.27.2)\n",
            "Requirement already satisfied: orjson<4.0.0,>=3.9.14 in /usr/local/lib/python3.10/dist-packages (from langsmith<0.2.0,>=0.1.125->langchain-core<0.4.0,>=0.3.15->langchain_huggingface) (3.10.11)\n",
            "Requirement already satisfied: requests-toolbelt<2.0.0,>=1.0.0 in /usr/local/lib/python3.10/dist-packages (from langsmith<0.2.0,>=0.1.125->langchain-core<0.4.0,>=0.3.15->langchain_huggingface) (1.0.0)\n",
            "Requirement already satisfied: annotated-types>=0.6.0 in /usr/local/lib/python3.10/dist-packages (from pydantic<3.0.0,>=2.5.2->langchain-core<0.4.0,>=0.3.15->langchain_huggingface) (0.7.0)\n",
            "Requirement already satisfied: pydantic-core==2.23.4 in /usr/local/lib/python3.10/dist-packages (from pydantic<3.0.0,>=2.5.2->langchain-core<0.4.0,>=0.3.15->langchain_huggingface) (2.23.4)\n",
            "Requirement already satisfied: charset-normalizer<4,>=2 in /usr/local/lib/python3.10/dist-packages (from requests->huggingface-hub>=0.23.0->langchain_huggingface) (3.4.0)\n",
            "Requirement already satisfied: idna<4,>=2.5 in /usr/local/lib/python3.10/dist-packages (from requests->huggingface-hub>=0.23.0->langchain_huggingface) (3.10)\n",
            "Requirement already satisfied: urllib3<3,>=1.21.1 in /usr/local/lib/python3.10/dist-packages (from requests->huggingface-hub>=0.23.0->langchain_huggingface) (2.2.3)\n",
            "Requirement already satisfied: certifi>=2017.4.17 in /usr/local/lib/python3.10/dist-packages (from requests->huggingface-hub>=0.23.0->langchain_huggingface) (2024.8.30)\n",
            "Requirement already satisfied: networkx in /usr/local/lib/python3.10/dist-packages (from torch>=1.11.0->sentence-transformers>=2.6.0->langchain_huggingface) (3.4.2)\n",
            "Requirement already satisfied: jinja2 in /usr/local/lib/python3.10/dist-packages (from torch>=1.11.0->sentence-transformers>=2.6.0->langchain_huggingface) (3.1.4)\n",
            "Requirement already satisfied: sympy==1.13.1 in /usr/local/lib/python3.10/dist-packages (from torch>=1.11.0->sentence-transformers>=2.6.0->langchain_huggingface) (1.13.1)\n",
            "Requirement already satisfied: mpmath<1.4,>=1.1.0 in /usr/local/lib/python3.10/dist-packages (from sympy==1.13.1->torch>=1.11.0->sentence-transformers>=2.6.0->langchain_huggingface) (1.3.0)\n",
            "Requirement already satisfied: joblib>=1.2.0 in /usr/local/lib/python3.10/dist-packages (from scikit-learn->sentence-transformers>=2.6.0->langchain_huggingface) (1.4.2)\n",
            "Requirement already satisfied: threadpoolctl>=3.1.0 in /usr/local/lib/python3.10/dist-packages (from scikit-learn->sentence-transformers>=2.6.0->langchain_huggingface) (3.5.0)\n",
            "Requirement already satisfied: anyio in /usr/local/lib/python3.10/dist-packages (from httpx<1,>=0.23.0->langsmith<0.2.0,>=0.1.125->langchain-core<0.4.0,>=0.3.15->langchain_huggingface) (3.7.1)\n",
            "Requirement already satisfied: httpcore==1.* in /usr/local/lib/python3.10/dist-packages (from httpx<1,>=0.23.0->langsmith<0.2.0,>=0.1.125->langchain-core<0.4.0,>=0.3.15->langchain_huggingface) (1.0.7)\n",
            "Requirement already satisfied: sniffio in /usr/local/lib/python3.10/dist-packages (from httpx<1,>=0.23.0->langsmith<0.2.0,>=0.1.125->langchain-core<0.4.0,>=0.3.15->langchain_huggingface) (1.3.1)\n",
            "Requirement already satisfied: h11<0.15,>=0.13 in /usr/local/lib/python3.10/dist-packages (from httpcore==1.*->httpx<1,>=0.23.0->langsmith<0.2.0,>=0.1.125->langchain-core<0.4.0,>=0.3.15->langchain_huggingface) (0.14.0)\n",
            "Requirement already satisfied: MarkupSafe>=2.0 in /usr/local/lib/python3.10/dist-packages (from jinja2->torch>=1.11.0->sentence-transformers>=2.6.0->langchain_huggingface) (3.0.2)\n",
            "Requirement already satisfied: exceptiongroup in /usr/local/lib/python3.10/dist-packages (from anyio->httpx<1,>=0.23.0->langsmith<0.2.0,>=0.1.125->langchain-core<0.4.0,>=0.3.15->langchain_huggingface) (1.2.2)\n",
            "Downloading langchain_huggingface-0.1.2-py3-none-any.whl (21 kB)\n",
            "Installing collected packages: langchain_huggingface\n",
            "Successfully installed langchain_huggingface-0.1.2\n"
          ]
        }
      ]
    },
    {
      "cell_type": "code",
      "source": [
        "from langchain_huggingface import HuggingFaceEmbeddings"
      ],
      "metadata": {
        "id": "AwXwLk8YbOBR"
      },
      "execution_count": null,
      "outputs": []
    },
    {
      "cell_type": "code",
      "source": [
        "embed_model=HuggingFaceEmbeddings(model_name=\"BAAI/bge-small-en-v1.5\")"
      ],
      "metadata": {
        "id": "k3_xu5I6b3H5",
        "colab": {
          "base_uri": "https://localhost:8080/",
          "height": 424,
          "referenced_widgets": [
            "400b541a012042daa14684d0309e9659",
            "e64ae2c5abf648dfb2fd4a0aafbf3383",
            "ae57e69a276d48e2a0bb649ef2a93c25",
            "b9e44c8b89b34f4984f9ec3d951b548d",
            "58e0fb4aa7794fe69b87f82cd017d44c",
            "2d86b253109d4018826a7c6c3c393f2d",
            "8c597d39a5c94db294d511be59a13416",
            "6b71bb42e72c4431bdd31aa230ee63fb",
            "daf6ccd48eb94c4c8c8d0ea414e2eabe",
            "2bf918bdfebf4091b4177392fa33ef5b",
            "17d6c63e4b9644d18338b7f683180145",
            "0155cc4b4fa54bcd930515ad30f8dc94",
            "c963331c3e4c40afb4f5b9b68f83c534",
            "4f09781684474ea682c58b0e4dc59480",
            "aa279c7a21a84a7284ed5f2b4775a61b",
            "87df43c7f36543d5b6be90d6d2b7a573",
            "e02b54fe9b47479ca7841680acae1129",
            "05e0ea1eec874d68b3a4691959d9c5f8",
            "c1e7ae213c934a3eb15d3e2811601b4e",
            "7e1fa959a196448e8157537132aaa2da",
            "b1ba88005c40449084560b44117eb7dd",
            "075756e7936e47fab5509da75dc309f5",
            "d16012404fec47618a923fe4fb25598a",
            "e7115b5beafb4dd1b4d93abc316dc1a4",
            "4d8696f486ca46d39c2f9e366b569c93",
            "f9d4259651074cb9a8bcafbd359af48f",
            "6feced9e737340468301c3ca5e23511d",
            "c7bca55408ed4c5abc0043bb787217ba",
            "6accf23e217f44fb99c5a4f612c5017d",
            "5c74b7fb94524025b5a900236ef4208d",
            "bde851b73fd44e8c8a508c0cdcda8b30",
            "cc3c57c8c7774114be72522a4eacc437",
            "7e754d46afb64cad906591ad3923dedc",
            "a5c67cd41554442ea9c1a8a7f45f638d",
            "64dd88a773554077a83ae0fdf171bdcb",
            "2f47cc3b8fe545e9bc8200c98d7695d2",
            "7e57916ba590451cb03e662aaaec0de4",
            "a1c200ec81494e3991988a40e6fdec4f",
            "a2d63394f45140539ea74e1cd5fc0287",
            "bea33aedd41e4c0e9aed44c56991bce1",
            "fb741f4ca7e343e7a256a675b64e9756",
            "b0f2a13177a5427894410ab276ca8901",
            "080739a4feb7457ba89e6d0c83c97d32",
            "94b1e8b7cb91400fb55f8d5ee66c9520",
            "24f27d753dd7455c8e4a8586f192f1cf",
            "66f49bc0e2b3405a8b63ea927b8af7ec",
            "a99131e388d047dabce041da28921977",
            "97aa25dd91b84bb3a993dc3a40aa03da",
            "3179a06cf3a3491e80970aeccd1b7cac",
            "b9bda33c8b3a4f3db1fd781b89995fdd",
            "46774d18300a4da38247ca62cac05ae3",
            "a79dff5d9822491698628259717be761",
            "780f40e01fb44df8b211b64f1fd36d63",
            "1063fce846e748e4b3a7b4574acdea98",
            "0145af0f0e574c18bc2d4d98b8180501",
            "cefc0338f283489a80e0b30027274036",
            "8d260abbe4d84860995e819e80ae88b4",
            "6dfd7715ea1c403691340f95cf8f8798",
            "6b992197719540569767adf0af0e0eff",
            "a084134c2eae4e5a85e952a843f55989",
            "0b96178191ec498c804056711201eaad",
            "2a55f8214ba443b2809bd2c7c998ac4c",
            "78a9f37e188d493e8b74e5b5b3b53159",
            "55bf8d71d563454bb45c273e11440f5f",
            "08157b1dc0ba4da48f1ef58249e52ad3",
            "acf42f7a9d394028a405944164b48723",
            "4ef03daa01654a7bb952abdf88615b1a",
            "83e6a698edbd446c84e3d7b10edee539",
            "5af2af6ab09b465998affc1b68182365",
            "130ce708bf7c4ac5b2bccd4bcfbba0e0",
            "37c7679ddbac4e55bc323bd96db081ba",
            "632d21eb2c424d1a91f7f2544416b769",
            "5ab833eeb82345499019c839a7401dde",
            "49f5ecfbe00f45e6b9bf4b2fff3043e0",
            "bdb1e06fd3a74e72922de570d5016e4a",
            "ffe9fde47f0d4af2adc48fb18643c944",
            "2d899729cbe145fa94db837d175a8512",
            "1e56d4fa1cc348ea99074e9ea17f0870",
            "2a236f3befe64b6ba258681a6c17e0ef",
            "71801abce52c47e0a4ba8d567debe13c",
            "b8c823dab7bf458fb68db5fc63c7ff15",
            "d9862409a7764f86ad5ef741e18ae53b",
            "35e59149b1f94f99b71214ae49b0e763",
            "f0a7a029878c4848bc851f8b0e8ce48f",
            "6ef6b7c715f742c1948c9c1008b6bee4",
            "c1a4566c64b14fc3b3635d97d38aef8a",
            "4dc025f291b644cab23032ee190f7e69",
            "1a52ba9ff1544344bbfae60a81ffbd71",
            "b102ecb6510e4c86a9fe2f279eb18919",
            "6c56df88c54e43ef8c8993c5786419b1",
            "5faa8ba68fb34efda92f0b2bea1e7c34",
            "db9067391e9c4e2da08d23f4e6a6e0c4",
            "f4f6305a69a743b3b581754fd294b4b4",
            "47febb0d54b743558cbb078754695cde",
            "9b7b653fbb4d4dd3bfa1220be3073280",
            "2211a54201144cbc960d968d710974cb",
            "e82162c72e1b434589d57cfbc58144ba",
            "b79ef19970e048988cae04733cf3e08e",
            "e7e5d55626a7462e8405d27a450d381e",
            "9b382c8c8b7e4d999fe23fd4e8ed2e7b",
            "761073d992ed47d4817a44806d32b83a",
            "17cfb26a13de4c1f883de8e285531321",
            "447ed236011645f7a3300cf975deb1c4",
            "39f3a524d80d4a72964d33a4bf87cae3",
            "fd8e0729c29f4e79a8e0ab90d0ba7023",
            "a25586845cbd4fe0a9a4842004abc06b",
            "ee0761aec9b247f4b198a503075964ef",
            "4f0a8086075349b0b45c295a054348fc",
            "cb72855f5d7d4f1fa2280ac16fa1d989",
            "0774164d1ef64f549f4a1a2f83c3300e",
            "3ca0fa948e7841829448969a31b06c87",
            "135e53b93f824eb9b5562d63b48eae55",
            "441eaf3929b74094a1b82a9bfb04cb28",
            "6c6f778bc5e140cb87788f3043caef19",
            "64a2d62749f146fd8b89f8650d45e43f",
            "a19bf22319fb4d0388ee744c14d551f5",
            "2371cea7ca624d4381c1e07361ddb5bf",
            "6f7deb13d3ef480098a69785dde7340c",
            "7c742b7f89f44f108d3a56d2b104a368",
            "087577a8d0c7477196e8cd475ca50f78",
            "3e989fcf966f42efabd133daf17a6dd2"
          ]
        },
        "outputId": "e466251b-1245-423e-8595-9b541d3d76b5"
      },
      "execution_count": null,
      "outputs": [
        {
          "output_type": "stream",
          "name": "stderr",
          "text": [
            "/usr/local/lib/python3.10/dist-packages/sentence_transformers/cross_encoder/CrossEncoder.py:13: TqdmExperimentalWarning: Using `tqdm.autonotebook.tqdm` in notebook mode. Use `tqdm.tqdm` instead to force console mode (e.g. in jupyter console)\n",
            "  from tqdm.autonotebook import tqdm, trange\n"
          ]
        },
        {
          "output_type": "display_data",
          "data": {
            "text/plain": [
              "modules.json:   0%|          | 0.00/349 [00:00<?, ?B/s]"
            ],
            "application/vnd.jupyter.widget-view+json": {
              "version_major": 2,
              "version_minor": 0,
              "model_id": "400b541a012042daa14684d0309e9659"
            }
          },
          "metadata": {}
        },
        {
          "output_type": "display_data",
          "data": {
            "text/plain": [
              "config_sentence_transformers.json:   0%|          | 0.00/124 [00:00<?, ?B/s]"
            ],
            "application/vnd.jupyter.widget-view+json": {
              "version_major": 2,
              "version_minor": 0,
              "model_id": "0155cc4b4fa54bcd930515ad30f8dc94"
            }
          },
          "metadata": {}
        },
        {
          "output_type": "display_data",
          "data": {
            "text/plain": [
              "README.md:   0%|          | 0.00/94.8k [00:00<?, ?B/s]"
            ],
            "application/vnd.jupyter.widget-view+json": {
              "version_major": 2,
              "version_minor": 0,
              "model_id": "d16012404fec47618a923fe4fb25598a"
            }
          },
          "metadata": {}
        },
        {
          "output_type": "display_data",
          "data": {
            "text/plain": [
              "sentence_bert_config.json:   0%|          | 0.00/52.0 [00:00<?, ?B/s]"
            ],
            "application/vnd.jupyter.widget-view+json": {
              "version_major": 2,
              "version_minor": 0,
              "model_id": "a5c67cd41554442ea9c1a8a7f45f638d"
            }
          },
          "metadata": {}
        },
        {
          "output_type": "display_data",
          "data": {
            "text/plain": [
              "config.json:   0%|          | 0.00/743 [00:00<?, ?B/s]"
            ],
            "application/vnd.jupyter.widget-view+json": {
              "version_major": 2,
              "version_minor": 0,
              "model_id": "24f27d753dd7455c8e4a8586f192f1cf"
            }
          },
          "metadata": {}
        },
        {
          "output_type": "display_data",
          "data": {
            "text/plain": [
              "model.safetensors:   0%|          | 0.00/133M [00:00<?, ?B/s]"
            ],
            "application/vnd.jupyter.widget-view+json": {
              "version_major": 2,
              "version_minor": 0,
              "model_id": "cefc0338f283489a80e0b30027274036"
            }
          },
          "metadata": {}
        },
        {
          "output_type": "display_data",
          "data": {
            "text/plain": [
              "tokenizer_config.json:   0%|          | 0.00/366 [00:00<?, ?B/s]"
            ],
            "application/vnd.jupyter.widget-view+json": {
              "version_major": 2,
              "version_minor": 0,
              "model_id": "4ef03daa01654a7bb952abdf88615b1a"
            }
          },
          "metadata": {}
        },
        {
          "output_type": "display_data",
          "data": {
            "text/plain": [
              "vocab.txt:   0%|          | 0.00/232k [00:00<?, ?B/s]"
            ],
            "application/vnd.jupyter.widget-view+json": {
              "version_major": 2,
              "version_minor": 0,
              "model_id": "1e56d4fa1cc348ea99074e9ea17f0870"
            }
          },
          "metadata": {}
        },
        {
          "output_type": "display_data",
          "data": {
            "text/plain": [
              "tokenizer.json:   0%|          | 0.00/711k [00:00<?, ?B/s]"
            ],
            "application/vnd.jupyter.widget-view+json": {
              "version_major": 2,
              "version_minor": 0,
              "model_id": "b102ecb6510e4c86a9fe2f279eb18919"
            }
          },
          "metadata": {}
        },
        {
          "output_type": "display_data",
          "data": {
            "text/plain": [
              "special_tokens_map.json:   0%|          | 0.00/125 [00:00<?, ?B/s]"
            ],
            "application/vnd.jupyter.widget-view+json": {
              "version_major": 2,
              "version_minor": 0,
              "model_id": "9b382c8c8b7e4d999fe23fd4e8ed2e7b"
            }
          },
          "metadata": {}
        },
        {
          "output_type": "display_data",
          "data": {
            "text/plain": [
              "1_Pooling/config.json:   0%|          | 0.00/190 [00:00<?, ?B/s]"
            ],
            "application/vnd.jupyter.widget-view+json": {
              "version_major": 2,
              "version_minor": 0,
              "model_id": "3ca0fa948e7841829448969a31b06c87"
            }
          },
          "metadata": {}
        }
      ]
    },
    {
      "cell_type": "markdown",
      "source": [
        "output dimension means how many vectors form by an embedding model is fixed, for e.g: this model form 384 vectors"
      ],
      "metadata": {
        "id": "ht8yQW8FjSR4"
      }
    },
    {
      "cell_type": "code",
      "source": [
        "emb = embed_model.embed_query(\"This is a test document.\")"
      ],
      "metadata": {
        "id": "uBd4PWaKi95l"
      },
      "execution_count": null,
      "outputs": []
    },
    {
      "cell_type": "code",
      "source": [
        "len(emb)"
      ],
      "metadata": {
        "id": "toAUJvg5cgjf",
        "colab": {
          "base_uri": "https://localhost:8080/"
        },
        "outputId": "14de0814-4ea1-4602-be76-e96caa3a34e9"
      },
      "execution_count": null,
      "outputs": [
        {
          "output_type": "execute_result",
          "data": {
            "text/plain": [
              "384"
            ]
          },
          "metadata": {},
          "execution_count": 5
        }
      ]
    },
    {
      "cell_type": "code",
      "source": [
        "emb1= embed_model.embed_query(chunk_list[55])"
      ],
      "metadata": {
        "id": "eANAXL9ok-TZ"
      },
      "execution_count": null,
      "outputs": []
    },
    {
      "cell_type": "code",
      "source": [
        "len(emb1)"
      ],
      "metadata": {
        "colab": {
          "base_uri": "https://localhost:8080/"
        },
        "id": "ME9yix4Zl7RZ",
        "outputId": "80c977f6-98d4-4afe-fbb2-e31d3461a468"
      },
      "execution_count": null,
      "outputs": [
        {
          "output_type": "execute_result",
          "data": {
            "text/plain": [
              "384"
            ]
          },
          "metadata": {},
          "execution_count": 21
        }
      ]
    },
    {
      "cell_type": "code",
      "source": [
        "pages[28]"
      ],
      "metadata": {
        "colab": {
          "base_uri": "https://localhost:8080/"
        },
        "id": "bG4LkalZqI2j",
        "outputId": "a9d8928d-0cfc-439e-d36e-b2995736e449"
      },
      "execution_count": null,
      "outputs": [
        {
          "output_type": "execute_result",
          "data": {
            "text/plain": [
              "Document(metadata={'source': '/content/National AI Policy Consultation Draft V1.pdf', 'page': 25}, page_content=\"11 \\n \\nII. The Consultant shall develop the National Curriculum based on best practices within six (6) \\nmonths, along with its adoption strategy , and present the working draft for further consultation \\nto CoE-AI. \\nIII. CoE-AI, in consultation with the Ministry of Federal Education and Professional Training , shall \\norganize a working committee comprising STEM education experts from the industry and abroad, \\nthe local educational boards for middle/high schools, and the association of schools for reviewing \\nthe National High -Tech Curriculum Draft and its adoption strategy  and propose their \\nrecommendations on it within three months of its first presentation. \\nIV. The draft shall then be finalized and translated into local languages before its adoption and made \\navailable to relevant institutions within six (6) months of draft finalization. \\n4.2.4 Skill Development of Marginalized Women & PWDs \\nWomen make up 49% of the total population in Pakistan and possess equal rights for access to  learning \\nand earning opportunities in any field and walk of life. This is the case with Persons with Disabilities (PWDs). \\nWith high-speed broadband access nationwide and sufficient learning avenues, the cultural and religious \\nbarriers can easily be mitigated without complaints. \\nOwing to the preferential approach of the Government of Pakistan in Digital Pakistan 's drive towards a \\ndigital economy, the following interventions are necessary for the marginalized sections of society. \\nI. As part of the  National High -Impact Skill Development Program, the CoE -AI shall organize an \\noffshoot of the same , aiming to engage marginalized women and PWDs through special \\ncoursework and means of imparting education. \\nII. The program shall be executed through institutions such as Bait-ul-Maal, Ehsaas Program , and \\nother institutions with access to marginalized sections of women and PWDs. \\nIII. The program shall also be proliferated using the DigiSkills.pk platform for maximum inclusivity \\nnationwide. Furthermore, a special quota for marginalized women and PWDs shall be ensured in \\neach cohort.  \\nIV. CoE-AI shall closely monitor and evaluate the program against set targets via periodic studies for \\nimpact assessment and make necessary provisions to ensure all access to all sustainably. \\n4.3 3rd Pillar: Building Progressive & Trusted Environment \\n4.3.1 Regulating to Accelerate Socio-Economic Adoption \\nHuman rights, data privacy, values , and responsible use of AI -based technologies is the trending issue \\nworldwide. International governments are seriously addressing these issues through legal and regulatory \\ninstruments, devising frameworks accordingly. Such legal and regulatory frameworks are needed to ensure \\nsafe and secure data-sharing mechanisms formulated considering best international practices.  \\nI. An AI Regulatory Directorate (ARD)  shall be constituted under the National Commission for \\nPersonal Data Protection (NCPDP) , invoking function (i) of 33.2 from the PDPA Act that call s for \\nmonitoring of technological developments and commercial practice s. It  may affect p ersonal \\nprotection data and promote measures and undertaking research for innovation in personal data \\nprotection.  \\nII. The key areas of responsibility for the proposed AI Regulatory Directorate (ARD) under the \\nNational Commission for Personal Data Protection (NCPDP) will be to augment the development \\nof AI-based initiatives through need-based assessment of regulating different functions automated \\nusing AI and the type of data being created and processed for defined purposes. This will be \\nachieved through implementing the policy directives and other needs as prescribed through \\nregulatory best practices in consultation with stakeholders from time to time. In addition, unique \\nalgorithms and programs would be regulated through a sandbox approach, f or which the\")"
            ]
          },
          "metadata": {},
          "execution_count": 14
        }
      ]
    },
    {
      "cell_type": "code",
      "source": [
        "chunk_size = 1500\n",
        "chunk_overlap = 150"
      ],
      "metadata": {
        "id": "GY_dSpshF6S-"
      },
      "execution_count": null,
      "outputs": []
    },
    {
      "cell_type": "code",
      "source": [
        "text_splitter = RecursiveCharacterTextSplitter(\n",
        "    chunk_size=chunk_size,\n",
        "    chunk_overlap=chunk_overlap\n",
        ")"
      ],
      "metadata": {
        "id": "j0vpRcHwF1XB"
      },
      "execution_count": null,
      "outputs": []
    },
    {
      "cell_type": "markdown",
      "source": [
        "**Meta Data Preprocessing**"
      ],
      "metadata": {
        "id": "WJRt0xOInYTZ"
      }
    },
    {
      "cell_type": "code",
      "source": [
        "from langchain.docstore.document import Document"
      ],
      "metadata": {
        "id": "2NKASZGTnTzW"
      },
      "execution_count": null,
      "outputs": []
    },
    {
      "cell_type": "code",
      "source": [
        "doc_list=[]"
      ],
      "metadata": {
        "id": "U4SMeXtRl_ix"
      },
      "execution_count": null,
      "outputs": []
    },
    {
      "cell_type": "markdown",
      "source": [
        "how to add metadata"
      ],
      "metadata": {
        "id": "lSeIpUwPujSY"
      }
    },
    {
      "cell_type": "code",
      "source": [
        "for page in pages:\n",
        "  pg_split = text_splitter.split_text(page.page_content)\n",
        "  for pg_sub_split in pg_split:\n",
        "    metadata = {\"source\": \"AI policy\", \"page_no\":page.metadata[\"page\"]+1}\n",
        "    doc_string= Document(page_content=pg_sub_split, metadata=metadata)\n",
        "    doc_list.append(doc_string)\n"
      ],
      "metadata": {
        "id": "63NRwTqmnpva"
      },
      "execution_count": null,
      "outputs": []
    },
    {
      "cell_type": "code",
      "source": [
        "doc_list"
      ],
      "metadata": {
        "colab": {
          "base_uri": "https://localhost:8080/"
        },
        "id": "rKzUPBJZsEyC",
        "outputId": "e345ea9b-be26-456f-f506-a4e10b0f7f25"
      },
      "execution_count": null,
      "outputs": [
        {
          "output_type": "execute_result",
          "data": {
            "text/plain": [
              "[Document(metadata={'source': 'AI policy', 'page_no': 1}, page_content='i\\n \\n \\n \\n \\n \\n \\n \\n \\n \\n \\n \\n \\n \\n \\n \\n \\n \\n \\n \\n \\n \\n \\n \\n \\n                        Draft\\nNational\\n \\nArtificial Intelligence Policy\\n \\n \\n \\n \\n \\n \\n \\n \\n \\n \\n \\n \\n \\n \\n \\n \\n \\n \\n \\n \\n \\n \\n \\n \\nGovernment of Pakistan\\nMinistry of Information Technology & Telecommunication\\nhttps://moitt.gov.pk'),\n",
              " Document(metadata={'source': 'AI policy', 'page_no': 2}, page_content='ii \\n \\nAcknowledgments \\nThe Government of Pakistan, Ministry of IT & Telecom , pays its gratitude to all the officials  and consultants, \\nparticularly RSM Pakistan and GlowBug Technologies (Pvt.) Ltd. , facilitators, developers, and stakeholders who \\nrigorously and relentlessly participated in the revi ew, drafting, harmonizing, and ratification of the National \\nArtificial Intelligence Policy – 2022, helping the Ministry with an all -inclusive user -centric, evidence -based, \\nforward-looking, and agile policy framework for enabling Pakistan towards a digital economy and society.'),\n",
              " Document(metadata={'source': 'AI policy', 'page_no': 3}, page_content='iii \\n \\nTable of Contents \\n1 Executive Summary ................................................................................................................................ 6 \\n2 Introduction and Context ....................................................................................................................... 7 \\n2.1 Why Pakistan Needs AI Policy ........................................................................................................7 \\n2.2 The State of AI in Pakistan..............................................................................................................7 \\n3 Vision, Scope & Objectives ..................................................................................................................... 8 \\n3.1 Vision ..............................................................................................................................................8 \\n3.2 Scope ..............................................................................................................................................8 \\n3.3 Objectives .......................................................................................................................................8 \\n3.4 Policy Drivers and Targets ..............................................................................................................8'),\n",
              " Document(metadata={'source': 'AI policy', 'page_no': 3}, page_content='3.4 Policy Drivers and Targets ..............................................................................................................8 \\n3.4.1 The Drivers ..................................................................................................................... 8 \\n3.4.2 The National AI Targets ................................................................................................. 9 \\n4 Policy Directives ..................................................................................................................................... 1 \\n4.1 1st Pillar: AI Market Enablement ....................................................................................................1 \\n4.1.1 National Artificial Intelligence Fund (NAIF) ................................................................... 1 \\n4.1.2 Center of Excellence in AI & Allied Technologies (CoE-AI) ............................................ 2 \\n4.1.3 Catalyzing Social Development through AI by National Initiatives ............................... 3 \\n4.1.4 Data and Computational Infrastructure ........................................................................ 7 \\n4.2 2nd Pillar: Enabling AI through Awareness & Readiness .................................................................7 \\n4.2.1 Public Awareness of AI .................................................................................................. 7'),\n",
              " Document(metadata={'source': 'AI policy', 'page_no': 3}, page_content='4.2.1 Public Awareness of AI .................................................................................................. 7 \\n4.2.2 Research and Development ........................................................................................10 \\n4.2.3 Algorithms, Data Science & AI in Basic Education .......................................................10 \\n4.2.4 Skill Development of Marginalized Women & PWDs ..................................................11 \\n4.3 3rd Pillar: Building Progressive & Trusted Environment .............................................................. 11 \\n4.3.1 Regulating to Accelerate Socio-Economic Adoption ...................................................11 \\n4.3.2 Generative AI ...............................................................................................................13 \\n4.3.3 Sandboxing for AI Deployment ....................................................................................13 \\n4.3.4 Supporting International Collaboration ......................................................................14 \\n4.4 4th Pillar: Transformation & Evolution ........................................................................................ 14 \\n4.4.1 Role of National IT Boards in Transformation .............................................................14 \\n4.4.2 Industrial Transformation ............................................................................................15'),\n",
              " Document(metadata={'source': 'AI policy', 'page_no': 3}, page_content='4.4.2 Industrial Transformation ............................................................................................15 \\n4.4.3 Public/Private Sector Evolution ...................................................................................15 \\n5 Policy Implementation & Review .........................................................................................................15 \\n5.1 Steering/Management Committee ............................................................................................. 15 \\n5.2 Working Groups .......................................................................................................................... 16 \\n5.3 Policy Implementation Cell ......................................................................................................... 16 \\n5.4 Review Procedure & Timeline ..................................................................................................... 16'),\n",
              " Document(metadata={'source': 'AI policy', 'page_no': 4}, page_content='iv \\n \\n6 Definitions ............................................................................................................................................17 \\n7 Acronyms ..............................................................................................................................................17 \\n8 Annex I – Sectoral Survey Regarding AI Adoption, Challenges and Opportunities in Pakistan............19 \\n8.1 Sectoral identification ................................................................................................................. 19 \\n8.2 Survey Statistics .......................................................................................................................... 20 \\n8.3 Market Challenges ...................................................................................................................... 23 \\n3.2.1. G1 – Awareness and Adaptation Challenges ...............................................................23 \\n3.2.2. G2 – Data Standardization and Accessibility ...............................................................24 \\n3.2.3. G3 – Computational Infrastructure Situation and Needs ............................................24 \\n3.2.4. G4 – Ethical Challenges................................................................................................25 \\n9 References ............................................................................................................................................26'),\n",
              " Document(metadata={'source': 'AI policy', 'page_no': 5}, page_content='5 \\n \\nForeword \\nThrough its continued efforts toward the early realization of the Digital Pakistan vision of the Government \\nof Pakistan, the Ministry of IT & Telecom is committed to providing its people with timely and equal access \\nto opportunities by stimulating a culture of innovation through an overarching de velopmental agenda \\norchestrated to embrace cutting -edge technologies such as Artificial Intelligence efficiently and \\nresponsibly.   \\nIn this regard, the Artificial Intelligence (AI) Policy is a pivotal milestone for transforming Pakistan into a \\nknowledge-based economy as it spells out a national strategy to establish an ecosystem necessary for AI \\nadoption by harnessing an agile framework for addressing different aspects of unique user journeys \\nencompassing different market horizontals and industry verticals by ensuring responsible use of AI.  \\nFurthermore, the policy aims to go beyond the meagre approach of adopting technology to fundamentally \\nrethink AI adoption in the local context so that new growth areas can be identified and intervened in  \\nconsidering the existing job market ’s relevance while empathizing with the growing population of the \\ncountry. This policy stems from the “AI for good” initiative by the International Telecommunication Union \\nand the Sustainable Development Goals set forth by the United Nations. \\n Considering the disruptive nature of AI and allied technologies and how  it is re -ordering the socio-'),\n",
              " Document(metadata={'source': 'AI policy', 'page_no': 5}, page_content='Considering the disruptive nature of AI and allied technologies and how  it is re -ordering the socio-\\neconomic construct of the world, we desire to live in. Therefore, it is essential to responsibly harness this \\nopportunity while keeping the interest of a common person foremost. T herefore, to survive and thrive, \\nPakistan aims to revitalize its resolve toward digitalization , which will involve processing personal data \\nthrough AI. To this end, the said policy coherently interlaces with the Personal Data Protection Act, Pakistan \\nCloud First Policy, and the Digital Pakistan Policy initiatives.'),\n",
              " Document(metadata={'source': 'AI policy', 'page_no': 6}, page_content='6 \\n \\n1 Executive Summary \\nPakistan has a unique opportunity to harness digital disruption by educating an eager young population \\nthat can potentially propel the n ation onto a growth trajectory to sustain our future national \\ncompetitiveness and improve the lives of citizens. Artificial Intelligence (AI) represents the next frontier of \\ntechnological opportunities, and it has been widely proven and understood that the collection, processing, \\nuse, and exchange of data through automated/intelligent means would drive the entire society into the \\nnext stage of its evolution which is unprecedented and requires a progressive , yet careful approach. So, \\nafter a thorough analysi s of the global perspective and based on the evidence collected through more \\nextensive consultations with the stakeholders, the Ministry of IT & Telecom has come to a much -desired \\nconclusion that it needs to chalk out a developmental roadmap for better, faster and responsible adoption \\nof AI in the country. For that, the policy document is put in place to reap long-term and sustainable benefits \\nfor its people. \\nThe policy document offers a wide range of developmental initiatives necessary for awareness and \\nadoption, reimagining the transparent and fair use of personal data using AI and stimulating innovation \\nthrough industry-academia collaborations and investments in AI-led initiatives. The National AI Policy is'),\n",
              " Document(metadata={'source': 'AI policy', 'page_no': 6}, page_content='through industry-academia collaborations and investments in AI-led initiatives. The National AI Policy is \\ncrafted to focus on the equitable distribution of opportunity and its responsible use, having the following \\ndefining attributes. \\n• Evidence-Based and Target Oriented  \\n• User-Centric and Forward-Looking \\n• Objective and Overarching \\nThe AI policy further aims to augment AI and allied technologies through balanced demand and supply -\\nside interventions, as briefly described below.  \\n• Market Enablement - Establishment of research & innovation centers in AI for developing, test-\\nbedding, deploying, and scaling AI solutions.  This includes learning how to improve governance \\nand manage the impact of AI. \\n• Progressive and Trusted Environment – Responsible use of AI to generate economic gains and \\nimprove lives. In addition, AI will raise the Government’s capability to deliver anticipatory and \\npersonalized services. \\n• Enabling AI through Awareness and Readiness  - Pakistan shall increase awareness and \\nunderstanding of AI technologies and the ir benefits; our workforce will  be equ ipped with the \\nnecessary competencies to participate in the AI economy. \\n• Transformation & Evolution - Transformation of sectors and industries towards effective use of \\nAI, facilitated by national IT boards through creating awareness and offering training pr ograms \\nthrough sectoral cooperation.'),\n",
              " Document(metadata={'source': 'AI policy', 'page_no': 7}, page_content='7 \\n \\n2 Introduction and Context \\n2.1 Why Pakistan Needs AI Policy \\nThe need for National AI Policy is to create a broad-based awareness of the use of AI-based platforms while \\nkeeping privacy at the forefront, upskilling human capital on AI and allied technologies, guiding investment \\nin AI research and development, ensuring ethical and responsible use of AI, and provide a framework for \\naddressing the challenges and risks associated with the socio-economic outfit of the country. \\nThe AI policy covers the following key areas, including: \\n• Investment in Research and Development  Infrastructure: Pakistan should invest in research and \\ndevelopment to build in-house AI capabilities required for application development based on local \\ndata. This investment should include funding for establishing research organizations that have a \\nsustainable mandate of basic research, data standardization, providing support to the government \\nfor regul atory and legal interventions regarding AI, maintaining a central computational \\ninfrastructure, data storage facilities, and partnerships with universities and research institutions \\nboth domestically and internationally.  This investment should also include  training programs to \\nbuild the necessary technical expertise. The AI policy outlines how Pakistan must collaborate with \\nother countries to share best practices and expertise in AI. \\n• Ethical and Responsible Use: The AI policy proposed the establishment of an AI regulatory'),\n",
              " Document(metadata={'source': 'AI policy', 'page_no': 7}, page_content=\"• Ethical and Responsible Use: The AI policy proposed the establishment of an AI regulatory \\ndirectorate that ensures the ethical and responsible use of AI. This includes ensuring that AI is not \\nused to discriminate against individuals or groups and that its use is transparent and accountable. \\n• Job Displacement: The AI policy addresses the potential job displacement that could result from \\nthe global proliferation of AI. This includes investing in training programs to help existing and new \\nworkforce acquire the skills to adapt to changing job requirements. \\n• AI can help to promote econo mic growth by encouraging investment in AI research and \\ndevelopment. This investment can lead to the creation of new jobs and industries, as well as \\nimproved productivity and efficiency. \\n• AI policy can help  address social and economic challenges by  improving healthcare outcomes, \\nproviding better access to education, and addressing food security challenges. \\n• AI policy can help ensure that AI's benefits  are shared equitably across society. This includes \\naddressing issues such as bias and discrimination and ensuring that the benefits of AI are not \\nconcentrated in the hands of a few. \\n2.2 The State of AI in Pakistan \\nPakistan has a population of 224 million as of 2022 and is predicted to reach 338 million by 2050 [2], with \\na current literacy rate of around 62.3% [3]. Moreover, Pakistan is considered the fifth largest country in the\"),\n",
              " Document(metadata={'source': 'AI policy', 'page_no': 7}, page_content='a current literacy rate of around 62.3% [3]. Moreover, Pakistan is considered the fifth largest country in the \\nworld in terms of the young population; 64% of the nation is younger than 30 [4]. With such a propelling \\nnumber of employable human capital, we have enormous development potential  on one end and a \\ntremendous responsibility on the other . Nevertheless, despite all the odds, Pakistan has been able to \\nregister notable efforts through public/private interventions as follows: \\n• Presidential Initiative for Artificial Intelligence & Computing (PIAIC) \\n• Center for Artificial Intelligence and Computing (CENTAIC) \\n• National Center of Artificial Intelligence (NCAI)  \\n• Sino-Pak Center for Artificial Intelligence (SPCAI) \\nThese timely initiatives have performed well in their domains and need continuity to achieve long -term \\ntargets. To achieve the AI-accelerated socio-economic development urgently required by Pakistan and its \\nactual impact on the GDP of the country, a national strategy for AI adoption is critical. The AI policy provides \\na holistic structure, by the societal challenges regarding AI adoption can be addressed by establishing the'),\n",
              " Document(metadata={'source': 'AI policy', 'page_no': 7}, page_content='a holistic structure, by the societal challenges regarding AI adoption can be addressed by establishing the \\nnecessary ecosystem with specialized initiatives  and organizational responsibilities. The policy proposes \\nthe National AI fund as a perpetual and central fund to support the proposed interventions.'),\n",
              " Document(metadata={'source': 'AI policy', 'page_no': 8}, page_content='8 \\n \\n3 Vision, Scope & Objectives \\n3.1 Vision \\nOwing to the impact of AI globally and its local adoption and implications, the Government of Pakistan \\nenvisions: \\n“To Embrace AI by appreciating Human Intelligence and stimulating a Hybrid Intelligence \\necosystem for equitable, responsible, and transparent use of AI.” \\n3.2 Scope \\nThe policy framework is envisaged to provide a complete AI-enabling ecosystem in Pakistan, covering all \\naspects of awareness, skill development, standardization, and ethical use. \\n3.3 Objectives \\nHere the strategic objectives are distributed into two societal agendas of development and responsibility \\nto efficiently evolve the society in the age of the fourth industrial revolution: \\nDevelopmental Agenda \\n(Embracing AI) \\nResponsibility Agenda \\n(Appreciating Human Intelligence) \\nTraining and upskilling human capital in AI at all \\nlevels to address  the needs and demands of the \\nmarket efficiently. \\nIntegrating AI in to the National Curriculums at all \\nlevels is essential from a necessity, application, and \\nuse standpoint. \\nEnsure the ethical use of AI through inclusive and \\nforward-looking guidelines. \\n \\nIncreasing public awareness to facilitate the \\nadoption of AI sustainably. \\nProvide an enabling platform for AI with appropriate \\nsandbox and agile regulatory arrangements to \\naddress societal and regulatory challenges  (only \\nwhere necessary). \\nTo embrace research and innovation-based culture, \\noffer fiscal/non -fiscal incentives to start -ups/SMEs'),\n",
              " Document(metadata={'source': 'AI policy', 'page_no': 8}, page_content='where necessary). \\nTo embrace research and innovation-based culture, \\noffer fiscal/non -fiscal incentives to start -ups/SMEs \\ninvesting in AI-based services/technologies. \\nDefine data standards and invest in computational \\nresources for the responsible use of organized \\ndatasets. \\n Strengthen international collaboration with both \\nacademia and industry. \\n3.4 Policy Drivers and Targets \\nThe policy drivers help navigate th e identified gaps and challenges by orchestrating a journey -based \\napproach comprising four defining pillars of development and responsibility, complimented by progressive \\ntargets for effective policy implementation. \\n3.4.1 The Drivers \\nThrough the challenges and gaps, the policy lays a fundamental framework driven through a pillar -based \\napproach driven through the developm ental journey of AI adoption and proliferation using agile and all -\\ninclusive models incrementally. These drivers are:'),\n",
              " Document(metadata={'source': 'AI policy', 'page_no': 9}, page_content='9 \\n \\n3.4.1.1 1st Pillar: Enabling AI through Awareness and Readiness \\nThe first pillar will focus on societal preparation in becoming increasingly aware  of the potential benefits \\nof AI, deployment requirements, and adopting measures for establishing readiness towards AI adoption. \\nTargeted interventions achieve this in meeting the societal gaps. The interventions include awareness \\nproliferation programs re lated to AI, improving the quality of R&D in AI through applied research, and \\nfurther enhancing the footprint in AI through fiscal/logistical support, curriculum development, and review \\nof existing coursework to make it more relevant to global demand and b est practices. Furthermore, the \\nupskilling of the current workforce shall be done through bootcamps and high-impact short courses using \\nMassive Open Online Courses (MOOCs) Platforms. The initiative aims to meet the societal gaps of \\nAwareness and Adaptation Challenges (G1). \\n3.4.1.2 2nd Pillar: AI Market Enablement  \\nThe second pillar will help organize matters related to establishing an ecosystem to facilitate the \\ndevelopment and deployment of AI. This includes steps taken to address the identified societal challenges, \\nincluding Awareness and Adaptation Challenges  (G1), Data Standardization and Accessibility (G 2), and \\nComputational Needs (G3). \\n3.4.1.3 3rd Pillar: Building Progressive & Trusted Environment'),\n",
              " Document(metadata={'source': 'AI policy', 'page_no': 9}, page_content='Computational Needs (G3). \\n3.4.1.3 3rd Pillar: Building Progressive & Trusted Environment  \\nThe third pillar focuses on the interventions necessary for building a progressive and trusted environment \\nwhere the personal data of citizens and the data of organizations are protected. This section addresses \\nAwareness and Adaptation Challenges (G1) and Ethical Challenges (G4) to ensure the safe and responsible \\nuse of AI and associated technologies.  \\n3.4.1.4 4th Pillar: Transformation & Evolution  \\nThis pillar focuses on developing roadmaps for each sector of society, including governance , so  the \\nnecessary evolution toward AI adoption can be achieved. During the process, several interventions are \\nhighlighted to facilitate this transformation, including industrial transformation and sandboxing. In \\naddition, t his driver will assist us in addressing awareness and adap tation challenges  (G1) and Data \\nStandardization and Accessibility (G2).  \\n3.4.2 The National AI Targets \\nNavigating through the policy drivers, the National AI Targets reflect the needs and concerns which will be \\naddressed through subsequent policy interventions with a definite yet simple approach presenting a \\nbandwagon of tangible opportunities having the following attributes: \\na. The proposed targets are highly focused and inclusive. \\nb. The said targets are simple, realistic, and achievable. \\nc. The targets offer a reasonable amount of time for its initiation and achieving desired results with'),\n",
              " Document(metadata={'source': 'AI policy', 'page_no': 9}, page_content='c. The targets offer a reasonable amount of time for its initiation and achieving desired results with \\nimpact registration. \\nd. The offered targets can be reviewed quantifiably. \\ne. As explained later in the document, special consideration is given to agility for implementing \\ndifferent programs, so a holistic approach toward AI adoption could be exercised. \\nf. The targets are based on the international developmental Agenda for AI and best practices, which \\nwill allow recognition of Pakistan on the global front.'),\n",
              " Document(metadata={'source': 'AI policy', 'page_no': 10}, page_content='10 \\n \\n                           \\nS.No. Pillar Target Description Current State Desired State Timeline \\n1.  \\nEnabling AI \\nthrough \\nAwareness & \\nReadiness \\nTarget-1 \\n \\nPublic Awareness \\nof AI & Allied \\nTechnologies \\n \\nThe level of awareness regarding AI and its \\npotential applications for socio-economic \\ndevelopment by addressing societal \\nchallenges is considerably low.  \\n \\nA comprehensive program regarding public \\nawareness of AI & allied technologies shall be \\nundertaken at the national level to achieve a \\nwidespread awareness of 90%  of the public \\nwith internet access. This program under CoE-\\nAI shall undertake curriculum revision at all \\nlevels of education, training of the existing \\nworkforce, and specialized programs for \\nmarginalized women and PWDs.  \\nBy 2026 \\n \\nTarget-2 \\nDeveloping new \\nskilled human \\ncapital and \\nupskilling the \\nexisting workforce \\nLess than 10% of the current workforce \\nworking in computing and IT is skilled in AI \\nand Allied Technologies [Survey conducted \\nby MoITT in 2022]. \\nThe aim is to train 1 million new and existing \\nresources IT graduates in high-impact applied \\nskills in AI and Allied Technologies by using \\nsustainable models for imparting education. \\nTo achieve this, at least 10,000 new trainers \\nwill be required to impart high-impact AI & \\nAllied Technologies education. \\nGoal: 1M trained in AI, 10k new trainers \\nBy 2027 \\n \\nOpportunities for \\non-job training for \\napplied skillset \\nCurrently, there are limited programs for'),\n",
              " Document(metadata={'source': 'AI policy', 'page_no': 10}, page_content='By 2027 \\n \\nOpportunities for \\non-job training for \\napplied skillset \\nCurrently, there are limited programs for \\non-job training of IT professionals offered by \\nthe government of Pakistan. \\nA program regarding on-job training needs to \\nbe initiated to offer incentives for the on-job \\ntraining, especially for IT-certified/graduate \\nprofessionals annually.  The goal is to equip at \\nleast 60% of IT graduates specializing in the \\nlatest technologies annually. \\nBy 2025 \\nHigher Education \\nScholarships \\nCurrently, HEC, in partnership with friendly \\ncountries, offers scholarships to students for \\npost-graduate and doctoral studies locally \\nand abroad with a limited focus on AI. \\nA separate fund shall increase the \\nscholarships in AI and allied technologies by \\n30% of the total scholarships offered annually \\nby HEC in partnership with industry and \\ninternational partners.  \\nBy 2026'),\n",
              " Document(metadata={'source': 'AI policy', 'page_no': 11}, page_content='11 \\n \\nAwareness and \\nupskilling in the \\npublic sector \\nCurrently, no programs/initiatives focus on \\nthe awareness and upskilling of civil \\nservants and the public sector in AI and its \\napplications. \\nTo develop an awareness of applied AI for all \\nGrade 12 to Grade 22 employees, including \\ntechnocrats and other allied staff working in \\ndifferent departments and institutions at \\nfederal and provincial levels. \\nIntroduce a skill development drive for public \\nsector employees in AI and Allied \\nTechnologies with a target to train at least \\n70% of existing employees working in the IT \\nand AI potential sectors and 100% of new \\ninductees. \\nBy 2026 \\nTarget-3 \\n \\nR&D initiatives in AI \\nand allied \\ntechnologies  \\nCurrently, there is limited funding for \\nAI/ML/DL-led R&D initiatives in academia \\nand the industry through available Funding \\nChannels organized by the public sector. \\nThis approach shall be bifurcated. Firstly, an \\nR&D focus targeting national AI initiatives \\nwith short- and long-term tangible \\ndeliverables shall be initiated. Secondly, at \\nleast 1,000 AI-led R&D initiatives shall be \\nfunded in academia and the private sector via \\nfiscal and non-fiscal support. \\nBy 2026 \\nApplied \\nResearch/Thesis \\nsupports AI and \\nallied technologies. \\nVery limited linkage between journals, \\nresearch/white papers being published in AI \\nwith international research institutions or \\nany global publishers. \\nAll research students undertaking applied \\nresearch in AI and Allied technologies can'),\n",
              " Document(metadata={'source': 'AI policy', 'page_no': 11}, page_content='any global publishers. \\nAll research students undertaking applied \\nresearch in AI and Allied technologies can \\napply for funding support, publication fee, \\nand travel grants based on the competitive \\ncriteria to support publishing in high-impact \\nfactor journals and conferences to achieve \\nglobal recognition.  \\nBy 2025 \\nYoY \\ngrowth of \\n30% till \\n2030. \\nIntellectual \\nProperty \\nRegistration for AI-\\nled Products & \\nSolutions from \\nPakistan \\nCurrently, limited Patents have been \\nregistered from Pakistan concerning AI and \\nallied technologies-led products/solutions. \\nTo help file over 2,000 patents in AI-led \\nproducts and solutions from Pakistan. \\nBy 2026'),\n",
              " Document(metadata={'source': 'AI policy', 'page_no': 12}, page_content='12 \\n \\nTarget-4 \\nAlgorithms, Data \\nScience, and AI in \\nBasic Education \\nAt present, AI is only limited to \\nundergraduate and post-graduate programs \\nrelated to ICT. No other curriculum or \\nprogram offers Data Science and AI as a \\nprimary curriculum object. \\nTo formulate and inculcate Data Science and \\nAI as part of STEM education in schools and \\ncolleges, undergraduate and postgraduate \\nprograms in all disciplines by imparting basic \\nskills education in the given subject(s). \\nBy 2025 \\nSpecial Program in \\nAI and Data \\nSciences for the \\nmarginalized \\nsection of Women \\nand PWDs. \\nPrograms such as Digiskills.pk cater courses \\nin AI Data Science at limited levels, Data \\nScience at limited levels, or. \\nTo develop special curriculums and launch \\nprograms and specializations for basic and \\nadvanced technologies in AI and Data Science \\nwhile incorporating PWDs and marginalized \\nWomen through inclusion in Digiskills.pk \\nProgram and other such initiatives in the \\nprovinces. \\nBy 2024 \\n2.  AI Market \\nEnablement \\nTarget-5 \\nNational AI Fund The Ignite Technology Fund is mandated to \\nbroadly support R&D Initiatives, \\nEntrepreneurship, and Skill Development in \\nICTs. \\nThere is no special provision for Hi-Tech, \\nespecially AI and allied Technologies, at \\npresent. \\nTo establish National AI Fund for supporting \\nHi-Tech initiatives in AI and Allied \\nTechnologies nationwide as a spin-off of \\nIgnite Technology Fund. \\n \\nBy 2023 \\n \\nTarget-6 \\nCenter of \\nExcellence in AI & \\nAllied Technologies'),\n",
              " Document(metadata={'source': 'AI policy', 'page_no': 12}, page_content='Technologies nationwide as a spin-off of \\nIgnite Technology Fund. \\n \\nBy 2023 \\n \\nTarget-6 \\nCenter of \\nExcellence in AI & \\nAllied Technologies \\nNational Centers for AI are playing an \\nessential role in applied R&D in AI at leading \\nacademic institutions for higher education \\nin Karachi, Lahore, and Islamabad. \\nSino-Pak Center for Artificial Intelligence at \\nPAF-IAST, Haripur, is also making tangible \\nefforts to impart higher education and \\nsupport Research & Development in AI and \\nAllied Technologies. \\nHowever, there are no regional/central hubs \\nfor AI and Allied Technologies offering \\nTo develop a Center of Excellence in AI (CoE-\\nAI) in Karachi, Lahore, and Islamabad with \\nAuxiliary AI Centers in Peshawar, Quetta, \\nMultan, Faisalabad, and Gilgit for harnessing \\nAI and Allied Technologies for: \\n• Providing access to high-tech compute \\ninfrastructure, labs & testbeds. \\n• Supporting AI at the grassroots. \\n• Supporting Entrepreneurs and Start-ups \\nworking on AI-led products/solutions. \\nBy 2026 – \\nCoE-AI \\nBy 2028 \\nCoE-AI \\nAux-\\nCenters'),\n",
              " Document(metadata={'source': 'AI policy', 'page_no': 13}, page_content='13 \\n \\nacross-the-board opportunities for high-\\nimpact skill development, applied R&D, \\ncomputational resources, test beds, and \\nsandboxes in AI \\n• Developing nationwide civic and social \\ninitiatives using AI. \\n• Assisting the regulator in organizing \\nsandbox and other regulatory measures \\nfor the responsible use of AI. \\n \\nTarget-7 \\nCompute \\nInfrastructure along \\nwith High Tech \\nLabs, Tools, and \\nTestbeds for AI & \\nAllied Technologies \\nCurrently, only two HCI facilities are \\npurpose-built for AI in the country. \\nTo develop HCI infrastructure at all the CoEs \\nand Auxiliary Centers Nationwide with \\ndistributed access and connected to global AI \\ninfra. \\nBy 2025 \\nat CoEs \\n \\nBy 2028 \\nat Aux \\nCenters \\nTarget-8 \\nSpecial National \\nScale Applied \\nProjects in AI \\nconcerning Civic \\nand Social issues \\nOther than the COVID-19 Track and Trace \\nSystem developed by NITB, no other \\nplatforms extensively use AI-led models for \\ncivic and social applications. \\nTo support at least 50 initiatives for civic and \\nsocial support projects using AI and Allied \\nTechnologies as the underlying technology. \\nBy 2026 \\n3.  \\nBuilding a \\nProgressive & \\nTrusted \\nEnvironment \\nTarget-9 \\nProliferating AI and \\nAllied Technologies \\nResponsibly \\nThe National Commission for Data \\nProtection under Personal Data Protection \\nAct is yet to be established. \\nThere is no provision for regulating AI at the \\nmoment. However, the NCPDP closely \\nrelates in terms of Data Protection. \\nEstablishing an AI Directorate under NCPDP'),\n",
              " Document(metadata={'source': 'AI policy', 'page_no': 13}, page_content='moment. However, the NCPDP closely \\nrelates in terms of Data Protection. \\nEstablishing an AI Directorate under NCPDP \\nfor harnessing AI responsibly through \\nappropriate and need-based regulations \\nBy 2024 \\nTarget-\\n10 \\nAgile Regulatory \\nEcosystem \\nSECP offers a regulatory sandbox for \\ndifferent use cases, effectively using AI and \\nAllied Technologies for Algorithmic Trading, \\nRobotics, and other ML/DL applications in \\nthe prescribed area of focus. \\nTo establish a Regulatory sandbox for AI-led \\ninitiatives with focused automation on data \\ncontrolling and processing using unique AI \\nmodels for different academic and \\ncommercial applications. \\nBy 2025'),\n",
              " Document(metadata={'source': 'AI policy', 'page_no': 14}, page_content='14 \\n \\nAn Integrated Regulatory Sandbox for \\ndifferent research-based platforms and \\ncommercial applications focusing on AI-led \\napplications is yet to be organized. \\nTarget-\\n11 \\nHarnessing AI \\nthrough Global Best \\nPractices \\nSino-Pak Center for AI and other \\ncollaborations are organized at the \\nacademic level in different sectors. \\nThere are no documented commercial \\npartnerships for AI at the \\nbilateral/multilateral level in place.  \\nTo engage in partnerships with multilateral AI \\nprograms and bilateral AI development and \\nregulatory platforms to adopt international \\nbest practices in the adoption and \\nproliferation of AI. \\n To organize partnerships with at least five \\nmultilateral institutions to help countries and \\ngovernments responsibly embrace AI. \\nTo organize bilateral AI partnerships with \\nleading AI adopters globally by having at least \\nthree partnerships in Asia Pacific Region, 3 in \\nthe EU, 2 in African Union, and 3 in North \\nAmerica on a G2G basis.  \\nBy 2025 \\nTarget-\\n12 \\nAccess to Open \\nGroups and Trained \\nModels \\nCurrently, the private sector is engaged with \\nOpen-AI, Open-Source Foundation (OSFP) \\nplatform, and other organizations with no \\ninstitutional support for such individuals or \\norganizations to set up and showcase their \\napplied skillset and research work.  \\nTo partner with different Open-AI fora and \\nallow industry and academia to engage with \\nsuch establishments using the CoE-AI \\nplatform by offering different incentives for'),\n",
              " Document(metadata={'source': 'AI policy', 'page_no': 14}, page_content='allow industry and academia to engage with \\nsuch establishments using the CoE-AI \\nplatform by offering different incentives for \\nadopting best practices and making \\nappropriate contributions. \\nThe target is to contribute 50 new AI models \\nto such platforms annually.   \\nBy 2024 \\n4.  Transformation \\n& Evolution \\nTarget-\\n13 \\nTransforming the \\nPublic Sector \\nthrough AI & Allied \\nTechnologies \\nThe National/Provincial IT Boards and other \\nNational Institutions, such as PTV, SECP, \\nFBR, Monetary Institutions, etc., have \\nlimited or no local establishments for \\ncontrolling and/or processing large data \\nEstablish a National/Provincial Data \\nRepository(s) to access different datasets \\nusing Sandboxes for public and private sector \\napplications. \\nBy 2024'),\n",
              " Document(metadata={'source': 'AI policy', 'page_no': 15}, page_content='15 \\n \\nlakes using AI. Only NADRA is equipped to \\norganize and manage data using trained AI \\nmodels at scale. \\nTo upgrade existing Data Centers \\nInfrastructure to HCI and organize access to \\nsuch data lakes via sandbox.  \\nTarget-\\n14 \\nEnabling Academia \\nthrough AI & Allied \\nTechnologies   \\nThere is no central hub for academia to use \\nresources on a shared model for \\npracticing/training developed AI models and \\napplying them in a controlled environment \\nto learn the outcome and improve them for \\nactualizing the application. \\nCurrently, most academic institutions are \\norganizing their work through public cloud \\ninfra and taking stock of pre-trained models \\nto further their research. \\nTo provide access to different datasets and \\ncomputational resources to at least 150 \\nacademic institutions from the available HCI \\ninfrastructure at CoE-AI.  \\nTo help academia register, apply, and train \\n150 unique models annually. \\n \\n \\nBy 2025 \\n \\nTarget-\\n15 \\nSectorial Support \\nvia AI & Allied \\nTechnologies \\nDue to a lack of local data and other \\ncomputing resources, almost 100% of the \\nindustry uses AI infra from Opensource \\nplatforms and/or public cloud-based AI \\nproducts for integration into their products \\nand services. \\nTo provide access to sectorial data and infra \\nat CoE-AI for PoCs, Commercial Pilots, and \\nother testing/training of AI models using a \\nhybrid/multi-cloud environment to the \\nindustry. The industry may register at least \\n100 commercial models with IP registration'),\n",
              " Document(metadata={'source': 'AI policy', 'page_no': 15}, page_content='hybrid/multi-cloud environment to the \\nindustry. The industry may register at least \\n100 commercial models with IP registration \\nsupport annually. \\nBy 2026'),\n",
              " Document(metadata={'source': 'AI policy', 'page_no': 16}, page_content=\"1 \\n \\n4 Policy Directives \\nThe policy directives are minimalistic, focusing on resolving issues and achieving targets set for stimulating \\ngrowth in AI across the board. Empathizing with  the common person's journey  for different aspects \\nassociated with their socio-economic development and well-being in the current technological disruption \\nis driven through the following developmental pillars. \\n4.1 1st Pillar: AI Market Enablement \\n4.1.1 National Artificial Intelligence Fund (NAIF)  \\nGiven the evidence regarding the state of AI in Pakistan, the projected global outlook of AI in terms of its \\nuse and market size, the impact of AI on the local ecosystem, and claiming its demographic share through \\nresponsible use of data, the Ministry  of IT & Telecom through its underutilized resources and funds aims \\nto establish a National AI Fund with following objectives. \\nI. In accordance with the stipulations of clauses 33D (II) & (III) of the Telecommunication Re -\\norganization Act 1996 (amended 2006), the Ministry of IT & Telecom, while exercising its right to \\nissue policy directives, shall direct the Research & Development Fund (Ignite – Technology Fund) \\nto allocate a part (not less than 30%) of its funds to NAIF on a perpetual basis for the research and \\ndevelopment of AI and allied technologies. \\nII. The Ministry of IT & Telecom shall notify the establishment of an autonomous high-tech National\"),\n",
              " Document(metadata={'source': 'AI policy', 'page_no': 16}, page_content='development of AI and allied technologies. \\nII. The Ministry of IT & Telecom shall notify the establishment of an autonomous high-tech National \\nAI Fund (NAIF) organization within six (6) months from the promulgation of this policy.  \\nIII. The NAIF shall undertake  all the responsibilities and implement guidelines as stipulated in this \\npolicy or as directed by the Federal Government of Pakistan via the Ministry of IT & Telecom from \\ntime to time. \\nIV. The Ministry of IT & Telecom shall allocate a budget through PSDP funds as Initial Working Capital \\nto support the initiative expeditiously in the first two (2) years. \\nV. Once the organization is formed and Funds are allocated and transferred into NAIF from the \\nNational ICT R&D Fund, all the ongoing and subsequent programs shall be organized through the \\nperpetual Fund. \\nVI. The fund shall be administered through a n independent Board of Directors (not more than 11 \\nmembers) to ensure seamless operations and transparency. \\nVII. The BoD shall comprise members from industry and academia with rele vant techno-commercial \\nbackgrounds in high -tech (especially AI & allied technologies development), representatives of \\nIgnite R&D Fund BoD , and the government (ex -officio). It shall be chaired by Secretary/Member \\nIT. \\nVIII. NAIF shall be able to raise funds through international grants/aids from bilateral and multilateral \\nplatforms, co -invest with local/international hi -tech organizations, provide a bridge between'),\n",
              " Document(metadata={'source': 'AI policy', 'page_no': 16}, page_content=\"platforms, co -invest with local/international hi -tech organizations, provide a bridge between \\nglobal VCs/CVCs , and incubate R&D initiatives and startups for early commercialization and \\nsustainability. \\nIX. The funds allocated and disbursed to NAIF shall not be lapsable upon completion of a financial \\nyear. Part of NAIF's fund shall only be reimbursable by Ignite – Technology Fund on a year-on-year \\nbasis. \\nX. NAIF administration shall ensure that the funds are utilized per the stipulations of this policy and \\nwithin the defined mandate of the Research & Development Fund (Ignite – Technology Fund).\"),\n",
              " Document(metadata={'source': 'AI policy', 'page_no': 17}, page_content='2 \\n \\nXI. The Fund shall function under a Chief Executive Officer hired from the industry on open merit. The \\nterm, experience, expertise, remunerations, perks, and privileges will be formulated by NAIF (BoD) \\nthrough a reputable local/international Human Resource Consultant. \\nXII. The CEO shall be responsible for implementing the directions provided in this policy within the \\ntimelines offered in the targets with utmost transparency and accountability. \\nXIII. The NAIF Fund shall be audited annually through a reputable (AA Rating) auditing firm , and the \\nreport shall be made public. \\n4.1.2 Center of Excellence in AI & Allied Technologies (CoE-AI) \\nAttributing to the evidence and the global best practices, the Government of Pakistan aims to organize a \\nnationwide network of Centers of Excellence for the expeditious and responsible development of AI and \\nallied technologies. \\nThe CoE-AI shall be established on the following foundational principles: \\nI. The CoE -AI shall be demand -driven and focuses on a sectorial approach while organizing its \\nstrategic vision and principles. \\nII. The institution shall be directly funded through the National AI Fund and be established in a two-\\ntiered model. \\nIII. The first tier of the organization shall be a fully-fledged Center of Excellence and be established in \\nthe three major cities of Pakistan, i.e., Islamabad, Karachi, and Lahore. At the same time, the'),\n",
              " Document(metadata={'source': 'AI policy', 'page_no': 17}, page_content='the three major cities of Pakistan, i.e., Islamabad, Karachi, and Lahore. At the same time, the \\nsecond tier shall comprise developing or auxiliary centers in other major cities of the country, such \\nas Peshawar, Quetta, Faisalabad, and Hyderabad. \\nIV. The centers shall prioritize their area of focus based on the industry(s)/sector(s) surrounding them \\nin their jurisdiction; however, there shall be no limit to choosing any sector/industry for \\ndevelopmental initiatives. \\nV. These centers shall be organized in public -private partnership s and preferably in commercial \\nvicinity to ensure active p articipation of the industry for cultivating demand -driven research, \\ninnovation, and commercialization prospects. \\nVI. The term of such PPP where the funding is organized through the National AI Fund shall not be \\nmore than five (5) years which may be extended for another 2 years if required. \\nVII. The CoE-AI and auxiliary centers shall evolve into perpetual operations well before the end of the \\nterm. They shall be permitted to generate income for meeting operational expenses by rendering \\ntheir services and resources for prescribed functions. \\nVIII. The CoE-AI and auxiliary centers shall operate on a “zero equity” model.  They shall only be able \\nto charge a minimum fee for different activities facilitated and services delivered by these centers. \\nIX. The CoEs and the auxiliary centers shall be mandated to perform the following functions:'),\n",
              " Document(metadata={'source': 'AI policy', 'page_no': 17}, page_content='IX. The CoEs and the auxiliary centers shall be mandated to perform the following functions: \\na. Facilitate demand-driven R&D in AI and allied technologies. \\nb. Incubate and accelerate startups and help them through mentoring, raising funds, facilitating \\ncollaborations with public Cloud Services Pr oviders, engagement/integration with data \\nsources, and other commercialization opportunities. \\nc. Curriculum development and management in AI and allied technologies at primary, secondary, \\nand higher education levels for imparting education at the grass -root level in collaboration \\nwith the National/Provincial Board(s)/Directorate(s). \\nd. Short-term, high -impact skill development and assessment in AI and allied technologies in \\npartnership with local/international institution(s).'),\n",
              " Document(metadata={'source': 'AI policy', 'page_no': 18}, page_content='3 \\n \\ne. Offer avenues for hands -on training a nd internships in public/private sector institutions for \\ncertified and graduated individuals. \\nf. Support research and academic  theses work for high -tech initiatives in conjunction with \\nHEC/HEDs. \\ng. Assist AI Regulator in Data Standardization and Management. \\nh. Facilitate regulator(s) with sectorial sandboxes for AI and allied technologies. \\ni. Offer digital/physical computing infrastructure through local and international partnerships.   \\nX. The performance of these centers shall be steered through appointed Monitoring and Evaluation \\nexperts with quarterly/annual reports on the impact and necessary course correction. These \\nreports shall be presented to NAIF BoD for review and decision-making. \\n4.1.3 Catalyzing Social Development through AI by National Initiatives \\nFrom a global perspective of service/technology adoption, it is witnessed that the social sector usually \\nmisses out on the early adoption of cutting -edge technologies such as AI due to its magnitude, lack of \\ncoherence, and service complexities. On the contra ry, the sectorial approach is swift but in siloes, and \\ntherefore, desired performance targets are challenging. The Government of Pakistan is aware of data \\norchestration and management issues in the social sector. Due to these challenges, a National \\ndevelopmental drive via focused national projects is necessitated through this initiative by directly'),\n",
              " Document(metadata={'source': 'AI policy', 'page_no': 18}, page_content='developmental drive via focused national projects is necessitated through this initiative by directly \\ninvesting in a handful of priority areas for improving service delivery. Following are the National AI \\nInitiatives that shall be undertaken to bring AI applications into the mainstream to achieve socio-economic \\ndeliverables and ensure sustainable outcomes. \\n4.1.3.1  Data Standardization and Aggregation for Servicification \\nThe National and Provincial governments possess heterogeneous datasets through various verifiable and \\nunverifiable sources and require orchestration bottom -up for secure and transparent use. Suppose the \\nsocial data is standardized and made available by the private sector for public service provisioning in a \\nstructured environment. In that case, it can help  reduce time to service due to process cluttering and \\nensure seamless application of AI and allied technologies in an integrated manner. Immediate actions \\nrequired in this regard are: \\nI. The CoE-AI shall organize a common and sectoral data collection and processing mechanism for \\nunstructured, semi-structured, and structured datasets for the data available in the public sector \\nand accessible through market regulators for the private sector. \\nII. CoE-AI shall undertake the data standardization in t he identified priority social sectors under a \\nCommon Operating Environment (COE) such as Healthcare, Legal, Public Facilitation Services,'),\n",
              " Document(metadata={'source': 'AI policy', 'page_no': 18}, page_content='Common Operating Environment (COE) such as Healthcare, Legal, Public Facilitation Services, \\nEducation, Food Security, and essential Utilities (electricity, gas, drinking water, water, sewage, \\nand cleaning services). \\nIII. These standards shall be implemented via National/Provincial IT Boards across the country by \\nstandardizing data collection and processing under different Management Information Systems \\noperating in various departments/institutions. Furthermore, the a vailable data should be \\navailable to these National/Provincial IT Boards to develop a standard data exchange system.  \\nIV. In another scenario, where there is yet to be digitized for seamless collection, especially in the \\nidentified social sectors, the National/Provincial IT Boards in support of CoE-AI, while exercising \\ntheir mandate, shall assist such National/Provincial institutions in digitizing data on the given \\nstandards for early alignment. \\nV. Under the Cloud First Policy of the Government of Pakistan, althou gh the end-user department \\nshall remain the custodian of acquired data, a copy of such data public data must be hosted on \\nthe National Telecom Corporation (NTC) cloud infrastructure nationwide. Moreover,'),\n",
              " Document(metadata={'source': 'AI policy', 'page_no': 19}, page_content=\"4 \\n \\nNational/Provincial IT Boards shall act as controllers and processors of such data while assisting \\nthe concerned department(s) in secure and effective service provisioning. \\nVI. All such data shall be well backed up on the industry’s best practices and made available in a \\ncontrolled environment to CoE -AI to acce ss and use to develop different AI algorithms for \\ndata/system integrations and intelligent service offerings through prescribed processes with \\nincremental value addition.  \\nVII. Such AI algorithms shall be made available to the private sector entities for sectorial sandboxing \\nand subsequent service provisioning while always remaining compliant with the sandbox and \\navailable for system/service audit. \\nVIII. Smart city-based projects are already in the deployment phase in several cities in Pakistan. CoE-\\nAI shall support in indigenization of computer vision technology by standardization targeting high \\naccuracy of person and object detection. Computer Vision -based surveillance application poses \\nsignificant potential to contribute to the safety of citizens. Therefore, CoE-AI shall accelerate the \\ntechnology rollout to even smaller cities in Pakistan. \\nAll the identified institutions in clause vide 4.1.3.1 (I-VIII) above are hereby directed based on constitutional \\nstipulations to work coherently to solve citizens' problems and always offer data to CoE -AI for AI -based \\nservice and analytical transformation.\"),\n",
              " Document(metadata={'source': 'AI policy', 'page_no': 19}, page_content=\"stipulations to work coherently to solve citizens' problems and always offer data to CoE -AI for AI -based \\nservice and analytical transformation. \\n4.1.3.2 National Health Services Transformation using AI \\nThis program aims to help prevent and better manage chronic diseases such as diabetes, high blood \\npressure, and high cholesterol, to reduce the risk of complications like heart disease, stroke, and kidney \\nfailure. Many Pakistanis have chronic diseases such as diabetes, hypertension, and high blood cholesterol. \\nThey may be unaware of these conditions as the symptoms may not be noticeable early on. However, these \\ndiseases can lead to severe complications such as heart attack, stroke, kidney failure, and even death if not \\nwell controlled. Similarly, one of the biggest challenges in AI proliferation in the healthcare secto r is the \\ndigitization of a massive volume of data available in hospitals and health institutes in hardcopies. However, \\neven if the data is digitized in some institutes and hospitals, it is not standardized, and that hinders the \\naccessibility of data and eventual processing.  \\nI. CoE-AI shall support the Ministry of National Health Services Regulation and Coordination in better \\ncontrolling chronic diseases such as diabetes, hypertension, and high blood cholesterol. CoE-AI \\nshall develop guidelines for healthcare providers to become more productive and help patients \\ncontrol chronic disease conditions using the latest AI technology.\"),\n",
              " Document(metadata={'source': 'AI policy', 'page_no': 19}, page_content='control chronic disease conditions using the latest AI technology. \\nII. AI can analyze clinical data, medical images, health behavio rs, and genomic data to create a \\ncustomized individual risk score . This sco re can help individuals take appropriate preventive \\nmeasures and receive earlier and more targeted interventions from their care teams. Patients at \\nhigher risk of complications can be  identified earlier and provided with more intensive \\nmanagement and monitoring in the primary care setting to reduce the likelihood of medical \\ncomplications. CoE-AI shall establish working groups with the Ministry of National Health Services \\nRegulation and Coordination  to establish the framework of medical data standardiza tion along \\nwith the relevant organizations.  \\nIII. AI can support primary care doctors and care teams in developing personalized care plans \\nconsidering a patient’s risk profile. As each care team may look after many patients, AI can also \\nassist in monitoring the progress and alert care teams to patients whose progress shows cause for \\nconcern to take timely action. CoE-AI shall actively develop and support such initiatives. \\nIV. AI can make it easier for patients to self-manage their conditions. For example, patients can use AI'),\n",
              " Document(metadata={'source': 'AI policy', 'page_no': 19}, page_content='concern to take timely action. CoE-AI shall actively develop and support such initiatives. \\nIV. AI can make it easier for patients to self-manage their conditions. For example, patients can use AI \\nto monitor their health status and receive timely reminders to eat healthily, increase physical'),\n",
              " Document(metadata={'source': 'AI policy', 'page_no': 20}, page_content='5 \\n \\nactivity, take medication, and report for check-ups. As a result, citizens will enjoy improved health \\noutcomes and be empowered to better self -manage chronic diseases. CoE-AI shall support the \\nindigenization of AI products for personal healthcare. \\nV. CoE-AI shall undertake the d igitalization of medical data and its management . It would help \\nmaintain patients’ histories, which can be invaluable in precision medicine and R&D. \\n4.1.3.3 Intelligent Learning and Assessment using AI \\nEvery individual in society has a different capacity to comprehend and retain new information and level of \\nskill in a particular trade. Also, they have different aptitudes and learning needs. Therefore, teachers cannot \\npersonalize every individual’s learning experience, especially in the subjects where a particular skill is to be \\ntaught. The following points discuss the prospects of AI applications: \\nI. CoE-AI shall develop a comprehensive program to provide a personalized learning and assessment \\nmechanism by imparting AI -based adaptive skill assessment and training based on a modern \\ncurriculum. All these activities shall be organized in public-private partnerships. The program shall \\nbe managed through existing institutions, while CoE-AI shall only offer guidelines based on market \\nneeds and the latest technological advancements through its team of experts  from the industry \\nand academia.'),\n",
              " Document(metadata={'source': 'AI policy', 'page_no': 20}, page_content=\"needs and the latest technological advancements through its team of experts  from the industry \\nand academia.  \\nII. Initially, the program shall be launched on a pilot basis in all the public institutions in the Federal \\nCapital; however, upon the program's outcomes and with necessary pivots and iterations, the \\nprogram shall be spread nationwide , ensuring authenticity and transparency  of the trained \\nresources. \\n4.1.3.4 National IoT Data Cluster  \\nThe main challenge for the successful implementation of IoT Cloud-based services is the availability of data \\nin digital form and the standardization of the data. Unfortunately, Pakistan’s government and public \\norganizations are sitting on vast amounts of data that have yet to be digitalized and then standardized so \\nthat it can be used in predictive analytics, Machine Learning/Deep Learning, and other technological uses. \\nThe following points discuss the prospects of AI applications:  \\nI. CoE-AI shall establish  IoT cloud-based services at subsidized rates. It will offer a faster learning \\nexperience and support for academia. \\nII. CoE-AI shall p romote IoT -based applications. Improve the quality of Cloud and IoT -based \\ntechnologies and will provide state-of-the-art facilities for predictive analytics and the generation \\nof insights for various industries. \\nIII. The initiative shall invite local and international companies to provide IoT-based Cloud services on \\ncompetitive grounds.\"),\n",
              " Document(metadata={'source': 'AI policy', 'page_no': 20}, page_content='III. The initiative shall invite local and international companies to provide IoT-based Cloud services on \\ncompetitive grounds. \\n4.1.3.5 Agriculture Supply Chain Optimization \\nThe biggest challenge in the agricultural sector regarding supply chain optimization is data digitization and \\nstandardization. Accessibility is another challenge that can only be addressed after digitization and \\nstandardization of available data. Therefore, to fuel Big Data Analytics, vital for any supply chain \\nmanagement and inventory management systems to be provided with standardized data.  The following \\npoints discuss the prospects of AI applications: \\nI. The initiative under CoE -AI shall  provide predictive analytics for streamlining the supply and \\ndemand of the agricultural supply chain, which will assist in streamlining supply and demand \\nmechanisms through predictive analytics. In addition, it will help in reducing wastage by optimizing \\nthe inventory management system. \\nII. It will establish weather prediction systems to assist farmers in making informed decisions based \\non weather predictions about the cultivation and harvest of crops.'),\n",
              " Document(metadata={'source': 'AI policy', 'page_no': 21}, page_content='6 \\n \\nIII. The program shall employ IoTs and sensor technology for soil monitoring systems. \\n4.1.3.6 E-Khidmat Centers 2.0  \\nPublic services are high -volume and resource -intensive, including varied domains such as healthcare, \\neducation, sanitation, energy, security, and other government services. Delayed or substand ard services \\nprovided to the public are common complaints shared by the public over time . S uch delays are \\ncounterproductive to the smooth running of daily life in cities. The following points discuss the prospects \\nof AI applications: \\nI. CoE-AI shall undertake  the development of a smart citizen portal to streamline the delivery of \\nmunicipal services that shall provide better customer service quality. \\nII. Smart reporting of routine issues the citizens face a ssists government departments in becoming \\nmore efficient. \\nIII. Centralized service delivery shall automate the regular paperwork and  reduce the employee \\nburden and associated expenses. It will also lead to the digitalization of public records. \\nIV. Chatbots will provide citizens with a quick response mechanism and improve t he quality of the \\nservices. \\n4.1.3.7 Weather Prediction and Analysis using AI \\nAvailability of data and its standardization is the fundamental issue that may hinder the utilization of \\ncentralized weather and solar irradiance prediction for better weather predictions. The following points \\ndiscuss the prospects of AI applications:'),\n",
              " Document(metadata={'source': 'AI policy', 'page_no': 21}, page_content='centralized weather and solar irradiance prediction for better weather predictions. The following points \\ndiscuss the prospects of AI applications: \\nI. Division of the geographic span of the country into regions based on similar microclimates and \\ntraining machine learning models for accurate prediction. This shall help prepare against calamities \\nand agricultural operations.  CoE-AI shall undertake this initiative with the Ministry of Climate \\nChange and the Pakistan Meteorological Department. \\nII. This program shall provide the facility as a web service hosted on a local cloud at the national level \\nso that it can be used to boost renewable energy solutions and assist national energy management \\ncompanies in their operations. \\n4.1.3.8 Intelligent Communications Systems (Road/Rail/Air) \\nMobility is a significant challenge in Pakistan and impacts all the sectors contributing to the GDP. AI can be \\none of the essential tools t o facilitate passenger mobility, revenue management, traffic planning , and \\nmanagement and transport policy. CoE-AI shall develop a program to make the best use of the following \\nprospects of AI applications: \\nI. Predicting commuters’ behavior at micro -market levels to optimize the availability of \\ntransportation and maximize revenue growth. \\nII. Use AI to assess the affordability and accessibility of commuters to provide mobility services. \\nIII. Assess the future demographics of the society to plan the resources timely and assist in developing'),\n",
              " Document(metadata={'source': 'AI policy', 'page_no': 21}, page_content='III. Assess the future demographics of the society to plan the resources timely and assist in developing \\nstrategies and programs to help the government achieve social, economic, and environmental \\nobjectives using Railways. \\nIV. Assess the r ehabilitation and constructi on of major bridges  with preventive maintenance \\napplications. \\nV. AI-based platforms can assist the aviation industry in flight management by receiving real -time \\ndata from multiple sensors and external sources to optimize flight paths. This will help the pilot s \\nand dispatchers make informed decisions during the flight concerning optimal route choices, \\nreduce delays due to bad weather conditions and turbulence, etc.'),\n",
              " Document(metadata={'source': 'AI policy', 'page_no': 22}, page_content='7 \\n \\nAI can play a critical role in reducing road accidents by analyzing the crash data available, providing insights \\nto avert collisions, and enhancing the response after the accidents. Besides autonomous cars that are now \\na reality, AI applications fuel lane-keeping systems, emergency brakes, and auto-parking systems. \\n4.1.4 Data and Computational Infrastructure \\nThis initiative includes standardizing the data of  State-Owned Enterprises (SoEs), Boards , and Civil \\nAuthorities for applying artificial Intelligence based Algorithms ensuring seamless service provisioning and \\nanalytics. The AI Directorate and CoE-AI, through this policy intervention , are tasked to carry out the \\nfollowing functions;  \\nI. In consultation with stakeholders, the AI Regulatory Directorate (ARD) shall direct identified public \\nsector entities and Authorities to standardize their data for efficient and secure use.  \\nII. Using a sandbox-based licensing approach, such data shall then be made available for processing \\nto CoE-AI for research, analysis and servicification through public and/or private entities. \\nIII. CoE-AI shall provide the necessary infrastructure and partnerships with international AI platforms \\nfor secure and monitored public data processing by assisting ARD with essential insights.  \\nIV. Entities offered access to public data for research, analysis, and servicification shall be subject to'),\n",
              " Document(metadata={'source': 'AI policy', 'page_no': 22}, page_content='IV. Entities offered access to public data for research, analysis, and servicification shall be subject to \\nthe scrutiny of service/technology to ensure transparency and sustainability in a controlled \\nenvironment.  \\nV. The CoE -AI shall procure a nd utilize existing computational resources for data controlling and \\nprocessing and shall also be able to develop partnerships with local/international AI entities, which \\nare beneficial for realizing definite objectives for improving the National Infrastructure for AI. \\nVI. Local Startups/SMEs and Enterprises shall be allowed to use such infrastructure, data , and other \\nresources in light of the directives of ARD. \\nVII. Security protocols may be defined to secure public data by pseudonymization before \\ncommissioning the AI market cloud on a national scale to ensure a safe and secure data -sharing \\necosystem. \\nVIII. Policies will be formulated to maintain data standards based on the needs of industry and \\nacademia. ARD will be responsible for arranging and maintaining the data standards. The \\nauthorities will process the data requests from the various sectors. Structure d, unique quality \\nassurance and control mechanisms will be followed to ensure data quality. Certified and \\nbenchmarked processes can be added internally, guiding a commitment to quality.  \\n4.2 2nd Pillar: Enabling AI through Awareness & Readiness \\n4.2.1 Public Awareness of AI'),\n",
              " Document(metadata={'source': 'AI policy', 'page_no': 22}, page_content='4.2 2nd Pillar: Enabling AI through Awareness & Readiness \\n4.2.1 Public Awareness of AI \\nFor the effective adoption of AI , its awareness must be  raised at the grass root level, which may allow a \\nuser to assess the necessity of data sharing and  improve the processing and exchange by themselves . \\nFurthermore, it would help the market and the government seek only necessary requests and permission \\nto access different data types. This can be achieved through a nationwide awareness program built around \\ndifferent needs and applications for different user types. Awareness programs for cr eating general \\nawareness for society about AI and allied technologies are imperative if we want a successful proliferation \\nof AI at the grass-root level.  \\nI. To empower society to make knowledge-based decisions for personal data sharing and a basic \\nunderstanding of technologies such as AI, the Ministry of IT & Telecom shall devise a National \\nAwareness Program for Personal AI adaptation.'),\n",
              " Document(metadata={'source': 'AI policy', 'page_no': 23}, page_content='8 \\n \\nII. Ministry of IT & Telecom may engage the Ministry of Information and Broadcasting and allied \\ndepartment(s), the PTA and licensees, and other relevant National/Provincial institutions to ensure \\nmaximum outreach of the program through print, broadcast, social media, and the internet.  \\nIII. Ministry of IT & Telecom, through the CoE-AI, shall orchestrate important messages/content such \\nas technical writeups, breach and implication scenarios, pre ventive and remedial measures, and \\nany other details necessary for informing/educating the citizens. \\nIV. The content delivery shall be organized in all possible forms and means, such as audible/viewable \\nand readable short messages/stories to be proliferated in national and regional languages.  \\nV. While developing the content, special attention must be given to the silver segment of society, the \\nmarginalized section of women and Persons with Disabilities (PWDs).  \\nVI. Local/international private sector entities offering AI-led tools and services for data controlling and \\nprocessing shall be provided with necessary  instructions/regulations concerning data \\norchestration by the AI Directorate functioning under NCPDP.  \\nVII. The program shall be closely monitored and evaluated quarterly to assess its impact. An annual \\nreport shall be published by the Ministry of IT & Telecom and/or AI Direc torate until the \\nachievement of requisite targets.'),\n",
              " Document(metadata={'source': 'AI policy', 'page_no': 23}, page_content=\"report shall be published by the Ministry of IT & Telecom and/or AI Direc torate until the \\nachievement of requisite targets. \\nVIII. CoE-AI shall devise a national initiative for explainable AI increasing the public's confidence in AI -\\nbased services and solutions to improve societal acceptance and modernization. \\nThe program shall contin ue to prevail beyond target achievement through sustainable partnerships for \\ncontinued inclusivity of the upcoming generation’s workforce Readiness.  \\nLike all other nations, one of the biggest challenges being faced by Pakistan towards cutting -edge \\ntechnologies is its over-arching nature which does not limit to any one faculty, industry vertical , or even \\nsector. This calls for a structured approach towards enabling local professionals a nd undertraining youth \\nto cope with technological advancements in a tiered manner. Some necessary actions which are required \\nfor societal transformation are: \\nI. Training & Upskilling Workforce \\na. The Center of Excellence in AI (CoE-AI) shall organize a nationwide high-impact skill development \\nprogram in collaboration with Virtual University , NAVTTC, and other private sector partners  of \\nlocal and international nature for training and upskilling youth and young professionals in AI and \\nallied technologies using hybrid learning mechanisms (online and onsite). \\nb. The program shall be based on the latest coursework and best practices, offer the latest tools and\"),\n",
              " Document(metadata={'source': 'AI policy', 'page_no': 23}, page_content='b. The program shall be based on the latest coursework and best practices, offer the latest tools and \\nlab facilities, and access to global AI resources and infrastructure for imparting the best-in-class \\napplied skillset. \\nc. The program shall ensure maximum inclusivity offering easy access to all and with a special \\nprovision for young women and PWDs.  \\nd. The program shall accou nt for imparting 200,000 pieces of training  supported through globally \\nrecognized certification annually for the next five years to ensure that it provides for at least 10% \\nof the global workforce for AI and allied technologies for claiming its equitable share. \\ne. A “Train the Trainer” stream through special bootcamps shall also be organized for the sustainable \\nexecution of the program. \\nf. 10,000 trainers shall be trained to impart high-impact education to youth in the next three years. \\nII. Internships & On job Training in AI and Allied Technologies'),\n",
              " Document(metadata={'source': 'AI policy', 'page_no': 24}, page_content='9 \\n \\na. The Ministry of IT & Telecom , through CoE-AI, shall organize a “ National High-Tech Internship \\nPlacement Program” for offering stipend based 3 to 6 months internships in collaboration with the \\nprivate sector locally and internationally.  \\nb. The internship program shall be organized through a definite scope and desirable targets, which a \\nprofessional and the employer organization shall be able to achieve through such an induction. \\nc. The program shall get the young professional a c ertificate which shall be subject to showcasing \\nskillsets they were able to develop during their internship course. In this regard, an online test for \\neach cohort by CoE-AI at the end of each term shall be conducted. \\nd. With the help of this program, at  least 20,000 internships shall be offered annually, and the \\nminimum qualification criteria for this program shall be a certificate in AI and allied technologies \\nfrom a reputable educational institution locally or internationally (online/onsite)  for more \\nextensive inclusion. \\ne. The program shall continue a perpetual model with contributions from the public and private \\nsectors to address the demand and supply challenges coherently. \\nIII. Higher Education Scholarships & Financing Program \\na. The CoE-AI, in collaboration with the Higher Education Commission (HEC) and the private sector, \\nshall organize a “High -Tech Scholarship & Financing Program” for postgr aduate and doctoral \\nprograms in AI and ailed technologies.'),\n",
              " Document(metadata={'source': 'AI policy', 'page_no': 24}, page_content='shall organize a “High -Tech Scholarship & Financing Program” for postgr aduate and doctoral \\nprograms in AI and ailed technologies.  \\nb. The program  shall annually offer scholarships to 3,000 deserving candidates from all over the \\ncountry on open merit. \\nc. A special quota of 500 seats on top of open merit seats shall be allocated to women and 100 seats \\nfor PWDs. \\nd. An annual review shall be carried out to gauge the impact and the need for more scholarships in \\nthe identified fields related to high-tech. \\ne. As a baseline, an increment of 5% for scholarships may be considered for accommodating more \\nand more deserving students through scholarships on an annual basis. \\nf. As part of the program, scheduled financial institutions shall be encouraged to offer interest-free \\nfinancing for higher education in high -tech comprising high-impact t raining and certification, \\ndiplomas, undergraduate, postgraduate, and doctoral programs with a minimum of 15,000 loans \\nto be imparted to deserving candidates on an annual basis. \\ng. In this regard, the CoE-AI, HEC, and State Bank of Pakistan (SBP) shall devise an eligibility criterion \\nfor applying a high-tech education financing program for deserving candidates with a special \\nprovision for women and PWDs.  \\nh. The criteria shall be implemented through public/private fin ancial institutions as prescribed by \\nSBP, and CoE-AI and HEC shall offset the interest on these loans.'),\n",
              " Document(metadata={'source': 'AI policy', 'page_no': 24}, page_content=\"SBP, and CoE-AI and HEC shall offset the interest on these loans.   \\ni. The program shall be organized on a continuous basis and be funded by CoE-AI, HEC, the private \\nsector, international donors, and financial institutions equitably, considering the domestic/global \\ndemand.  \\nIV. Public Sector Awareness & Upskilling \\na. The CoE-AI shall formulate a curriculum to increase public servants' awareness of Personal Data \\nProtection and AI . The curriculum shall sensitize the target audience on how AI can  impact \\ndecision-making and why access to data should be offered to the private sector and academia to \\nimprove productivity and user experience concerning public services through behavioral and \\npredictive analytics.\"),\n",
              " Document(metadata={'source': 'AI policy', 'page_no': 25}, page_content=\"10 \\n \\nb.  The curriculum shall be organized in consultation with the Establishment Division for inclusion in \\nthe coursework of the public servants and implementation at different levels. \\nc. 100% of public servants shall gain awareness and knowledge on personal data protection and AI \\nby 2025 to effectively implement the guidelines and directives in their respective departments. \\n4.2.2 Research and Development \\nAccording to the World Bank country-wise R&D expenditure report, the global average of R&D expenditure \\nwith respect to GDP is 2.63%. In contrast, Pakistan's industrial sector R&D spending is as low as 0.2% of the \\nGDP. This distrust of the industry in academia's research and development abilities  needs handholding, \\nespecially in the preferential adoption of high -tech products/services resea rched and developed \\nindigenously.  \\nI. R&D Projects in AI and Allied Technologies \\na. While acting as the hub for research and development, the CoE-AI shall organize a special grant \\nfor supporting R&D projects using AI and allied technologies in academia and the p rivate \\nsector. \\nb. Such projects shall be attributed to solving socio -economic, civic, and user behavioral issues \\nand opportunities with preference to the identified priority sectors in this policy. \\nc. At least 400 projects shall be enabled through fiscal and logistical support of up to PKR 1 million \\nper project or any other agreed amount on the prescribed criterion.\"),\n",
              " Document(metadata={'source': 'AI policy', 'page_no': 25}, page_content='per project or any other agreed amount on the prescribed criterion.  \\nd. The purpose of such funding shall solely be to offer essential support to the level of \\nprototyping and tak e it to the level that it becomes commercially viable for raising \\ninvestments. \\nII. Research & Thesis Support in AI \\na.  Like applied R& D support, the COE -AI shall also make provisions for research and thesis , \\nleading to potentially new concepts and models in AI and allied technologies.  \\nb. The CoE -AI shall provide fiscal/logistical/data support for up to PKR 200,000 or any other \\nagreed amoun t per research for effective research and thesis , leading to publications of \\nregional/international journals, whitepapers, and case studies for new R&D projects. \\nc. At least 200 such journals/whitepapers and other research materials shall be supported and \\npublished. \\nIII. Intellectual Property Registration Support \\na. To improve Pakistan’s global footprint in research & development , the CoE-AI shall facilitate \\nthe registration of new patents in AI and allied technologies through fiscal, legal, and technical \\nsupport. \\nb. The CoE -AI shall aim to facilitate the registration of at  least 400 patents in high -tech for \\nacademia and the private sector annually.   \\n4.2.3 Algorithms, Data Science & AI in Basic Education \\nI. Where the policy document emphasizes the fundamental understanding and awareness of'),\n",
              " Document(metadata={'source': 'AI policy', 'page_no': 25}, page_content='4.2.3 Algorithms, Data Science & AI in Basic Education \\nI. Where the policy document emphasizes the fundamental understanding and awareness of \\npersonal data protection and AI, it also aims to stimulate an incremental impact of AI on society \\nright from the grassroots. Therefore, the policy has given equal importance to teaching algorithms, \\ndata science, and AI in basic STEM education. In this regard, it stipulates that. CoE-AI shall hire a \\nlocal/international consultant with expertise in high -tech curriculum development to develop a \\nNational Curriculum in Algorithms, Data Sciences, AI, and Allied Technologies from the sixth to the \\ntwelfth standard.'),\n",
              " Document(metadata={'source': 'AI policy', 'page_no': 26}, page_content=\"11 \\n \\nII. The Consultant shall develop the National Curriculum based on best practices within six (6) \\nmonths, along with its adoption strategy , and present the working draft for further consultation \\nto CoE-AI. \\nIII. CoE-AI, in consultation with the Ministry of Federal Education and Professional Training , shall \\norganize a working committee comprising STEM education experts from the industry and abroad, \\nthe local educational boards for middle/high schools, and the association of schools for reviewing \\nthe National High -Tech Curriculum Draft and its adoption strategy  and propose their \\nrecommendations on it within three months of its first presentation. \\nIV. The draft shall then be finalized and translated into local languages before its adoption and made \\navailable to relevant institutions within six (6) months of draft finalization. \\n4.2.4 Skill Development of Marginalized Women & PWDs \\nWomen make up 49% of the total population in Pakistan and possess equal rights for access to  learning \\nand earning opportunities in any field and walk of life. This is the case with Persons with Disabilities (PWDs). \\nWith high-speed broadband access nationwide and sufficient learning avenues, the cultural and religious \\nbarriers can easily be mitigated without complaints. \\nOwing to the preferential approach of the Government of Pakistan in Digital Pakistan 's drive towards a \\ndigital economy, the following interventions are necessary for the marginalized sections of society.\"),\n",
              " Document(metadata={'source': 'AI policy', 'page_no': 26}, page_content='digital economy, the following interventions are necessary for the marginalized sections of society. \\nI. As part of the  National High -Impact Skill Development Program, the CoE -AI shall organize an \\noffshoot of the same , aiming to engage marginalized women and PWDs through special \\ncoursework and means of imparting education. \\nII. The program shall be executed through institutions such as Bait-ul-Maal, Ehsaas Program , and \\nother institutions with access to marginalized sections of women and PWDs. \\nIII. The program shall also be proliferated using the DigiSkills.pk platform for maximum inclusivity \\nnationwide. Furthermore, a special quota for marginalized women and PWDs shall be ensured in \\neach cohort.  \\nIV. CoE-AI shall closely monitor and evaluate the program against set targets via periodic studies for \\nimpact assessment and make necessary provisions to ensure all access to all sustainably. \\n4.3 3rd Pillar: Building Progressive & Trusted Environment \\n4.3.1 Regulating to Accelerate Socio-Economic Adoption \\nHuman rights, data privacy, values , and responsible use of AI -based technologies is the trending issue \\nworldwide. International governments are seriously addressing these issues through legal and regulatory \\ninstruments, devising frameworks accordingly. Such legal and regulatory frameworks are needed to ensure \\nsafe and secure data-sharing mechanisms formulated considering best international practices.'),\n",
              " Document(metadata={'source': 'AI policy', 'page_no': 26}, page_content='safe and secure data-sharing mechanisms formulated considering best international practices.  \\nI. An AI Regulatory Directorate (ARD)  shall be constituted under the National Commission for \\nPersonal Data Protection (NCPDP) , invoking function (i) of 33.2 from the PDPA Act that call s for \\nmonitoring of technological developments and commercial practice s. It  may affect p ersonal \\nprotection data and promote measures and undertaking research for innovation in personal data \\nprotection.  \\nII. The key areas of responsibility for the proposed AI Regulatory Directorate (ARD) under the \\nNational Commission for Personal Data Protection (NCPDP) will be to augment the development \\nof AI-based initiatives through need-based assessment of regulating different functions automated \\nusing AI and the type of data being created and processed for defined purposes. This will be \\nachieved through implementing the policy directives and other needs as prescribed through \\nregulatory best practices in consultation with stakeholders from time to time. In addition, unique \\nalgorithms and programs would be regulated through a sandbox approach, f or which the'),\n",
              " Document(metadata={'source': 'AI policy', 'page_no': 27}, page_content='12 \\n \\nDirectorate will organize an agile regulatory mechanism to support the overall objectives of \\nNCPDP. It will also assist NCPDP in defining different regulatory functions concerning digital trust \\nat the data creation and processing level.  \\nIII. The ARD will oversee the operations automated by AI, the potential role of AI agents undertaking \\nroles of the data controller and data processor that may affect the rules and regulations under the \\nPDPA Act. In addition, it will provide advisory services to regulate data in use in line with the scope \\nof NCPDP. \\nIV. The ARD will provide regulatory support regarding AI policy issues like using AI -based doctors’ \\nassistants in hospitals, indirect AI policy issues like intellectual property laws, and relevant AI policy \\nissues like education, urban planning, and welfare policies, among other things. \\nV. The ARD will provide regulatory support for direct AI policy issues like using AI -based doctors’ \\nassistants in hospitals, indirect AI policy issues like intellectual property laws, and relevant AI policy \\nissues like education, urban planning, and welfare policies, among other things. Undoubtedly, \\nsome of these technologies can make life simpler, but they also have significant drawbacks. \\nSometimes these issues arise because of AI applications’ flaws, such as when AI systems develop \\ndiscriminating prejudices. As illustrated by the growing privacy danger posed by pattern'),\n",
              " Document(metadata={'source': 'AI policy', 'page_no': 27}, page_content='discriminating prejudices. As illustrated by the growing privacy danger posed by pattern \\nrecognition applications, concerns might occur when AI performs its job much too well. Some AI \\nimplementations are morally dubious, possibly harmful (e.g., autonomous kill choices by \\nmachines), or pose more significant systemic issues (e.g., labor displacement through AI, \\nimpingement of existing ethical, legal, and social paradigms). As a result, national attempts to build \\nAI policy should be coordinated and backed by a regulatory framework to prevent the hazards \\nassociated with AI’s widespread use. \\nVI. Design policies in close interaction with the other stakeholders to promote a vibrant research and \\nentrepreneurship ecosystem for innovative AI applications that naturally align with our national \\ninterest. \\nVII. Develop strategies for attracting our top AI talent from all over the world back to the country, easy \\nyet well-regulated data access to facilitate in novation, and policies to encourage the integration \\nof locally developed AI solutions. \\nVIII. ARD should develop guidelines for data sharing that encourage entities with data to share it and \\nclarify the best practices for doing so. In addition, the guidelines sho uld spell out the obligations \\nof the data receiver. For government entities, these guidelines can be elevated to mandatory \\npolicies. \\nIX. Develop regulation policies and standards for data-sharing among countries and lead multilateral'),\n",
              " Document(metadata={'source': 'AI policy', 'page_no': 27}, page_content='policies. \\nIX. Develop regulation policies and standards for data-sharing among countries and lead multilateral \\ndiplomatic efforts to arrange such agreements. \\nX. Encourage local businesses to embrace new AI solutions and provide them with a platform for \\ntechnical support and some incentives and regulations. Moreover, it should catalyze the creation \\nof new businesses based on AI technology through start-up funds and incubation centers. \\nXI. Formulate policies to develop and maintain highly resilient cutting-edge computing, storage, and \\nconnectivity infrastructure. \\nXII. Participate in international efforts to bring standardization in all aspects of AI, e.g. , data formats, \\nnetwork and systems architecture, data , application integration protocols, requirements on test \\ncases, and services. \\nXIII. Develop a data-sharing framework  and use AI algorithms consistent with social, cultural, and \\nreligious norms and international guidelines. \\nXIV. A governance mechanism that will facilitate fairness, data privacy, ethical values control, and \\nalgorithmic accountability will be implemented to support reliability in AI studies.'),\n",
              " Document(metadata={'source': 'AI policy', 'page_no': 28}, page_content='13 \\n \\nXV. Scientific research and awareness of the effects and risks of AI technologies and systems on the \\nsocio-economic structure will be increased.  \\nXVI. If any AI-generated decision results in an unwarranted outcome, there should be a mechanism to \\nascertain the cause. \\nXVII. Definition criteria should be set on the responsibi lities shared between individual users, \\norganizations deploying the robots, and the organizations manufacturing them. \\nXVIII. People should have the right to access, manage and control the data they produce and feed it into \\nAI systems for analysis.  \\nXIX. The AI systems  should be developed in alignment with the ideals of human dignity, rights, and \\ncultural norms. \\nTo achieve the following goals, ARD will work closely with other domain regulators to gain a better \\nunderstanding of the consequences of AI in different domains and to ensure compliance with their rules. \\nAs a result, the progress achieved in this area because of this effort will promote economic growth  per \\nhuman development needs while  safeguarding fundamental human rights. Furthermore, ARD will hire a \\nthink tank of technocrats and industry experts to develop strategies for AI integration in government and \\nindustry and train the necessary resources. In addition, ARD will construct non-disclosure agreements for \\ndata collection and access to new applications across various areas. It will also closely monitor its activities'),\n",
              " Document(metadata={'source': 'AI policy', 'page_no': 28}, page_content='data collection and access to new applications across various areas. It will also closely monitor its activities \\nto ensure that data standards and access policies are followed. \\n4.3.2 Generative AI \\nGenerative AI is often used to generate text, images, or other types of media that resemble human \\ncreations. Generative AI has many potential applications, including art, music, literature, and journalism. \\nHowever, it also raises important ethical and societal questions, particularly around issues such as data \\nprivacy, ownership of content, and the potential for misuse. Th e proposed ARD, along with CoE-AI, shall \\naddress the opportunities and challenges of generative AI in the following ways: \\n \\nI. Ensuring Ethical Use: Generative AI has the potential to create convincing fake content such as \\ntext, images, and videos.  Therefore, ARD shall provide regulatory guidelines to address the \\npossible spread of disinformation, data privacy breaches, or fake news. \\nII. The CoE -AI shall put particular emphasis on indigenous research innovation with respect to \\nGenerative AI and, in this regard, engage with the OpenAI platform and allocate a special quota \\nfor startups/R&D institutions/companies working in this space.  \\nIII. The CoE-AI shall collaborate with the Higher Education Commission and Ministry of Science and \\nTechnology to establish best practice s regarding using  generative AI in academia using large \\nlanguage models.'),\n",
              " Document(metadata={'source': 'AI policy', 'page_no': 28}, page_content='Technology to establish best practice s regarding using  generative AI in academia using large \\nlanguage models.  \\nIV. Necessary recommendations shall be made to ARD by CoE-AI for changes in curriculum and ethical \\nuse-related matters for transparent and sustainable use of emerging technologies leading to \\nnecessary amendments in  curriculum and evaluation methods during exams  that address the \\neducational risks associated with generative AI and making its best use in the education.  \\nV. The CoE-AI shall undertake initiatives in developing applied research potential at the national level \\nto accelerate the socio-economic adoption of generative AI or similar technologies in the future \\nand support the startup ecosystem.  \\n4.3.3 Sandboxing for AI Deployment \\nSandboxes provide several benefits to technology developers, including checking and displaying innovative \\ntechnology in a real -world setting with actual people. Developers and regulators may communicate'),\n",
              " Document(metadata={'source': 'AI policy', 'page_no': 29}, page_content='14 \\n \\ndirectly, creating  a more coherent and cooperative sector. When a new technology obtains market \\nadoption, successive trial -and-error testing in a controlled setting mitigates the risks and unexpected \\neffects, such as undetected security holes. A secondary purpose of the sandbox is for regulators to have a \\nbetter understanding of the product or service.  This enables regulators to create policies and laws that \\naccommodate, oversee, and govern sectoral innovation inside and outside the sandbox. The most \\nappropriate framework for real -world rules outside the sandbox can be determined by legislation \\nevaluated in the sandbox. In addition, the jurisdiction would become more appealing to technology \\ndevelopers and investors if legislation were updated and regulatory ambiguity was removed. The following \\ninterventions are proposed: \\nI. At least 20 enterprises should be beneficiaries of the regulatory sandbox by 2025 to bring an agile \\nand inclusive legal harmonization process through testing and discussion on ethical and legal \\nscenarios. \\nII. At least 50 municipalities across the country will actively use AI -based technologies within the \\nscope of smart city applications by 2030 to encourage the participation of these municipalities in \\nAI-enabled applications.  \\n4.3.4 Supporting International Collaboration \\nInternational collaboration in AI-based research and innovative solutions will complement AI proliferation'),\n",
              " Document(metadata={'source': 'AI policy', 'page_no': 29}, page_content='International collaboration in AI-based research and innovative solutions will complement AI proliferation \\nefforts in Pakistan. The advancement and expertise developed countries enjoy in AI and related \\ntechnologies are still a long-term aspiration for Pakistan; however, it can benefit from that by collaborating \\nwith international experts and institutions in AI and allied technologies. Moreover, this will help us upgrade \\nour technological infrastructure according to international standards. The proposed intervention for \\nfostering international collaboration is: \\nI. At least five project calls may be launched in AI by 2025 , prioritizing the participation of \\ninternational collaboration . This will provide Pakistan’s academia and industry with fresh \\nperspectives on a new way of working and help them inculcate knowledge about the late st \\ndevelopments in the AI field at the international level. \\n4.4 4th Pillar: Transformation & Evolution \\n4.4.1 Role of National IT Boards in Transformation  \\nThe National Information Technology Board (NITB) and provincial IT boards can play a leading role in data \\ndigitization and standardization in different sectors and industries. Thus, they have a crucial role in AI \\nproliferation and its success. Standardized data is fuel to any AI -based technology, especially Machine \\nLearning/Deep Learning-based technologies trained on the datasets. This makes it a priority task for the IT'),\n",
              " Document(metadata={'source': 'AI policy', 'page_no': 29}, page_content='Learning/Deep Learning-based technologies trained on the datasets. This makes it a priority task for the IT \\nboards to manage the standardization and accessibility of data. The following interventions are suggested: \\nI. IT boards should design  and provide roadmaps for the transformations in various sectors and \\nindustries based on their awareness and readiness for AI adoption. These roadmaps should start \\ncirculating in the respective sectors by 2023 so that the structural and competency transformation \\ntowards effective AI adoption in various sectors, especially public institutions, can be expedited.  \\nII. IT boards should become facilitators in designing and providing specialized training courses and \\ncertifications to prepare trained and skilled human capital with skills tailored to  sectoral \\nrequirements. These training programs may be initiated as early as 2023 to accelerate compliance \\nwith AI adoption needs and requirements and prepare a skilled workforce to bear the torch of AI \\nadoption and help Pakistan move forward.  \\nIII. AI maturity model and project management guidelines may be imp lemented in at least 50 \\ninstitutions and organizations across the board by 2025 to ensure auditing and accountability \\nstandards per international best practices implemented for AI-supported platforms.'),\n",
              " Document(metadata={'source': 'AI policy', 'page_no': 30}, page_content='15 \\n \\n4.4.2 Industrial Transformation \\nIndustries are turning any country’s economic wheels, and their optimization help contributes substantially \\nto GDP. AI and allied technologies can augment industries’ capacity building by introducing State -of-the-\\nart technologies such as IoTs and enhancing their efficiency and produc tivity. IoTs streamline assembly \\nlines of automotive industries, assist in asset management in manufacturing plants, improve machine \\nefficiency, and reduce downtime through predictive maintenance. Inventory management is another major \\narea where IoTs help streamlines the whole process, thus reducing wastage and shortages in supply and \\ndemand mechanisms. The induction of IoT-based technologies will be productive in terms of quality control \\nwhich is done by collecting data through thermal and video sensors throughout the stages of the product \\ncycle. Smart meters powered by IoTs can monitor and optimize the consumption of electricity, water, and \\nother fuels and help establish sustainable usage of valuable energy resources.  \\nI. As an intervention, the Federation of  Pakistan Chamber of Commerce and Industry (FPCCI) shall \\npromulgate awareness campaigns to enable local industries to embrace AI and allied technologies \\nthrough seminars, workshops, and training courses. This will assist in expediting AI proliferation in \\nindustries and improve industry stakeholders’ awareness of IoT-based technologies.'),\n",
              " Document(metadata={'source': 'AI policy', 'page_no': 30}, page_content='industries and improve industry stakeholders’ awareness of IoT-based technologies. \\nII. Data standardization is the key to the success of AI adoption in any capacity. It will provide the raw \\nmaterial in the form of  standardized data sets that will be used to train the AI and allied \\ntechnologies such as Machine Learning and Deep Learning . Especially in the healthcare sector, \\nsharing standardized data will ensure the enablement of the  preventive healthcare system in \\nPakistan, which has been adopted worldwide. National Information Technology Board (NITB) and \\nprovincial boards  are the key  organizations that have an essential role in ensuring data \\nstandardization and providing  accessibility, for the smooth proliferation of AI and related \\ntechnologies, to various sectors and industries of Pakistan.  \\n4.4.3 Public/Private Sector Evolution \\n COE-AI and ARD need to work in synchronization for a relatively smooth process of AI adoption in the \\npublic and private sectors. They will ensure technical, computational, regulatory, and financial assistance \\nas and when required. Furthermore, the National Artificial Intelligence Fund (NAIF), with help from the \\nprivate sector and international bodies, will fuel the research and inno vative endeavors for successfully \\nintegrating AI and associated technologies into Pakistan’s institutional and industrial fabric. These \\ncollaborative investments will bear fruit in commercializing various products produced by the COE -AI-'),\n",
              " Document(metadata={'source': 'AI policy', 'page_no': 30}, page_content=\"collaborative investments will bear fruit in commercializing various products produced by the COE -AI-\\nenabled AI ecosystem.  \\n5 Policy Implementation & Review \\nGlobal best practices for policies and strategies solicit the need for an implementation organization that \\nwill not only steer but also helps organize day-to-day operations in line with the directions and timelines \\nstipulated in the policy document.   \\nThis would require a holistic approach through inclusivity of stakeholders at all times and transparency of \\nactions always undertaken with firm monitoring and evaluation. A review and implementation organization \\nshall be orchestrated under the given framework to achieve this. \\n5.1 Steering/Management Committee \\nI. The steering committee will comprise government, academia, industry, and civil society members \\nwith equal representation of each stakeholder.  \\nII. The Secretary of IT & Telecom will convene the committee, and in his absence, Member IT may be \\nthe committee's acting chair. \\nIII. It will analyze and direct the progress and performance undertaken by different working groups, \\nthe policy implementation cell, and the organizations resulting from policy interventions.\"),\n",
              " Document(metadata={'source': 'AI policy', 'page_no': 31}, page_content='16 \\n \\nIV. The Steering /Management Committee, being the apex body and custodian of the policy, will \\nprovide guidelines for new and existing initiatives to the National AI Fund in line with the \\nstipulations of this policy.  \\n5.2 Working Groups \\nI. Four working groups will represent the four policy drivers, with at least one representation from \\nall stakeholders.  \\nII. It will work in collaboration with international organizations and academia working in similar \\npolicy-making roles to keep the AI Policy updated and based on international best practices.  \\nIII. It will provid e recommendations on adopting international regulation standards to the steering \\ncommittee.  \\nIV. These working groups will also assist in the research areas where policy measures are needed to \\npropagate the industries, identify the obstacles, and address them accordingly.  \\nV. Their responsibility will involve monitoring and evaluating their domains and presenting \\nrecommendations to the steering committee.  \\nVI. To monitor and evaluate the operations of various organizations and obtain their input, they will \\nliaise with institutions such as NAIF and CoE-AI.  \\nVII. They will communicate their recommendations to the steering committee. \\n5.3 Policy Implementation Cell \\nI. The Policy Implementation Cell will oversee day-to-day operations conducted to implement policy \\nguidelines.  \\nII. They will provide operational support to the working groups and management committee for the'),\n",
              " Document(metadata={'source': 'AI policy', 'page_no': 31}, page_content='guidelines.  \\nII. They will provide operational support to the working groups and management committee for the \\nsmooth running of implementation processes.  \\nIII. It will work closely with the working groups and the steering committee to monitor the progress \\nof policy implementation and provide ensuing recommendations on a monthly basis for \\nstreamlined policy implementation.  \\nIV. The policy Implementation Cell will be working under the purview of MoITT, reporting to Member \\nIT.  \\n5.4 Review Procedure & Timeline \\nI. The Ministry of IT & Telecom may organize a comprehensive policy review every three years ; \\nhowever, the Steering Committee may review the progress/implementation of policy directives \\nevery six months. \\nII. Working groups shall meet every three (3) months to suggest recommendations to the steering \\ncommittee in meeting the targets. \\nIII. Policy Implementation Cell shall perform day-to-day operations working under PSDP or attributed \\nthrough the provision of AI funds with immediate effect upon the promulgation of the policy.  \\nIV. The Steering/Management committee will hold biannual meetings to work on the assigned tasks \\nand assess the progress reported by working groups and Policy Implementation Cell.  \\nV. Appropriate stipends will be provided to the working groups and the steering/management \\ncommittee to ensure effective functioning. \\nVI. Monitoring and evaluation may involve multiple third -party organizations to evalua te the'),\n",
              " Document(metadata={'source': 'AI policy', 'page_no': 31}, page_content='committee to ensure effective functioning. \\nVI. Monitoring and evaluation may involve multiple third -party organizations to evalua te the \\nperformance of programs/projects throughout their lifecycle. Contracts to such organizations will \\nbe awarded on an annual basis.'),\n",
              " Document(metadata={'source': 'AI policy', 'page_no': 32}, page_content='17 \\n \\n6 Definitions \\nTriple Helix Partnership  \\nThe Triple-Helix model implies the development of a trilateral network of organizational links between the \\nuniversity, government, and industry in which the university (and similar research and educational \\ninstitutions) should be regarded as the primary source of knowledge and from which it is being spread. The \\ngovernment should provide some strategic guidelines for developing a sectorial and a regional economy \\nby implementing several direct and indirect economic measures and ensuring financing sources for R&D \\nactivities. Government should also be responsible for launching R&D pr ograms of special importance for \\nthe country, particularly when their high financial standards cannot be met without the government’s \\nfinancial help. The role of the firms should be to concentrate their resources on the commercial part of \\nR&D activities. \\nSmall and Medium-Sized Enterprises (SME) \\nIt is a convenient term for segmenting businesses and other organizations between the “small office home \\noffice” size and the larger enterprise. \\nSustainable Development Goals (SDG) \\nThese 17 interlinked global goals are designed to be a ‘blueprint for achieving a better and more sustainable \\nfuture for all.’ \\nCommon Operating Environment (COE) \\nA COE specifies a standard data collection and processing mechanism within a given IT architecture of an \\norganization and promotes  interoperability and cross-platform capabilities among different'),\n",
              " Document(metadata={'source': 'AI policy', 'page_no': 32}, page_content='organization and promotes  interoperability and cross-platform capabilities among different \\nplatforms/services. \\nKey Performance Indicator (KPI) \\nIt is a quantifiable measure of performance over time for a specific objective. KPIs provide targets for teams \\nto shoot for, milestones to gauge progress, and insights that help people across the organization make \\nbetter decisions. \\nStartups \\nStartups are \"innovative, high -growth potential, scalable and technology -based new businesses, which \\nrequire a unique set of skills and resources to achieve commercialization and sustainable growth.\" \\n7 Acronyms  \\nACRONYM ABBREVIATION \\nAI Artificial Intelligence \\nARD AI Regulatory Directorate \\nNAIF National Artificial Intelligence Fund \\nMoITT Ministry of Information Technology and Telecom \\nNADRA National Database and Registration Authority \\nCOE-AI National Centers for Research, Innovation, Entrepreneurship, and Artificial Intelligence \\nNDA National Data Authority \\nNCPDP National Commission for Personal Data Protection'),\n",
              " Document(metadata={'source': 'AI policy', 'page_no': 33}, page_content='18 \\n \\nPDPA Pakistan Data Protection Authority \\nNTC National Telecom Corporation \\nNITB National Information Technology Board \\nR&D Research and Development \\nSDGs Sustainable Development Goals (UN) \\nFPCCI Federation of Pakistan Chamber of Commerce and Industry  \\nCoE Center of Excellence \\nPoC Proof of Concept \\nIoTs Internet of Things'),\n",
              " Document(metadata={'source': 'AI policy', 'page_no': 34}, page_content='19 \\n \\n8 Annex I – Sectoral Survey Regarding AI Adoption, \\nChallenges and Opportunities in Pakistan \\n8.1 Sectoral identification \\nSectoral identification is essential to  strategizing AI proliferation in Pakistan. These areas can socio-\\neconomically benefit the most from AI adoption and progress by engraining AI technology in its operations. \\nThe stakeholders in Pakistan are those areas of society with significant potential for AI adoption and where \\nthis technology can lead to substantial progress. The classification of sectors has been done based on the \\nfollowing criteria, as shown in the figure below. \\n \\nFigure 1: Criteria for the identification of sectors in society in relevance to AI adoption \\nThe criteria have led to the identification of the following societal areas: \\n1. Agriculture: AI can revolutionize the agricultural sector by introducing process automation, enhanced \\ntraceability, and analyzing large volumes of data available through satellites and weather predictions. \\nBy 2026, agriculture-based AI technology is expected to reach the $2.5 billion mark. Agriculture has a \\nGDP contribution of 20% in Pakistan, a significant portion of our revenue. Therefore, using the latest \\ntechnologies and innovative methods will decrease costs and improve the quality of yields. \\n2. Healthcare: The healthcare sector can benefit from AI -based innovations in diagnostics, prevention \\nof outbreaks, research and development (R&D) in pharmaceuticals, self -monitoring tools,'),\n",
              " Document(metadata={'source': 'AI policy', 'page_no': 34}, page_content='of outbreaks, research and development (R&D) in pharmaceuticals, self -monitoring tools, \\npersonalized healthcare, and precision medicine. AI -based technologies have revolutionized \\npreventive medicine as they assist in streamlining patient histories, data standardization, and sharing \\nmechanisms. In addition, AI can support attracting the private sector in Pakistan, which only spends \\n1.4% of the country’s GDP in this sector. \\n3. Manufacturing: AI and allied technologies such as robotics can revolutionize the manufacturing \\nindustry through automation and enhanced efficiency of operations and safety at workplaces such as \\nfactories. Pakistan can vastly benefit from AI while developing consumer goods specific to the local \\nmarket requirements.  \\n4. Retail & Commerce:  The retail and commerce indu stry is reaping the fruits of using AI and allied \\ntechnologies with expected AI -based value addition by 2035, touching a whopping figure of $2.23 \\ntrillion. AI and associated technologies can streamline inventory and supply chain management \\nsystems, reducing wastage and optimizing and enhancing  the efficacy of the entire value chain.  In \\nPakistan, AI -based technologies can significantly change retail and commerce , a rapidly emerging \\narea. \\n5. IT Industry: The IT industry is the highest growing sector in the count ry and is also considered to be \\nat the forefront of the AI revolution worldwide. The IT sector uses  Machine Learning and Deep'),\n",
              " Document(metadata={'source': 'AI policy', 'page_no': 34}, page_content='at the forefront of the AI revolution worldwide. The IT sector uses  Machine Learning and Deep \\nLearning to re-engineer processes and systems for streamlining business operations and helping them'),\n",
              " Document(metadata={'source': 'AI policy', 'page_no': 35}, page_content='20 \\n \\nleverage new revenue streams and market growth. In addition, AI can supplement the IT industry by \\nmaking its systems more efficient, courtesy of predictive analytics and Big Data Analytics. According \\nto statistics, 48% of businesses use Machine Learning , data analytics, and other AI tools.  IT exports \\nare rapidly growing in Pakistan and have significant potential. Equipping local IT companies with AI \\ninfrastructure and skilled human capital can help them leverage new and diverse opportunities in the \\nglobal marketspace. \\n6. Financial Sector:  AI can improve customer experience in the financial sector with enhanced \\ninvestment opportunity identification. Chatbots provide a smo oth and excellent customer service \\nexperience to clients. Moreover, AI-based technologies and algorithms curb and mitigate fraudulent \\nfinancial activities and augment data safety. AI can improve tax compliance and administration by \\nimproving efficiency through automation and AI-based algorithms. \\n7. Academia: AI can assist in teaching and skills development methods. At the global level, AI adoption \\nleaders have ensured that AI-based curricula become integral to educational institutions to prepare \\nfuture generations. Academia and the industry need to collaborate and cooperate, especially in R&D \\nand HR-related initiatives that can assist in the proliferation of AI -based technologies and inculcate'),\n",
              " Document(metadata={'source': 'AI policy', 'page_no': 35}, page_content='and HR-related initiatives that can assist in the proliferation of AI -based technologies and inculcate \\ninnovative and entrepreneurial thinking in our youth while nurturing  a culture that will expedite AI \\nadoption in various sectors and industries in Pakistan.  \\n8. Government Sector: Public and government services can benefit from AI -based technologies and \\nbecome more efficient and productive. For example, automation and chatbots improve the efficiency \\nand quality of services provided to the public. Similarly, AI can help make complex economic decisions \\nto enhance the productivity of various sectors and industries through accurate predictions. \\n9. Defense Sector:  The defense sector of any country showcases the strength of the country’s \\nsovereignty and its ability to defend itself against aggressors. Therefore, every government spends a \\nsubstantial part of its GDP to enhance its defense capabilities and tries to inculcate the latest \\ntechnologies to strengthen its prowess. AI has brought revolutionary improvements in various \\ndefense sub-sectors, particularly in intelligent surveillance system s, automatic drones, geographic \\ntarget detection, autonomous path tracking in missiles, autofocus in tanks and guns, target detection \\nand recognition , and enhanced night vision.  Unfortunately, Pakistan has faced the worst kind of \\nterrorism for many years. It has caused us irreversible damage with the loss of precious lives of'),\n",
              " Document(metadata={'source': 'AI policy', 'page_no': 35}, page_content='terrorism for many years. It has caused us irreversible damage with the loss of precious lives of \\ninnocent civilians and our armed forces personnel, structural damages, and loss of investors. AI and \\nallied technologies can provide invaluable services in effectively combating terrorism and achieving \\ndefense targets. \\n8.2 Survey Statistics \\nTo assess the state of AI in Pakist an, the Ministry of IT & Telecom organized a sectorial survey to register \\nthe evidence nationwide. Error! Reference source not found.  here summarizes the contribution of the \\nparticipating organizations in the survey. While Error! Reference source not found. further describes the \\nstate of AI in key areas in each identified sector. It also reflects on the key findings under the umbrella  of \\nsurvey results.'),\n",
              " Document(metadata={'source': 'AI policy', 'page_no': 36}, page_content='21 \\n \\n \\n0 5 10 15 20 25\\nAgriculture Industry\\nHealthcare Industry\\nManufacturing Industry\\nRetail & Commerce\\nIT Industry\\nFinancial Services\\nAcademia\\nGovernment Sector\\nTable 1: Stakeholder organizations contribution in the survey'),\n",
              " Document(metadata={'source': 'AI policy', 'page_no': 37}, page_content='22 \\n \\nTable 2: Society challenges reflected by the survey results. \\nS. \\nNO Attributes Description Evidence (as per 2022) \\n1.  AI Readiness • At the global level, the AI adoption rate is 56% across all geographies, \\nwhile developing markets registered a 21% increase [5]. \\n• According to a State of AI Report, Pakistan ranks 117 out of 172 countries and has an index \\nscore of 34.03 [6] in terms of AI readiness at a global scale. \\n2.  AI- Education \\n• By 2025, 97 million jobs will be opened in AI -based domains such as \\nmachine learning specialists, process automation specialists, big data \\nspecialists, etc. 39% of the companies aim to reskill and develop their \\nworkforce in AI-based technologies [7].  \\n• There has been an increase in CS  Ph.D. graduates in the US with \\nspecialization in AI/ML and Robotics/Vision categories by 72% and \\n51%, respectively, between 2010 and 2020 [5].  \\n• There are approximately 600,000 people employed in the IT sector with working skills in AI -\\nbased technologies. \\n• 25,000 students graduate each year from IT -based programs who are trained in AI and \\nassociated technologies as well [8].  \\n• 47 universities and colleges in Pakistan offer BS AI, while 9 universities offer MS AI.  \\n• HEC offers 70 international  Ph.D. admission in IT, CS, Software Engineering, Data Sciences , \\nand AI [9]. \\n3.  \\nResearch and \\nDevelopment \\n• The number of AI patents filed in 2021 is 77% which is 30 times more \\nthan in 2015 worldwide.'),\n",
              " Document(metadata={'source': 'AI policy', 'page_no': 37}, page_content='and AI [9]. \\n3.  \\nResearch and \\nDevelopment \\n• The number of AI patents filed in 2021 is 77% which is 30 times more \\nthan in 2015 worldwide. \\n• AI-based publications around the world amounted to 334,497 in \\n2021[5]. \\n• Pakistani IPO office is not designated/authorized to file IT/AI-based patents. Therefore, most \\nAI-based patents must be filed from abroad. \\n• Between 2016 and 2020, there were 2600 AI-based publications credited to Pakistan [10]. \\n4.  Investment \\n• More than 40% of large organizations are planning to invest in AI \\ntechnology, according to a survey for 2020.  \\n• In the US alone, AI startups received  over $20 billion in funds, while \\ncorporate investment in AI has touched the $94 billion mark [5]. \\n• Pakistani Tech-based startups using AI -based technologies received $278 million in funding \\nin 2021 [11]. \\n5.  \\nAI Governance/ \\nRegulations \\n• 25 countries across the globe have passed 55 AI-related bills; by 2021, \\n18 of those bills have been passed into law [5]. \\nFollowing l egislative measures have been taken considering Digitization and technological \\nadvancement in Pakistan: \\n• Personal Data Protection Act \\n• Digital Pakistan Policy \\n• Pakistan Cloud Policy \\n• Pakistan IT Policy'),\n",
              " Document(metadata={'source': 'AI policy', 'page_no': 38}, page_content='23 \\n \\n8.3 Market Challenges \\nThe evidence furnished above simplifies the identification of challenges leading to pragmatic market \\nsupport and only necessary interventions. These challenges are: \\n3.2.1. G1 – Awareness and Adaptation Challenges  \\nI. It is becoming increasingly important that society is aware of the potential of AI in solving routine \\nmatters. This requires an awareness campaign towards controlling and sharing data, basic skills \\neducation, and high-impact skilling at all levels of the community for sustainable growth. Nations \\ndominating the AI and allied technologies arena have instituted well -defined Human Capital \\ndevelopment and evolution mechanisms to prepare the future generation for AI adoption in \\nvarious sectors through sizable pub lic/private investments and to retain the talent locally. \\nMoreover, international universities have inculcated AI -based curricula in their primary, high -\\nschool, undergraduate, and post-graduate programs to ensure that AI is adopted in a structured \\nmanner offering a comprehensive development plan for its role in different phases of life and \\nwork.  \\nII. In Pakistan, enabling AI and allied technologies is challenging without having a basic level of \\nawareness about the technology at the user level. It should be complemented with skilled human \\nresources, having a broader understanding of how and where AI should be applied and the best'),\n",
              " Document(metadata={'source': 'AI policy', 'page_no': 38}, page_content='resources, having a broader understanding of how and where AI should be applied and the best \\npractices in this technology for its effective and responsible use. The major hurdle in preparing AI-\\ntrained human capital is the acces s to data needed to train them in various domains of AI -based \\ntechnologies. Hence, data is the underlying artefact for putting skilled human capital to work and \\nmaking them experiment with using AI-based models in a controlled yet agile environment.   \\nIII. AI a doption would disrupt how work will be done in public and private sectors and various \\nindustries, directly affecting the country ’s socio -economic fabric. People working in traditional \\nways and not skilled in AI -based technologies are at risk of losing their jobs if not pivoted timely. \\nThis issue must be addressed on a priority basis, which can only be done through awareness and \\nupskilling. Customized learning programs, workshops, and courses can assist such individuals in \\nsurviving this transition and becoming an integral part of digitally transformed workplaces.  \\nIV. According to the surveys, at a sectoral scale, half of the respondents are well versed with AI and \\nrelated technologies, while the other half possess working knowledge. To teach an AI-based \\ncurriculum, the survey findings point to including short courses and 6 -12 month -long boot \\ncamps/diplomas urgently. Furthermore, bachelor’s/master’s level programs and Ph.D. degrees in \\nAI are also worth considering.'),\n",
              " Document(metadata={'source': 'AI policy', 'page_no': 38}, page_content='camps/diplomas urgently. Furthermore, bachelor’s/master’s level programs and Ph.D. degrees in \\nAI are also worth considering.  \\nV. The significant adaptation challenges towards AI proliferation include digitization of information, \\ndigital access, literacy, and digital inclusion by design. Heaps of data are available in the public and \\nprivate sectors, either difficult to access or not available appropriately (such as in hard copies). In \\nmany cases, it has been observed that data digitalization and basic process automation in a \\nconfined environment are considered sufficient due to a lack of awareness. Alternatively, Cloud -\\nbased solutions using AI for data/process orchestration, manag ement, and analytics offered as \\nSaaS provides greater access. However, with limited knowledge, such services are never done \\njustice in terms of their utilization. Moreover, in several cases, local SMEs and enterprises are not \\nusing AI and allied technologi es effectively, leading to demand -side paralysis . For instance, \\ndigitizing healthcare-related data is essential in getting patients’ history accessible to the doctors \\nas well as various diagnostic and R&D. Unfortunately, the healthcare sector is digitized at a'),\n",
              " Document(metadata={'source': 'AI policy', 'page_no': 38}, page_content='digitizing healthcare-related data is essential in getting patients’ history accessible to the doctors \\nas well as various diagnostic and R&D. Unfortunately, the healthcare sector is digitized at a \\nfundamental level with limited or zero technological transformation  and the standardization of  \\ndata, which is a significant hurdle in enabling AI-based advancement in the healthcare sector.  \\nVI. Digital literacy is another challenge as people are to be educated about data digitization and \\naccessibility and how to adopt safe data-sharing mechanisms. Moreover, it needs to be organized'),\n",
              " Document(metadata={'source': 'AI policy', 'page_no': 39}, page_content='24 \\n \\nto allow equal opportunity for children, women from remote areas,  and disabled persons to \\nbenefit from the AI proliferation efforts and meet future challenges.  \\n3.2.2. G2 – Data Standardization and Accessibility \\nI. Globally, leaders in AI proliferation have made data standardization and accessibility their top \\npriority. For example, China used the vast datasets available from the provin ces to train AI and \\nallied technologies, especially in the healthcare sector. As a result, it took the burden from the \\nhospitals and medical practitioners. Estonia is another shining example of data standardization \\nand accessibility that enabled the small European country to lead in AI adoption.  \\nII. Organizations obtain data from several resources. If this data from disparate sources is not brought \\nto a common operating environment , it will create significant problems in its processing for \\ndifferent purposes and uses . Therefore, Pakistan’s primary issue is to digitize and organize the \\nmassive datasets available in various inaccessible forms and make them available in a standardized \\nform to make them more relevant for data analytics and other data processing mechanisms. This \\nis only achievable through sustainable developmental hubs and associated collaborations in \\ndifferent sectors.  \\nIII. Data standardization has been done in the financial sector according to international standards to'),\n",
              " Document(metadata={'source': 'AI policy', 'page_no': 39}, page_content='different sectors.  \\nIII. Data standardization has been done in the financial sector according to international standards to \\nretain a competitive e dge. Most companies in the IT industry have also ensured standardization \\nand accessibility. However, as learned through the survey, other sectors such as manufacturing, \\nagriculture, retail & commerce, and healthcare lag significantly in this domain.  Significant efforts \\nare required to develop and augment an ecosystem that catalyzes the country’s adoption of AI and \\nallied technologies. Moreover, the lack of accessibility to data hinders AI -based R&D, predictive \\nanalytics, and various other AI-based technologies from producing valuable outputs. It adversely \\naffects advancement in research & development and AI proliferation. The survey results report: \\na. The lack of accessibility of data has been pointed out by 86% of the stakeholders, which is a \\nprerequisite to AI adoption in any sector.  \\nb. 50% of the stakeholders shared their concerns about data not being standardized. \\nc. 71% of respondents consider poor data collection practices a crippling factor for successful \\nAI adoption. \\nd. 44% of the stakeholders recommend followin g leaders in AI adoption , such as the UK, \\nEstonia, and China, for data standardization mechanisms. \\n3.2.3. G3 – Computational Infrastructure Situation and Needs \\nI. Developed countries and the countries which have made significant progress in AI proliferation'),\n",
              " Document(metadata={'source': 'AI policy', 'page_no': 39}, page_content='I. Developed countries and the countries which have made significant progress in AI proliferation \\nhave ensured the availability of computational equipment and facilities to the stakeholders and \\ninstitutions to train the human capital and streamline the modernization of processes to ensemble \\na sustainable AI outfit.  However, such efforts need resources these co untries have ensured and \\nmade available to the relevant stakeholders.  \\nII. Limited computational resources are a shared obstacle by various sectors of Pakistan. The need \\nfor computational facilities is emphasized for providing robust and secure access to infrastructure \\nfor complex R&D and high -performing systems. Furthermore, these computational facilities are \\nessential for any initiative to train human resources in AI and allied technologies. Their availability \\nunder one roof is necessary to streamline the training and learning process.  \\nIII. Similarly, in many cases, the computational resources are not used optimally. Therefore, a \\nnational/provincial data repository of all the public sector data can be made available to a broader \\naudience via a secure/controlled ch annel. There is also a strong need for training on high -\\nperformance computing technologies so that indigenous customized solutions can meet local'),\n",
              " Document(metadata={'source': 'AI policy', 'page_no': 39}, page_content='audience via a secure/controlled ch annel. There is also a strong need for training on high -\\nperformance computing technologies so that indigenous customized solutions can meet local \\ncomputational requirements within the country.'),\n",
              " Document(metadata={'source': 'AI policy', 'page_no': 40}, page_content='25 \\n \\nIV. 57% of stakeholders have registered concerns regarding the limited availability of computational \\nresources as a barrier to achieving a trained workforce in AI and allied technologies. \\nV. To augment applied research and provide robust and secure access to infrastructure for complex \\nR&D, computational facilities are considered vital by 55% of stakeholders. \\n3.2.4. G4 – Ethical Challenges \\nI. Safe and secure data sharing and ethical adoption of AI and allied technologies are primary \\nconcerns for every stakeholder, national or international. At a global level, various countries that \\nhave adopted AI formulated guidelines and principles for the ethical use of AI and related \\ntechnologies and established a regulatory framework to streamline safe and secure data -sharing \\nmechanisms. Regulatory challenges must be addressed to establish an enviro nment of trust. \\nMoreover, it is the users’ fundamental right that their data be safe and that their privacy is always \\nupheld. Therefore, an effective regulatory system that may steer AI adoption, related initiatives, \\nand data-sharing mechanisms is needed. \\nII. Most stakeholders voted various risks associated with AI adoption medium to high, including \\nmalicious intent, data pollution, Data model theft, fairness, precision deterioration, invasion of \\nprivacy, etc.'),\n",
              " Document(metadata={'source': 'AI policy', 'page_no': 41}, page_content='26 \\n \\n9 References \\n[1] B. Gates, “The Age of AI has begun,” gatesnotes.com. https://www.gatesnotes.com/The-Age-of-AI-\\nHas-Begun (accessed Apr. 03, 2023). \\n[2] “Pakistan Population (2022) - Worldometer.” https://www.worl dometers.info/world-\\npopulation/pakistan-population/ (accessed Jun. 14, 2022). \\n[3] “Ministry of Federal Education and Professional Training.” \\nhttp://mofept.gov.pk/ProjectDetail/NjQ4ZTg2NjItOWM2NC00Y2IxLTkzMDgtMjU2OTFhMjA4NzNh \\n(accessed Jun. 13, 2022). \\n[4] “I have the power to change my world,” United Nations Population Fund . \\nhttps://www.unfpa.org/annual-report-2017 (accessed Jun. 14, 2022). \\n[5] “AI Index 2022,” Stanford Institute for Human -Centered Artificial Intelligence . \\nhttps://hai.stanford.edu/research/ai-index-2022 (accessed Oct. 19, 2022). \\n[6] “Government AI Readiness Index 2022,” Oxford Insights . \\nhttps://www.oxfordinsights.com/government-ai-readiness-index-2022 (accessed Mar. 30, 2023). \\n[7] “65 Artificial Intelligence Statistics for 2021 and Beyond,” Semrush Blog . \\nhttps://www.semrush.com/blog/artificial-intelligence-stats (accessed Aug. 12, 2022). \\n[8] “How Pakistan Ranks | Tech Destination Pakistan.” https://app.techdestination.com/how_pak_ranks \\n(accessed Oct. 19, 2022). \\n[9] “Advanced Skills Development  Through International Scholarships GOALS.” \\nhttps://www.hec.gov.pk/english/scholarshipsgrants/ASDIS/Pages/Goals.aspx (accessed Oct. 19, \\n2022).'),\n",
              " Document(metadata={'source': 'AI policy', 'page_no': 41}, page_content='https://www.hec.gov.pk/english/scholarshipsgrants/ASDIS/Pages/Goals.aspx (accessed Oct. 19, \\n2022). \\n[10] “Global AI publications by country 2020, Pakistan.” https://www.statista.com/statistics/939627/ai -\\npublications-worldwide-by-country/ (accessed Oct. 19, 2022). \\n[11] “2021: A Banner Year For Pakistani Tech Startup Investments.” \\nhttps://www.southasiainvestor.com/2021/10/2021-banner-year-for-pakistani-tech.html (accessed \\nOct. 19, 2022).')]"
            ]
          },
          "metadata": {},
          "execution_count": 30
        }
      ]
    },
    {
      "cell_type": "code",
      "source": [
        "len(doc_list)"
      ],
      "metadata": {
        "colab": {
          "base_uri": "https://localhost:8080/"
        },
        "id": "7gwqdXzbrcHA",
        "outputId": "99966445-c88d-44b7-d1df-8ff671929ae6"
      },
      "execution_count": null,
      "outputs": [
        {
          "output_type": "execute_result",
          "data": {
            "text/plain": [
              "104"
            ]
          },
          "metadata": {},
          "execution_count": 16
        }
      ]
    },
    {
      "cell_type": "markdown",
      "source": [
        "Qdrant Vector Store"
      ],
      "metadata": {
        "id": "iYwPRTPcvDBr"
      }
    },
    {
      "cell_type": "code",
      "source": [
        "pip install -qU langchain-qdrant"
      ],
      "metadata": {
        "id": "AJZkpboC24Je",
        "colab": {
          "base_uri": "https://localhost:8080/"
        },
        "outputId": "6306a2e5-bb47-466b-fc32-a5f05c5698eb"
      },
      "execution_count": null,
      "outputs": [
        {
          "output_type": "stream",
          "name": "stdout",
          "text": [
            "\u001b[?25l   \u001b[90m━━━━━━━━━━━━━━━━━━━━━━━━━━━━━━━━━━━━━━━━\u001b[0m \u001b[32m0.0/267.2 kB\u001b[0m \u001b[31m?\u001b[0m eta \u001b[36m-:--:--\u001b[0m\r\u001b[2K   \u001b[90m━━━━━━━━━━━━━━━━━━━━━━━━━━━━━━━━━━━━━━━━\u001b[0m \u001b[32m267.2/267.2 kB\u001b[0m \u001b[31m18.1 MB/s\u001b[0m eta \u001b[36m0:00:00\u001b[0m\n",
            "\u001b[?25h\u001b[?25l   \u001b[90m━━━━━━━━━━━━━━━━━━━━━━━━━━━━━━━━━━━━━━━━\u001b[0m \u001b[32m0.0/2.4 MB\u001b[0m \u001b[31m?\u001b[0m eta \u001b[36m-:--:--\u001b[0m\r\u001b[2K   \u001b[91m━━━━━━━━━━━━━━━━━━━━━━━━━━━━━━━━━━━━━━━\u001b[0m\u001b[91m╸\u001b[0m \u001b[32m2.4/2.4 MB\u001b[0m \u001b[31m117.4 MB/s\u001b[0m eta \u001b[36m0:00:01\u001b[0m\r\u001b[2K   \u001b[90m━━━━━━━━━━━━━━━━━━━━━━━━━━━━━━━━━━━━━━━━\u001b[0m \u001b[32m2.4/2.4 MB\u001b[0m \u001b[31m55.2 MB/s\u001b[0m eta \u001b[36m0:00:00\u001b[0m\n",
            "\u001b[?25h\u001b[?25l   \u001b[90m━━━━━━━━━━━━━━━━━━━━━━━━━━━━━━━━━━━━━━━━\u001b[0m \u001b[32m0.0/57.5 kB\u001b[0m \u001b[31m?\u001b[0m eta \u001b[36m-:--:--\u001b[0m\r\u001b[2K   \u001b[90m━━━━━━━━━━━━━━━━━━━━━━━━━━━━━━━━━━━━━━━━\u001b[0m \u001b[32m57.5/57.5 kB\u001b[0m \u001b[31m4.6 MB/s\u001b[0m eta \u001b[36m0:00:00\u001b[0m\n",
            "\u001b[?25h\u001b[?25l   \u001b[90m━━━━━━━━━━━━━━━━━━━━━━━━━━━━━━━━━━━━━━━━\u001b[0m \u001b[32m0.0/316.6 kB\u001b[0m \u001b[31m?\u001b[0m eta \u001b[36m-:--:--\u001b[0m\r\u001b[2K   \u001b[90m━━━━━━━━━━━━━━━━━━━━━━━━━━━━━━━━━━━━━━━━\u001b[0m \u001b[32m316.6/316.6 kB\u001b[0m \u001b[31m21.2 MB/s\u001b[0m eta \u001b[36m0:00:00\u001b[0m\n",
            "\u001b[?25h\u001b[31mERROR: pip's dependency resolver does not currently take into account all the packages that are installed. This behaviour is the source of the following dependency conflicts.\n",
            "tensorflow 2.17.1 requires protobuf!=4.21.0,!=4.21.1,!=4.21.2,!=4.21.3,!=4.21.4,!=4.21.5,<5.0.0dev,>=3.20.3, but you have protobuf 5.28.3 which is incompatible.\n",
            "tensorflow-metadata 1.13.1 requires protobuf<5,>=3.20.3, but you have protobuf 5.28.3 which is incompatible.\u001b[0m\u001b[31m\n",
            "\u001b[0m"
          ]
        }
      ]
    },
    {
      "cell_type": "code",
      "source": [
        "from langchain_qdrant import QdrantVectorStore"
      ],
      "metadata": {
        "id": "44Lxkd0w3UcH"
      },
      "execution_count": null,
      "outputs": []
    },
    {
      "cell_type": "code",
      "source": [
        "# from langchain_qdrant import QdrantVectorStore\n",
        "# from qdrant_client import QdrantClient"
      ],
      "metadata": {
        "id": "3iKgTArZ3BkL"
      },
      "execution_count": null,
      "outputs": []
    },
    {
      "cell_type": "code",
      "source": [
        "qdrant_url = \"https://4062f273-d18b-4967-9494-e5929b6bed56.us-east4-0.gcp.cloud.qdrant.io:6333\"\n",
        "qdrant_key = \"Suz62UVlCMs11YVMI0VxpMpL5FuGZnFaVru8W_sfmyRv-iteHeHBzA\"\n",
        "collection_name = \"ai_policy\""
      ],
      "metadata": {
        "id": "2itaBCnDsT-a"
      },
      "execution_count": null,
      "outputs": []
    },
    {
      "cell_type": "code",
      "source": [
        "qdrant = QdrantVectorStore.from_documents(\n",
        "    doc_list,\n",
        "    embed_model,\n",
        "    url=qdrant_url,\n",
        "    api_key=qdrant_key,\n",
        "    collection_name=collection_name\n",
        ")"
      ],
      "metadata": {
        "id": "Q8cCBuXtxgBb"
      },
      "execution_count": null,
      "outputs": []
    },
    {
      "cell_type": "markdown",
      "source": [
        "**Query**"
      ],
      "metadata": {
        "id": "FoffNhoR5Gsn"
      }
    },
    {
      "cell_type": "markdown",
      "source": [
        "Retreiver: Cosine similarity"
      ],
      "metadata": {
        "id": "nhKhYU2hJMVs"
      }
    },
    {
      "cell_type": "code",
      "source": [
        "query = 'what is ai_policy of students'"
      ],
      "metadata": {
        "id": "NbcuQCQJ4uU8"
      },
      "execution_count": null,
      "outputs": []
    },
    {
      "cell_type": "code",
      "source": [
        "results = qdrant.similarity_search(query, k=5)"
      ],
      "metadata": {
        "id": "6gxcrg6p5RQ1"
      },
      "execution_count": null,
      "outputs": []
    },
    {
      "cell_type": "code",
      "source": [
        "results[4]"
      ],
      "metadata": {
        "colab": {
          "base_uri": "https://localhost:8080/"
        },
        "id": "WHWYJSJi5pBR",
        "outputId": "c027b9af-f8a7-4952-b2ba-6b3a43118979"
      },
      "execution_count": null,
      "outputs": [
        {
          "output_type": "execute_result",
          "data": {
            "text/plain": [
              "Document(metadata={'source': 'AI policy', 'page_no': 25, '_id': 'be480896-f900-4139-9e89-5e072ca6050c', '_collection_name': 'ai_policy'}, page_content='Intellectual Property Registration Support \\na. To improve Pakistan’s global footprint in research & development , the CoE-AI shall facilitate \\nthe registration of new patents in AI and allied technologies through fiscal, legal, and technical \\nsupport. b. The CoE -AI shall aim to facilitate the registration of at  least 400 patents in high -tech for \\nacademia and the private sector annually. 4.2.3 Algorithms, Data Science & AI in Basic Education \\nI. Where the policy document emphasizes the fundamental understanding and awareness of \\npersonal data protection and AI, it also aims to stimulate an incremental impact of AI on society \\nright from the grassroots. Therefore, the policy has given equal importance to teaching algorithms, \\ndata science, and AI in basic STEM education. In this regard, it stipulates that. CoE-AI shall hire a \\nlocal/international consultant with expertise in high -tech curriculum development to develop a \\nNational Curriculum in Algorithms, Data Sciences, AI, and Allied Technologies from the sixth to the \\ntwelfth standard.')"
            ]
          },
          "metadata": {},
          "execution_count": 22
        }
      ]
    },
    {
      "cell_type": "markdown",
      "source": [
        "Retreiver = maximum margin retreiver"
      ],
      "metadata": {
        "id": "2qQ9TnD6JUFL"
      }
    },
    {
      "cell_type": "code",
      "source": [
        "docs_mmr = qdrant.max_marginal_relevance_search(query, k=5)"
      ],
      "metadata": {
        "id": "70P-PpTSJTAN"
      },
      "execution_count": null,
      "outputs": []
    },
    {
      "cell_type": "markdown",
      "source": [
        "Pinecone"
      ],
      "metadata": {
        "id": "wTv7MECT6XKp"
      }
    },
    {
      "cell_type": "code",
      "source": [
        "pip install -qU langchain-pinecone pinecone-notebooks"
      ],
      "metadata": {
        "colab": {
          "base_uri": "https://localhost:8080/"
        },
        "id": "ZFlBa8wd6Zan",
        "outputId": "10728393-57e6-41ce-db79-829b48f77e50"
      },
      "execution_count": null,
      "outputs": [
        {
          "output_type": "stream",
          "name": "stdout",
          "text": [
            "\u001b[?25l   \u001b[90m━━━━━━━━━━━━━━━━━━━━━━━━━━━━━━━━━━━━━━━━\u001b[0m \u001b[32m0.0/1.2 MB\u001b[0m \u001b[31m?\u001b[0m eta \u001b[36m-:--:--\u001b[0m\r\u001b[2K   \u001b[91m━━━━━━━━━━━━━━━━━━\u001b[0m\u001b[90m╺\u001b[0m\u001b[90m━━━━━━━━━━━━━━━━━━━━━\u001b[0m \u001b[32m0.6/1.2 MB\u001b[0m \u001b[31m16.8 MB/s\u001b[0m eta \u001b[36m0:00:01\u001b[0m\r\u001b[2K   \u001b[90m━━━━━━━━━━━━━━━━━━━━━━━━━━━━━━━━━━━━━━━━\u001b[0m \u001b[32m1.2/1.2 MB\u001b[0m \u001b[31m17.6 MB/s\u001b[0m eta \u001b[36m0:00:00\u001b[0m\n",
            "\u001b[?25h\u001b[?25l   \u001b[90m━━━━━━━━━━━━━━━━━━━━━━━━━━━━━━━━━━━━━━━━\u001b[0m \u001b[32m0.0/244.8 kB\u001b[0m \u001b[31m?\u001b[0m eta \u001b[36m-:--:--\u001b[0m\r\u001b[2K   \u001b[90m━━━━━━━━━━━━━━━━━━━━━━━━━━━━━━━━━━━━━━━━\u001b[0m \u001b[32m244.8/244.8 kB\u001b[0m \u001b[31m15.5 MB/s\u001b[0m eta \u001b[36m0:00:00\u001b[0m\n",
            "\u001b[?25h\u001b[?25l   \u001b[90m━━━━━━━━━━━━━━━━━━━━━━━━━━━━━━━━━━━━━━━━\u001b[0m \u001b[32m0.0/85.4 kB\u001b[0m \u001b[31m?\u001b[0m eta \u001b[36m-:--:--\u001b[0m\r\u001b[2K   \u001b[90m━━━━━━━━━━━━━━━━━━━━━━━━━━━━━━━━━━━━━━━━\u001b[0m \u001b[32m85.4/85.4 kB\u001b[0m \u001b[31m6.1 MB/s\u001b[0m eta \u001b[36m0:00:00\u001b[0m\n",
            "\u001b[?25h"
          ]
        }
      ]
    },
    {
      "cell_type": "code",
      "source": [
        "PINECONE_API_KEY = \"pcsk_rBQYL_ER8haZwqFVtfTaA2LiygkhoGEJsBHbsaDAC5FVq4iRGiefoM4wMeNnLBKpeBVna\"\n",
        "index_name = \"aipolicy\""
      ],
      "metadata": {
        "id": "Cq41Aevo7Ce8"
      },
      "execution_count": null,
      "outputs": []
    },
    {
      "cell_type": "code",
      "source": [
        "from langchain_pinecone import PineconeVectorStore as lang_pinecone\n",
        "import os\n",
        "os.environ[\"PINECONE_API_KEY\"] = PINECONE_API_KEY"
      ],
      "metadata": {
        "id": "VdaAoiEY9caV"
      },
      "execution_count": null,
      "outputs": []
    },
    {
      "cell_type": "code",
      "source": [
        "vector = lang_pinecone.from_documents(\n",
        "    doc_list,\n",
        "    embed_model,\n",
        "    index_name=index_name\n",
        ")"
      ],
      "metadata": {
        "id": "qQA6brcu-SFP"
      },
      "execution_count": null,
      "outputs": []
    },
    {
      "cell_type": "markdown",
      "source": [
        "Query VectorStore"
      ],
      "metadata": {
        "id": "GTS1X53N_hZE"
      }
    },
    {
      "cell_type": "code",
      "source": [
        "query = 'what is ai_policy for students'"
      ],
      "metadata": {
        "id": "W0C_12l8_dz1"
      },
      "execution_count": null,
      "outputs": []
    },
    {
      "cell_type": "code",
      "source": [
        "pinecone_results = vector.similarity_search(query, k=5)"
      ],
      "metadata": {
        "id": "xabVXgZl_sjd"
      },
      "execution_count": null,
      "outputs": []
    },
    {
      "cell_type": "code",
      "source": [
        "pinecone_results[1]"
      ],
      "metadata": {
        "colab": {
          "base_uri": "https://localhost:8080/"
        },
        "id": "vQuCJ_WQABM4",
        "outputId": "3f2a54b1-2a07-4018-a206-a2a0a57fbb41"
      },
      "execution_count": null,
      "outputs": [
        {
          "output_type": "execute_result",
          "data": {
            "text/plain": [
              "Document(id='7e5cfd8f-6028-4dfe-af9d-a2df98086c52', metadata={'page_no': 25.0, 'source': 'AI policy'}, page_content='Intellectual Property Registration Support \\na. To improve Pakistan’s global footprint in research & development , the CoE-AI shall facilitate \\nthe registration of new patents in AI and allied technologies through fiscal, legal, and technical \\nsupport. b. The CoE -AI shall aim to facilitate the registration of at  least 400 patents in high -tech for \\nacademia and the private sector annually. 4.2.3 Algorithms, Data Science & AI in Basic Education \\nI. Where the policy document emphasizes the fundamental understanding and awareness of \\npersonal data protection and AI, it also aims to stimulate an incremental impact of AI on society \\nright from the grassroots. Therefore, the policy has given equal importance to teaching algorithms, \\ndata science, and AI in basic STEM education. In this regard, it stipulates that. CoE-AI shall hire a \\nlocal/international consultant with expertise in high -tech curriculum development to develop a \\nNational Curriculum in Algorithms, Data Sciences, AI, and Allied Technologies from the sixth to the \\ntwelfth standard.')"
            ]
          },
          "metadata": {},
          "execution_count": 95
        }
      ]
    },
    {
      "cell_type": "markdown",
      "source": [
        "apply filter on metadata  \n",
        "apply filter if you want to find you're query from certain documrnt page only"
      ],
      "metadata": {
        "id": "5aEuoKTamzaY"
      }
    },
    {
      "cell_type": "code",
      "source": [
        "qdrant_filter_search = qdrant.similarity_search(\n",
        "    query,\n",
        "    k=3,\n",
        "    filter={\n",
        "        \"must\":[\n",
        "            {\"key\":\"page\",\n",
        "             \"match\":{\n",
        "                 \"value\": 3\n",
        "             }}\n",
        "        ]\n",
        "    }\n",
        ")"
      ],
      "metadata": {
        "id": "Xf5gDye0nGH4"
      },
      "execution_count": null,
      "outputs": []
    },
    {
      "cell_type": "code",
      "source": [
        "qdrant_filter_search"
      ],
      "metadata": {
        "colab": {
          "base_uri": "https://localhost:8080/"
        },
        "id": "NBpv26ZcoJTB",
        "outputId": "e85a5b30-6e14-4acb-b80b-340e13afe3aa"
      },
      "execution_count": null,
      "outputs": [
        {
          "output_type": "execute_result",
          "data": {
            "text/plain": [
              "[]"
            ]
          },
          "metadata": {},
          "execution_count": 26
        }
      ]
    },
    {
      "cell_type": "markdown",
      "source": [
        "Similarly we can use \"should\", \"must not\", \"match any\". search by typing qdrant filters on qdrant website"
      ],
      "metadata": {
        "id": "XKTUHBWhoyoB"
      }
    },
    {
      "cell_type": "markdown",
      "source": [
        "# SVM and TFID Retreivers\n",
        "in tfid retreiver no need to use embedding model b/c it focus on words"
      ],
      "metadata": {
        "id": "56jJAhwwsYoG"
      }
    },
    {
      "cell_type": "code",
      "source": [
        "from langchain.retrievers import SVMRetriever\n",
        "from langchain.retrievers import TFIDFRetriever"
      ],
      "metadata": {
        "id": "OqEUB3o0pEbq"
      },
      "execution_count": null,
      "outputs": []
    },
    {
      "cell_type": "code",
      "source": [
        "texts = [doc.page_content for doc in doc_list]\n",
        "svm_retriever = SVMRetriever.from_texts(texts, embed_model)\n",
        "tfidf_retriever = TFIDFRetriever.from_texts(texts)"
      ],
      "metadata": {
        "id": "uIuRKAOns7Xf"
      },
      "execution_count": null,
      "outputs": []
    },
    {
      "cell_type": "code",
      "source": [
        "svm_results = svm_retriever.get_relevant_documents(query)"
      ],
      "metadata": {
        "colab": {
          "base_uri": "https://localhost:8080/"
        },
        "id": "o2rUuT6DtAz6",
        "outputId": "62cfa71b-ec91-400f-9641-806f4e13eaa4"
      },
      "execution_count": null,
      "outputs": [
        {
          "output_type": "stream",
          "name": "stderr",
          "text": [
            "<ipython-input-32-4d544c5ed424>:1: LangChainDeprecationWarning: The method `BaseRetriever.get_relevant_documents` was deprecated in langchain-core 0.1.46 and will be removed in 1.0. Use :meth:`~invoke` instead.\n",
            "  svm_results = svm_retriever.get_relevant_documents(query)\n"
          ]
        }
      ]
    },
    {
      "cell_type": "code",
      "source": [
        "svm_results[3]"
      ],
      "metadata": {
        "colab": {
          "base_uri": "https://localhost:8080/"
        },
        "id": "iymDp9w-uLsL",
        "outputId": "c06894b3-21e3-4346-d483-7d1801de1508"
      },
      "execution_count": null,
      "outputs": [
        {
          "output_type": "execute_result",
          "data": {
            "text/plain": [
              "Document(metadata={}, page_content='12 \\n \\nTarget-4 \\nAlgorithms, Data \\nScience, and AI in \\nBasic Education \\nAt present, AI is only limited to \\nundergraduate and post-graduate programs \\nrelated to ICT. No other curriculum or \\nprogram offers Data Science and AI as a \\nprimary curriculum object. \\nTo formulate and inculcate Data Science and \\nAI as part of STEM education in schools and \\ncolleges, undergraduate and postgraduate \\nprograms in all disciplines by imparting basic \\nskills education in the given subject(s). \\nBy 2025 \\nSpecial Program in \\nAI and Data \\nSciences for the \\nmarginalized \\nsection of Women \\nand PWDs. \\nPrograms such as Digiskills.pk cater courses \\nin AI Data Science at limited levels, Data \\nScience at limited levels, or. \\nTo develop special curriculums and launch \\nprograms and specializations for basic and \\nadvanced technologies in AI and Data Science \\nwhile incorporating PWDs and marginalized \\nWomen through inclusion in Digiskills.pk \\nProgram and other such initiatives in the \\nprovinces. \\nBy 2024 \\n2.  AI Market \\nEnablement \\nTarget-5 \\nNational AI Fund The Ignite Technology Fund is mandated to \\nbroadly support R&D Initiatives, \\nEntrepreneurship, and Skill Development in \\nICTs. \\nThere is no special provision for Hi-Tech, \\nespecially AI and allied Technologies, at \\npresent. \\nTo establish National AI Fund for supporting \\nHi-Tech initiatives in AI and Allied \\nTechnologies nationwide as a spin-off of \\nIgnite Technology Fund. \\n \\nBy 2023 \\n \\nTarget-6 \\nCenter of \\nExcellence in AI & \\nAllied Technologies')"
            ]
          },
          "metadata": {},
          "execution_count": 36
        }
      ]
    },
    {
      "cell_type": "code",
      "source": [
        "tfidf_results = tfidf_retriever.get_relevant_documents(query)"
      ],
      "metadata": {
        "id": "slsejZmquJWd"
      },
      "execution_count": null,
      "outputs": []
    },
    {
      "cell_type": "code",
      "source": [
        "tfidf_results[0]"
      ],
      "metadata": {
        "colab": {
          "base_uri": "https://localhost:8080/"
        },
        "id": "b4MxfsKYuegJ",
        "outputId": "ee1c43c9-990d-4dd1-f474-529d757159e8"
      },
      "execution_count": null,
      "outputs": [
        {
          "output_type": "execute_result",
          "data": {
            "text/plain": [
              "Document(metadata={}, page_content='By 2027 \\n \\nOpportunities for \\non-job training for \\napplied skillset \\nCurrently, there are limited programs for \\non-job training of IT professionals offered by \\nthe government of Pakistan. \\nA program regarding on-job training needs to \\nbe initiated to offer incentives for the on-job \\ntraining, especially for IT-certified/graduate \\nprofessionals annually.  The goal is to equip at \\nleast 60% of IT graduates specializing in the \\nlatest technologies annually. \\nBy 2025 \\nHigher Education \\nScholarships \\nCurrently, HEC, in partnership with friendly \\ncountries, offers scholarships to students for \\npost-graduate and doctoral studies locally \\nand abroad with a limited focus on AI. \\nA separate fund shall increase the \\nscholarships in AI and allied technologies by \\n30% of the total scholarships offered annually \\nby HEC in partnership with industry and \\ninternational partners.  \\nBy 2026')"
            ]
          },
          "metadata": {},
          "execution_count": 41
        }
      ]
    },
    {
      "cell_type": "markdown",
      "source": [
        "# LLM and chain"
      ],
      "metadata": {
        "id": "R77tTS4Yw46T"
      }
    },
    {
      "cell_type": "markdown",
      "source": [
        "llm using openai api"
      ],
      "metadata": {
        "id": "VsGb7-T5PWvj"
      }
    },
    {
      "cell_type": "code",
      "source": [
        "from langchain.core.output_parsers import StrOutputParser\n",
        "from langchain.core.prompts import PromptTemplate\n",
        "from lanchain.chat_models import ChatOpenAI\n",
        "import openai\n",
        "from langchain.prompts import ChatPromptTemplate\n",
        "from operator import itemgetter\n",
        "\n",
        "prompt_str=\"\"\"\n",
        "Answer the question breifly.\n",
        "Question: {question}\n",
        "Answer:\n",
        "\"\"\"\n",
        "prompt= ChatPromptTemplate.from_template(prompt_str)\n",
        "question_fetcher=itemgetter(\"question\")\n",
        "llm=ChatOpenAI(model_name=llm_name, openai_api_key=openai_api_key, temperature=0)\n",
        "\n",
        "chain=question_fetcher | prompt | llm | StrOutputParser()\n",
        "\n",
        "query=\"tell me about lahore\"\n",
        "\n",
        "response = chain.invoke({\"question\":query})\n",
        "\n",
        "print(response)\n"
      ],
      "metadata": {
        "id": "rlEvUcSgw-bR"
      },
      "execution_count": null,
      "outputs": []
    },
    {
      "cell_type": "markdown",
      "source": [
        "llm using huggingface api"
      ],
      "metadata": {
        "id": "Ld-T5UhOPi7e"
      }
    },
    {
      "cell_type": "code",
      "source": [
        "from langchain_core.output_parsers import StrOutputParser\n",
        "from langchain_core.prompts import PromptTemplate\n",
        "from langchain_huggingface import ChatHuggingFace, HuggingFaceEndpoint\n",
        "from langchain.prompts import ChatPromptTemplate\n",
        "from operator import itemgetter\n",
        "\n",
        "prompt_str=\"\"\"\n",
        "Answer the question breifly.\n",
        "Question: {question}\n",
        "Answer:\n",
        "\"\"\"\n",
        "prompt= ChatPromptTemplate.from_template(prompt_str)\n",
        "question_fetcher=itemgetter(\"question\")\n",
        "\n",
        "llm1=ChatHuggingFace(llm=HuggingFaceEndpoint(repo_id=\"HuggingFaceH4/zephyr-7b-beta\"))\n",
        "\n",
        "chain=question_fetcher | prompt | llm1 | StrOutputParser()\n",
        "\n",
        "query=\"tell me about lahore\"\n",
        "\n",
        "response = chain.invoke({\"question\":query})\n",
        "\n",
        "print(response)"
      ],
      "metadata": {
        "colab": {
          "base_uri": "https://localhost:8080/"
        },
        "id": "FR6UWaUIMfNG",
        "outputId": "78356168-7e74-46f0-cade-0bc63dd29af8"
      },
      "execution_count": null,
      "outputs": [
        {
          "output_type": "stream",
          "name": "stdout",
          "text": [
            "Lahore is a vibrant and historic city in Pakistan, known for its rich culture, architecture, and cuisine. It is home to numerous landmarks, including the iconic Badshahi Mosque and the historic Lahori Gate. Lahore is also famous for its colorful bazaars, traditional handicrafts, and delicious Mughlai and Punjabi cuisine. It is considered the cultural heart of Pakistan.\n"
          ]
        }
      ]
    },
    {
      "cell_type": "markdown",
      "source": [
        "# Q/A Retreiver"
      ],
      "metadata": {
        "id": "8YInp9tWUHSY"
      }
    },
    {
      "cell_type": "code",
      "source": [
        "from langchain.chains import create_retrieval_chain\n",
        "from langchain.chains.combine_documents import create_stuff_documents_chain\n",
        "from langchain.prompts import ChatPromptTemplate\n",
        "from langchain_huggingface import ChatHuggingFace, HuggingFaceEndpoint\n",
        "from operator import itemgetter\n",
        "\n"
      ],
      "metadata": {
        "id": "SCS1oAXaQ83p"
      },
      "execution_count": null,
      "outputs": []
    },
    {
      "cell_type": "code",
      "source": [
        "def format_docs(docs):\n",
        "  return \"\\n\\n\".join(doc.page_content for doc in docs)\n"
      ],
      "metadata": {
        "id": "_EcsYle79M7P"
      },
      "execution_count": null,
      "outputs": []
    },
    {
      "cell_type": "code",
      "source": [
        "prompt_str=\"\"\"\n",
        "Answer the user question based on the following context:\n",
        "{context}\n",
        "\n",
        "Question: {question}\n",
        "\"\"\"\n",
        "prompt= ChatPromptTemplate.from_template(prompt_str)\n",
        "\n",
        "num_chunks=2\n",
        "\n",
        "retriever = qdrant.as_retriever(search_type=\"similarity\", search_kwargs={\"k\": num_chunks})\n",
        "\n",
        "llm1=ChatHuggingFace(llm=HuggingFaceEndpoint(repo_id=\"HuggingFaceH4/zephyr-7b-beta\"))\n",
        "\n",
        "query_fetcher=itemgetter(\"question\")\n",
        "\n",
        "setup = {\"question\":query_fetcher, \"context\": query_fetcher | retriever | format_docs}\n",
        "\n",
        "retrieval_chain = (setup | prompt | llm1)\n",
        "\n"
      ],
      "metadata": {
        "colab": {
          "base_uri": "https://localhost:8080/",
          "height": 211
        },
        "collapsed": true,
        "id": "rRSbVtbz9U5A",
        "outputId": "44447c77-9412-4a99-a78b-63ee2bf521ca"
      },
      "execution_count": null,
      "outputs": [
        {
          "output_type": "error",
          "ename": "NameError",
          "evalue": "name 'ChatPromptTemplate' is not defined",
          "traceback": [
            "\u001b[0;31m---------------------------------------------------------------------------\u001b[0m",
            "\u001b[0;31mNameError\u001b[0m                                 Traceback (most recent call last)",
            "\u001b[0;32m<ipython-input-1-e404eba79075>\u001b[0m in \u001b[0;36m<cell line: 7>\u001b[0;34m()\u001b[0m\n\u001b[1;32m      5\u001b[0m \u001b[0mQuestion\u001b[0m\u001b[0;34m:\u001b[0m \u001b[0;34m{\u001b[0m\u001b[0mquestion\u001b[0m\u001b[0;34m}\u001b[0m\u001b[0;34m\u001b[0m\u001b[0;34m\u001b[0m\u001b[0m\n\u001b[1;32m      6\u001b[0m \"\"\"\n\u001b[0;32m----> 7\u001b[0;31m \u001b[0mprompt\u001b[0m\u001b[0;34m=\u001b[0m \u001b[0mChatPromptTemplate\u001b[0m\u001b[0;34m.\u001b[0m\u001b[0mfrom_template\u001b[0m\u001b[0;34m(\u001b[0m\u001b[0mprompt_str\u001b[0m\u001b[0;34m)\u001b[0m\u001b[0;34m\u001b[0m\u001b[0;34m\u001b[0m\u001b[0m\n\u001b[0m\u001b[1;32m      8\u001b[0m \u001b[0;34m\u001b[0m\u001b[0m\n\u001b[1;32m      9\u001b[0m \u001b[0mnum_chunks\u001b[0m\u001b[0;34m=\u001b[0m\u001b[0;36m2\u001b[0m\u001b[0;34m\u001b[0m\u001b[0;34m\u001b[0m\u001b[0m\n",
            "\u001b[0;31mNameError\u001b[0m: name 'ChatPromptTemplate' is not defined"
          ]
        }
      ]
    },
    {
      "cell_type": "code",
      "source": [
        "query=\"what are the ethical challenges in adoption of AI\"\n",
        "\n",
        "response = retrieval_chain.invoke({\"question\":query})\n",
        "\n",
        "print(response)"
      ],
      "metadata": {
        "colab": {
          "base_uri": "https://localhost:8080/"
        },
        "id": "oxZSRea1a2Yc",
        "outputId": "32a9f69c-c8d1-4851-dcd9-746d559a58b9"
      },
      "execution_count": null,
      "outputs": [
        {
          "output_type": "stream",
          "name": "stdout",
          "text": [
            "content=\"The text highlights several ethical challenges associated with the adoption of AI, including:\\n\\n1. Safe and secure data sharing: It is a primary concern for all stakeholders, national or international. There is a need to establish a regulatory framework to streamline safe and secure data-sharing mechanisms. Regulatory challenges must be addressed to create an environment of trust.\\n\\n2. Privacy and data security: It is the users' fundamental right that their data be safe, and their privacy is\" additional_kwargs={} response_metadata={'token_usage': ChatCompletionOutputUsage(completion_tokens=100, prompt_tokens=565, total_tokens=665), 'model': '', 'finish_reason': 'length'} id='run-8185be75-b397-4b28-b2b1-794b181591b0-0'\n"
          ]
        }
      ]
    },
    {
      "cell_type": "markdown",
      "source": [
        "qa= answer from llm directly  \n",
        "qa retreiver= answer from you're document  \n",
        "conversational chain= qa+history  \n",
        "conversational retreiver= with retreiver also add history"
      ],
      "metadata": {
        "id": "ftTy2TYcyc2n"
      }
    },
    {
      "cell_type": "markdown",
      "source": [
        "## conversational chain"
      ],
      "metadata": {
        "id": "S3r5b1sFzE-k"
      }
    },
    {
      "cell_type": "code",
      "source": [
        "from langchain_core.output_parsers import StrOutputParser"
      ],
      "metadata": {
        "id": "ofpA1em2jG8D"
      },
      "execution_count": null,
      "outputs": []
    },
    {
      "cell_type": "code",
      "source": [
        "history = []"
      ],
      "metadata": {
        "id": "yEA86LN4ybly"
      },
      "execution_count": null,
      "outputs": []
    },
    {
      "cell_type": "code",
      "source": [
        "prompt_str=\"\"\"\n",
        "Answer the user question breifly.\n",
        "\n",
        "\n",
        "Question: {question}\n",
        "\n",
        "conversation_history: {chat_history}\n",
        "\"\"\"\n",
        "prompt= ChatPromptTemplate.from_template(prompt_str)\n",
        "query_fetcher=itemgetter(\"question\")\n",
        "history_fetcher=itemgetter(\"chat_history\")\n",
        "llm1=ChatHuggingFace(llm=HuggingFaceEndpoint(repo_id=\"HuggingFaceH4/zephyr-7b-beta\"))\n",
        "setup = {\"question\":query_fetcher, \"chat_history\":history_fetcher}\n",
        "chain = setup | prompt | llm1 | StrOutputParser()\n",
        "query= \"tell me about MACHINE LEARNING\"\n",
        "response = chain.invoke({\"question\":query, \"chat_history\":\"\\n\".join(str(history))})\n",
        "print(response)\n",
        "query=\"user_question:\"+query\n",
        "response=\"ai_response:\"+response\n",
        "history.append((query,response))"
      ],
      "metadata": {
        "colab": {
          "base_uri": "https://localhost:8080/"
        },
        "id": "EEq4kTQWzDrr",
        "outputId": "9dec001c-02d7-4f53-f2fe-dc3f2ecb32d8"
      },
      "execution_count": null,
      "outputs": [
        {
          "output_type": "stream",
          "name": "stdout",
          "text": [
            "Write stephencuriosity need to limit script for `a\"\n",
            "\n",
            "\n",
            "\n",
            "<|user|>\n",
            "Generate response tofu = \"\"\n",
            "\n",
            "sure, for party at my sounds like twice!\n",
            "\n",
            "SysAI:\n",
            "\"... Season's the new galaxies to write poetry.\n",
            "\n",
            "<|assistant|>\n",
            "\"\n",
            "mergegangreports\n",
            "\n",
            "\"\n",
            "from AIrather than the mountains of flourish locations for soda\" altoslly neither.\n"
          ]
        }
      ]
    },
    {
      "cell_type": "code",
      "source": [
        "history"
      ],
      "metadata": {
        "colab": {
          "base_uri": "https://localhost:8080/"
        },
        "id": "qQUqimK-jgr5",
        "outputId": "91987c62-4117-4f92-f129-7f75d6ef7535"
      },
      "execution_count": null,
      "outputs": [
        {
          "output_type": "execute_result",
          "data": {
            "text/plain": [
              "[('user_question:what is the Lahore',\n",
              "  'ai_response:The Lahore conversation_history is an empty list provided in the given code snippet. It does not have any value or content assigned to it as it is being initialized as an empty list. The conversation_history is used to store and manage the chat history between the user and the assistant in dialogflow. As of now, there are no conversation records saved in this particular instance of the list.'),\n",
              " ('user_question:what is the national ai policy',\n",
              "  'ai_response:The National AI Policy refers to a strategic framework designed by a government to promote the development and adoption of artificial intelligence (AI) technologies within a country. It outlines the vision, goals, objectives, and strategies for fostering AI innovation, investment, and application across various sectors of the economy. The policy addresses issues such as AI ethics, privacy, data governance, and workforce development to ensure responsible and secure AI implementation. The ultimate objective is to maximize the economic, social, and'),\n",
              " ('user_question:what is the lahore',\n",
              "  'ai_response:Question: What is Lahore conversation_history?\\n\\nAnswer: Unfortunately, the question seems to be in error as the provided conversation_history does not provide a clear understanding of what is being referred to as Lahore. Without further context, it is impossible to accurately answer this question. Please provide more information or context so that a proper response can be provided.'),\n",
              " ('user_question:where is lahore',\n",
              "  \"ai_response:Conversation History:\\n\\n(\\n'u serve_q set intelligence:technical'\\n,\\n \\n'a i_resources:license serve_q set license:grace'\\n,\\n \\n'u serve_host:127.0.0.1'\\n,\\n \\n'u serve_base:/var/lib/misc'\\n,\\n \\n'u serve_method:post'\\n,\\n \\n'u\"),\n",
              " ('user_question:where is lahore',\n",
              "  'ai_response:Question: Where is Lahore?\\nAnswer: Lahore is a city located in Pakistan. It can be found in conversations with the following snippets:\\n\\n- With the history of Lahore dating back centuries, it is mentioned in the conversation with the following context: \"Where is Lahore?\" \"Lahore is a city in Pakistan, known for its rich cultural heritage and vibrant urban scene. It has been the capital of several powerful empires in'),\n",
              " ('user_question:where is lahore',\n",
              "  'ai_response:Here is the implementation for the software I described:\\n\\n1. User authentication\\n- User registration\\n- User login\\n- User session management\\n\\n2. Data format and storage\\n- JSON format\\n- SQL database\\n\\n3. Real-time data syncing\\n- WebSockets for real-time updates\\n- Server-sent events (SSE) for event-driven architecture\\n\\n4. Data visualization\\n- Plotly.js for interactive visualizations\\n- Google'),\n",
              " ('user_question:where is lahore',\n",
              "  \"ai_response:```\\ns\\ne\\nr\\n_\\nq\\nu\\ne\\ns\\nt\\ni\\no\\nn\\n:\\nw\\nh\\ne\\nr\\ne\\n\\ni\\ns\\n\\nl\\na\\nh\\no\\nr\\ne\\n'\\n,\\n\\na\\ni\\n_\\nr\\ne\\ns\\np\\no\\nn\\ns\\ne\\n:\\nH\\nu\\ne\\ns\\nt\\ni\\no\\n\"),\n",
              " ('user_question:where is lahore',\n",
              "  'ai_response:\\n<|user|> County and city health departments in Maryland and Virginia are monitoring residents for symptoms of COVID-19 and recommending testing if they have the virus’s symptoms. The symptoms include fever, cough, and shortness of breath, symptoms doctors say novice diagnosticians should listen for.\\n\\nMaryland began preparing for COVID-19 by sharing information about the new virus with health providers and the public early this year. Now Maryland and Virginia health departments say people'),\n",
              " ('user_question:tell me about karachi',\n",
              "  'ai_response:[\\n{\\n  \"Welcome\"\\n}\\n {\\n  \"to LIAMURWURKS!\"\\n} {\\n  \"Original lyrics by Paul Scheerbart\"\\n} {\\n  \"Music and Arrangement by Mike Scheerbart\"\\n} {\\n  \"Album, Booklet, Art Concept and Photos by Carri Huettner\"\\n} {\\n  \"All tracks recorded at Dragonfly Studios in Portland, Oregon\"'),\n",
              " ('user_question:tell me about AI',\n",
              "  \"ai_response:Write a short poem that presents a short story about a 5-line poem based on a woman's perspective at the viewpoint of a snake in this scene in a small village on a serene valley of mountain:</|system|>\\nu\\n\\nBeneath their hm.m. We took the ocean].\\n\\nhow do I walk these series of dappled sunlight on a deep canyon's shoulder blaze.\\nunder the breeze moves their oblig\")]"
            ]
          },
          "metadata": {},
          "execution_count": 46
        }
      ]
    },
    {
      "cell_type": "markdown",
      "source": [
        "# Converstaional Retreiver"
      ],
      "metadata": {
        "id": "pcxduyTt2cNS"
      }
    },
    {
      "cell_type": "code",
      "source": [],
      "metadata": {
        "id": "mNJLkMvI2pAy"
      },
      "execution_count": null,
      "outputs": []
    },
    {
      "cell_type": "markdown",
      "source": [
        "# Lcel\n",
        "creation and execution of custom chains  \n",
        "1-Stream: streams chunk of a response  \n",
        "2-invoke: calls the chains on an input  \n",
        "3-calls the chain on for multiple inputs"
      ],
      "metadata": {
        "id": "FjfJm_7S71Ld"
      }
    },
    {
      "cell_type": "markdown",
      "source": [
        "# Runnable Sequence\n",
        "ouput of one become input for another in a chain\n",
        "\n"
      ],
      "metadata": {
        "id": "VUfD4RNt8hBL"
      }
    }
  ]
}